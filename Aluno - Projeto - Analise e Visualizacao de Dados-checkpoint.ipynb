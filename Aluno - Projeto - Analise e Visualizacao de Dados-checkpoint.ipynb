{
 "cells": [
  {
   "attachments": {
    "image.png": {
     "image/png": "[encoded data removed]"
    }
   },
   "cell_type": "markdown",
   "metadata": {},
   "source": [
    "# Projeto - Análise e Visualização de Dados\n",
    "\n",
    "Em nossas aulas, conhecemos as principais bibliotecas para se trabalhar com Análise e Visualização de Dados em Python. Aprendemos também como trabalhar com tabelas e fazer operações sobre elas, de modo que possamos analisar e inferir sobre uma base de dados existente.\n",
    "\n",
    "Para este projeto, imagine que o seu chefe disponibilize uma base de dados para que você possa analisá-la a partir dos seus conhecimentos em Python. Para essa tarefa, você deve utilizar o Matplotlib para visualização de alguns gráficos e demais bibliotecas, Pandas e NumPy para análise e manipulação dos dados. Com o correto uso das funcionalidades da linguagem, você será capaz de conduzir de maneira correta, a análise e visualização de dados, trabalho básico de um Cientista de Dados.\n",
    "Para iniciar o seu projeto, siga as instruções abaixo:\n",
    "\n",
    "* Faça o download dos arquivos disponibilizados nesta aula e armazene na mesma pasta em que irá armazenar os seus arquivos de código.\n",
    "* Carregue a tabela .csv para que você possa fazer a leitura de dados da mesma\n",
    "* Imprima parte do conteúdo para verificar se a leitura está acontecendo corretamente\n",
    "![image.png](attachment:image.png)\n",
    "\n",
    "**Obs: Nessa primeira etapa, indicada pelas instruções acima, eu já te ajudei, indicando o caminho para carregar a tabela, conforme código abaixo :D #ThanksGod**"
   ]
  },
  {
   "cell_type": "code",
   "execution_count": 109,
   "metadata": {},
   "outputs": [
    {
     "data": {
      "text/html": [
       "<div>\n",
       "<style scoped>\n",
       "    .dataframe tbody tr th:only-of-type {\n",
       "        vertical-align: middle;\n",
       "    }\n",
       "\n",
       "    .dataframe tbody tr th {\n",
       "        vertical-align: top;\n",
       "    }\n",
       "\n",
       "    .dataframe thead th {\n",
       "        text-align: right;\n",
       "    }\n",
       "</style>\n",
       "<table border=\"1\" class=\"dataframe\">\n",
       "  <thead>\n",
       "    <tr style=\"text-align: right;\">\n",
       "      <th></th>\n",
       "      <th>Gestor</th>\n",
       "      <th>Canal de Origem</th>\n",
       "      <th>Região</th>\n",
       "      <th>UF</th>\n",
       "      <th>Cidade</th>\n",
       "      <th>Sexo</th>\n",
       "      <th>Faixa Etária</th>\n",
       "      <th>Ano Abertura</th>\n",
       "      <th>Mês Abertura</th>\n",
       "      <th>Data Abertura</th>\n",
       "      <th>...</th>\n",
       "      <th>Como Comprou Contratou</th>\n",
       "      <th>Procurou Empresa</th>\n",
       "      <th>Respondida</th>\n",
       "      <th>Situação</th>\n",
       "      <th>Avaliação Reclamação</th>\n",
       "      <th>Nota do Consumidor</th>\n",
       "      <th>Análise da Recusa</th>\n",
       "      <th>Edição de Conteúdo</th>\n",
       "      <th>Interação do Gestor</th>\n",
       "      <th>Total</th>\n",
       "    </tr>\n",
       "  </thead>\n",
       "  <tbody>\n",
       "    <tr>\n",
       "      <th>0</th>\n",
       "      <td>Secretaria Nacional do Consumidor</td>\n",
       "      <td>Não identificado</td>\n",
       "      <td>SE</td>\n",
       "      <td>RJ</td>\n",
       "      <td>Itaboraí</td>\n",
       "      <td>M</td>\n",
       "      <td>entre 31 a 40 anos</td>\n",
       "      <td>2014</td>\n",
       "      <td>6</td>\n",
       "      <td>27/06/2014</td>\n",
       "      <td>...</td>\n",
       "      <td>Não comprei / contratei</td>\n",
       "      <td>S</td>\n",
       "      <td>S</td>\n",
       "      <td>Finalizada não avaliada</td>\n",
       "      <td>Não Avaliada</td>\n",
       "      <td>NaN</td>\n",
       "      <td>NaN</td>\n",
       "      <td>N</td>\n",
       "      <td>N</td>\n",
       "      <td>1</td>\n",
       "    </tr>\n",
       "    <tr>\n",
       "      <th>1</th>\n",
       "      <td>Instituto Estadual de Proteção e Defesa do Con...</td>\n",
       "      <td>Não identificado</td>\n",
       "      <td>SE</td>\n",
       "      <td>ES</td>\n",
       "      <td>Serra</td>\n",
       "      <td>F</td>\n",
       "      <td>entre 31 a 40 anos</td>\n",
       "      <td>2014</td>\n",
       "      <td>6</td>\n",
       "      <td>11/06/2014</td>\n",
       "      <td>...</td>\n",
       "      <td>Internet</td>\n",
       "      <td>S</td>\n",
       "      <td>S</td>\n",
       "      <td>Finalizada avaliada</td>\n",
       "      <td>Não Resolvida</td>\n",
       "      <td>1.0</td>\n",
       "      <td>NaN</td>\n",
       "      <td>N</td>\n",
       "      <td>N</td>\n",
       "      <td>1</td>\n",
       "    </tr>\n",
       "    <tr>\n",
       "      <th>2</th>\n",
       "      <td>Secretaria Nacional do Consumidor</td>\n",
       "      <td>Não identificado</td>\n",
       "      <td>SE</td>\n",
       "      <td>RJ</td>\n",
       "      <td>Volta Redonda</td>\n",
       "      <td>M</td>\n",
       "      <td>entre 31 a 40 anos</td>\n",
       "      <td>2014</td>\n",
       "      <td>6</td>\n",
       "      <td>27/06/2014</td>\n",
       "      <td>...</td>\n",
       "      <td>Internet</td>\n",
       "      <td>S</td>\n",
       "      <td>S</td>\n",
       "      <td>Finalizada avaliada</td>\n",
       "      <td>Resolvida</td>\n",
       "      <td>5.0</td>\n",
       "      <td>NaN</td>\n",
       "      <td>N</td>\n",
       "      <td>N</td>\n",
       "      <td>1</td>\n",
       "    </tr>\n",
       "    <tr>\n",
       "      <th>3</th>\n",
       "      <td>Instituto de Promoção e Defesa do Cidadão e Co...</td>\n",
       "      <td>Não identificado</td>\n",
       "      <td>NE</td>\n",
       "      <td>MA</td>\n",
       "      <td>São Luís</td>\n",
       "      <td>F</td>\n",
       "      <td>entre 31 a 40 anos</td>\n",
       "      <td>2014</td>\n",
       "      <td>5</td>\n",
       "      <td>29/05/2014</td>\n",
       "      <td>...</td>\n",
       "      <td>Não comprei / contratei</td>\n",
       "      <td>S</td>\n",
       "      <td>S</td>\n",
       "      <td>Finalizada avaliada</td>\n",
       "      <td>Resolvida</td>\n",
       "      <td>5.0</td>\n",
       "      <td>NaN</td>\n",
       "      <td>N</td>\n",
       "      <td>N</td>\n",
       "      <td>1</td>\n",
       "    </tr>\n",
       "    <tr>\n",
       "      <th>4</th>\n",
       "      <td>Secretaria de Desenvolvimento Social e Direito...</td>\n",
       "      <td>Não identificado</td>\n",
       "      <td>NE</td>\n",
       "      <td>PE</td>\n",
       "      <td>Recife</td>\n",
       "      <td>M</td>\n",
       "      <td>entre 21 a 30 anos</td>\n",
       "      <td>2014</td>\n",
       "      <td>6</td>\n",
       "      <td>30/06/2014</td>\n",
       "      <td>...</td>\n",
       "      <td>Internet</td>\n",
       "      <td>S</td>\n",
       "      <td>S</td>\n",
       "      <td>Finalizada não avaliada</td>\n",
       "      <td>Não Avaliada</td>\n",
       "      <td>NaN</td>\n",
       "      <td>NaN</td>\n",
       "      <td>N</td>\n",
       "      <td>N</td>\n",
       "      <td>1</td>\n",
       "    </tr>\n",
       "    <tr>\n",
       "      <th>5</th>\n",
       "      <td>Instituto de Promoção e Defesa do Cidadão e Co...</td>\n",
       "      <td>Não identificado</td>\n",
       "      <td>NE</td>\n",
       "      <td>MA</td>\n",
       "      <td>São Luís</td>\n",
       "      <td>M</td>\n",
       "      <td>entre 51 a 60 anos</td>\n",
       "      <td>2014</td>\n",
       "      <td>5</td>\n",
       "      <td>16/05/2014</td>\n",
       "      <td>...</td>\n",
       "      <td>Loja física</td>\n",
       "      <td>S</td>\n",
       "      <td>S</td>\n",
       "      <td>Finalizada avaliada</td>\n",
       "      <td>Resolvida</td>\n",
       "      <td>3.0</td>\n",
       "      <td>NaN</td>\n",
       "      <td>N</td>\n",
       "      <td>N</td>\n",
       "      <td>1</td>\n",
       "    </tr>\n",
       "    <tr>\n",
       "      <th>6</th>\n",
       "      <td>Secretaria de Desenvolvimento Social e Direito...</td>\n",
       "      <td>Não identificado</td>\n",
       "      <td>NE</td>\n",
       "      <td>PE</td>\n",
       "      <td>Recife</td>\n",
       "      <td>F</td>\n",
       "      <td>entre 51 a 60 anos</td>\n",
       "      <td>2014</td>\n",
       "      <td>6</td>\n",
       "      <td>27/06/2014</td>\n",
       "      <td>...</td>\n",
       "      <td>Internet</td>\n",
       "      <td>S</td>\n",
       "      <td>S</td>\n",
       "      <td>Finalizada não avaliada</td>\n",
       "      <td>Não Avaliada</td>\n",
       "      <td>NaN</td>\n",
       "      <td>NaN</td>\n",
       "      <td>N</td>\n",
       "      <td>N</td>\n",
       "      <td>1</td>\n",
       "    </tr>\n",
       "    <tr>\n",
       "      <th>7</th>\n",
       "      <td>Instituto Estadual de Proteção e Defesa do Con...</td>\n",
       "      <td>Não identificado</td>\n",
       "      <td>SE</td>\n",
       "      <td>ES</td>\n",
       "      <td>Vitória</td>\n",
       "      <td>M</td>\n",
       "      <td>entre 21 a 30 anos</td>\n",
       "      <td>2014</td>\n",
       "      <td>6</td>\n",
       "      <td>28/06/2014</td>\n",
       "      <td>...</td>\n",
       "      <td>Telefone</td>\n",
       "      <td>S</td>\n",
       "      <td>S</td>\n",
       "      <td>Finalizada avaliada</td>\n",
       "      <td>Não Resolvida</td>\n",
       "      <td>1.0</td>\n",
       "      <td>NaN</td>\n",
       "      <td>N</td>\n",
       "      <td>N</td>\n",
       "      <td>1</td>\n",
       "    </tr>\n",
       "    <tr>\n",
       "      <th>8</th>\n",
       "      <td>Superintendência de Defesa do Consumidor do Es...</td>\n",
       "      <td>Não identificado</td>\n",
       "      <td>CO</td>\n",
       "      <td>MT</td>\n",
       "      <td>Cuiabá</td>\n",
       "      <td>M</td>\n",
       "      <td>entre 21 a 30 anos</td>\n",
       "      <td>2014</td>\n",
       "      <td>6</td>\n",
       "      <td>23/06/2014</td>\n",
       "      <td>...</td>\n",
       "      <td>Loja física</td>\n",
       "      <td>N</td>\n",
       "      <td>S</td>\n",
       "      <td>Finalizada avaliada</td>\n",
       "      <td>Resolvida</td>\n",
       "      <td>5.0</td>\n",
       "      <td>NaN</td>\n",
       "      <td>N</td>\n",
       "      <td>N</td>\n",
       "      <td>1</td>\n",
       "    </tr>\n",
       "    <tr>\n",
       "      <th>9</th>\n",
       "      <td>Instituto Estadual de Proteção e Defesa do Con...</td>\n",
       "      <td>Não identificado</td>\n",
       "      <td>SE</td>\n",
       "      <td>ES</td>\n",
       "      <td>Vitória</td>\n",
       "      <td>M</td>\n",
       "      <td>entre 41 a 50 anos</td>\n",
       "      <td>2014</td>\n",
       "      <td>6</td>\n",
       "      <td>17/06/2014</td>\n",
       "      <td>...</td>\n",
       "      <td>Loja física</td>\n",
       "      <td>S</td>\n",
       "      <td>S</td>\n",
       "      <td>Finalizada avaliada</td>\n",
       "      <td>Resolvida</td>\n",
       "      <td>5.0</td>\n",
       "      <td>NaN</td>\n",
       "      <td>N</td>\n",
       "      <td>N</td>\n",
       "      <td>1</td>\n",
       "    </tr>\n",
       "  </tbody>\n",
       "</table>\n",
       "<p>10 rows × 38 columns</p>\n",
       "</div>"
      ],
      "text/plain": [
       "                                              Gestor   Canal de Origem Região  \\\n",
       "0                  Secretaria Nacional do Consumidor  Não identificado     SE   \n",
       "1  Instituto Estadual de Proteção e Defesa do Con...  Não identificado     SE   \n",
       "2                  Secretaria Nacional do Consumidor  Não identificado     SE   \n",
       "3  Instituto de Promoção e Defesa do Cidadão e Co...  Não identificado     NE   \n",
       "4  Secretaria de Desenvolvimento Social e Direito...  Não identificado     NE   \n",
       "5  Instituto de Promoção e Defesa do Cidadão e Co...  Não identificado     NE   \n",
       "6  Secretaria de Desenvolvimento Social e Direito...  Não identificado     NE   \n",
       "7  Instituto Estadual de Proteção e Defesa do Con...  Não identificado     SE   \n",
       "8  Superintendência de Defesa do Consumidor do Es...  Não identificado     CO   \n",
       "9  Instituto Estadual de Proteção e Defesa do Con...  Não identificado     SE   \n",
       "\n",
       "   UF         Cidade Sexo        Faixa Etária  Ano Abertura  Mês Abertura  \\\n",
       "0  RJ       Itaboraí    M  entre 31 a 40 anos          2014             6   \n",
       "1  ES          Serra    F  entre 31 a 40 anos          2014             6   \n",
       "2  RJ  Volta Redonda    M  entre 31 a 40 anos          2014             6   \n",
       "3  MA       São Luís    F  entre 31 a 40 anos          2014             5   \n",
       "4  PE         Recife    M  entre 21 a 30 anos          2014             6   \n",
       "5  MA       São Luís    M  entre 51 a 60 anos          2014             5   \n",
       "6  PE         Recife    F  entre 51 a 60 anos          2014             6   \n",
       "7  ES        Vitória    M  entre 21 a 30 anos          2014             6   \n",
       "8  MT         Cuiabá    M  entre 21 a 30 anos          2014             6   \n",
       "9  ES        Vitória    M  entre 41 a 50 anos          2014             6   \n",
       "\n",
       "  Data Abertura  ...   Como Comprou Contratou Procurou Empresa Respondida  \\\n",
       "0    27/06/2014  ...  Não comprei / contratei                S          S   \n",
       "1    11/06/2014  ...                 Internet                S          S   \n",
       "2    27/06/2014  ...                 Internet                S          S   \n",
       "3    29/05/2014  ...  Não comprei / contratei                S          S   \n",
       "4    30/06/2014  ...                 Internet                S          S   \n",
       "5    16/05/2014  ...              Loja física                S          S   \n",
       "6    27/06/2014  ...                 Internet                S          S   \n",
       "7    28/06/2014  ...                 Telefone                S          S   \n",
       "8    23/06/2014  ...              Loja física                N          S   \n",
       "9    17/06/2014  ...              Loja física                S          S   \n",
       "\n",
       "                  Situação Avaliação Reclamação Nota do Consumidor  \\\n",
       "0  Finalizada não avaliada         Não Avaliada                NaN   \n",
       "1      Finalizada avaliada        Não Resolvida                1.0   \n",
       "2      Finalizada avaliada            Resolvida                5.0   \n",
       "3      Finalizada avaliada            Resolvida                5.0   \n",
       "4  Finalizada não avaliada         Não Avaliada                NaN   \n",
       "5      Finalizada avaliada            Resolvida                3.0   \n",
       "6  Finalizada não avaliada         Não Avaliada                NaN   \n",
       "7      Finalizada avaliada        Não Resolvida                1.0   \n",
       "8      Finalizada avaliada            Resolvida                5.0   \n",
       "9      Finalizada avaliada            Resolvida                5.0   \n",
       "\n",
       "  Análise da Recusa Edição de Conteúdo Interação do Gestor Total  \n",
       "0               NaN                  N                   N     1  \n",
       "1               NaN                  N                   N     1  \n",
       "2               NaN                  N                   N     1  \n",
       "3               NaN                  N                   N     1  \n",
       "4               NaN                  N                   N     1  \n",
       "5               NaN                  N                   N     1  \n",
       "6               NaN                  N                   N     1  \n",
       "7               NaN                  N                   N     1  \n",
       "8               NaN                  N                   N     1  \n",
       "9               NaN                  N                   N     1  \n",
       "\n",
       "[10 rows x 38 columns]"
      ]
     },
     "execution_count": 109,
     "metadata": {},
     "output_type": "execute_result"
    }
   ],
   "source": [
    "# importa a biblioteca pandas\n",
    "import pandas as pd\n",
    "# armazena os dados da tabela em uma estrutura tipo data frame\n",
    "df = pd.read_csv(\"dadosgovbr---2014.csv\",sep = ';', encoding=\"latin-1\")\n",
    "# visualizar alguns dados da tabela carregada\n",
    "df.head(10)"
   ]
  },
  {
   "cell_type": "markdown",
   "metadata": {},
   "source": [
    "Aí vai uma dica preciosa: Para responder questões relacionadas a frequência de ocorrências, como exemplo, você pode testar o comando a seguir:\n",
    "         \n",
    "         df.Região.value_counts()\n",
    "         \n",
    "O código acima retorna a quantidade de ocorrências de registros de uma determinada região. Use essa lógica quando necessário.\n",
    "Em relação as demais questões, consulte diversas fontes, caso necessário, para responder corretamente. Dessa forma, tendo como base o data frame em questão, responda as questões relacionadas:\n",
    "\n",
    "### Análise de Dados\n",
    "\n",
    "1. Qual a quantidade de reclamações registradas?\n",
    "2. Qual é o tempo médio, máximo e mínimo de resposta?\n",
    "3. Qual é a nota média, máxima e mínima do consumidor?\n",
    "4. Como podemos correlacionar a nota do consumidor com o tempo de resposta? Explique.\n",
    "5. Qual a quantidade de reclamações por Sexo?\n",
    "6. Qual a quantidade de reclamações por Estado?\n",
    "4. Qual é a porcentagem de reclamações registradas e não respondidas?\n",
    "\n",
    "### Visualização de Dados\n",
    "\n",
    "Neste momento iremos trabalhar com visualização de dados. Antes de iniciar a impressão dos gráficos, trate de fazer as configurações iniciais para que a impressão ocorra no Jupyter de maneira correta e com todos os requisitos necessários para melhoria da apresentação como um todo. Faça o melhor possível, como se fosse apresentar para o seu chefe. Siga as instruções a seguir:\n",
    "\n",
    "5. Gere um gráfico com titulo, nome dos eixos, cor e legenda para as seguintes situações:\n",
    "   * a) Frequência de reclamações por sexo\n",
    "   * b) Frequencia de reclamações por estado\n",
    "   * c) Frequência de reclamações respondidas e não respondidas\n",
    "6. Imagine que você é um Cientista de Dados responsável por medir a satisfação dos clientes. Para que você possa surpreender seu chefe, você deve fazer duas análises importantes sobre o data frame, incluindo no mínimo dois gráficos com suas devidas personalizações de titulo, nome dos eixos, legenda, estilos etc. Considere que, ao trazer informações relevantes para a empresa em que trabalha, mais chances de ter o seu trabalho reconhecido e de ser um profissional com maior valor no mercado. Capriche nos gráficos!"
   ]
  },
  {
   "cell_type": "code",
   "execution_count": 110,
   "metadata": {
    "scrolled": true
   },
   "outputs": [
    {
     "data": {
      "text/plain": [
       "Ano Abertura\n",
       "2014    43987\n",
       "dtype: int64"
      ]
     },
     "execution_count": 110,
     "metadata": {},
     "output_type": "execute_result"
    }
   ],
   "source": [
    "# Resposta questão 1: \n",
    "# 1- Qual a quantidade de reclamações registradas?\n",
    "df.value_counts(\"Ano Abertura\")"
   ]
  },
  {
   "cell_type": "code",
   "execution_count": 111,
   "metadata": {},
   "outputs": [
    {
     "data": {
      "text/html": [
       "<div>\n",
       "<style scoped>\n",
       "    .dataframe tbody tr th:only-of-type {\n",
       "        vertical-align: middle;\n",
       "    }\n",
       "\n",
       "    .dataframe tbody tr th {\n",
       "        vertical-align: top;\n",
       "    }\n",
       "\n",
       "    .dataframe thead th {\n",
       "        text-align: right;\n",
       "    }\n",
       "</style>\n",
       "<table border=\"1\" class=\"dataframe\">\n",
       "  <thead>\n",
       "    <tr style=\"text-align: right;\">\n",
       "      <th></th>\n",
       "      <th>Ano Abertura</th>\n",
       "      <th>Mês Abertura</th>\n",
       "      <th>Prazo Analise Gestor</th>\n",
       "      <th>Tempo Resposta</th>\n",
       "      <th>Nota do Consumidor</th>\n",
       "      <th>Total</th>\n",
       "    </tr>\n",
       "  </thead>\n",
       "  <tbody>\n",
       "    <tr>\n",
       "      <th>count</th>\n",
       "      <td>43987.0</td>\n",
       "      <td>43987.000000</td>\n",
       "      <td>1953.000000</td>\n",
       "      <td>41961.000000</td>\n",
       "      <td>28627.000000</td>\n",
       "      <td>43987.0</td>\n",
       "    </tr>\n",
       "    <tr>\n",
       "      <th>mean</th>\n",
       "      <td>2014.0</td>\n",
       "      <td>9.550435</td>\n",
       "      <td>4.768049</td>\n",
       "      <td>6.667572</td>\n",
       "      <td>3.007021</td>\n",
       "      <td>1.0</td>\n",
       "    </tr>\n",
       "    <tr>\n",
       "      <th>std</th>\n",
       "      <td>0.0</td>\n",
       "      <td>1.898572</td>\n",
       "      <td>4.395177</td>\n",
       "      <td>3.066805</td>\n",
       "      <td>1.681700</td>\n",
       "      <td>0.0</td>\n",
       "    </tr>\n",
       "    <tr>\n",
       "      <th>min</th>\n",
       "      <td>2014.0</td>\n",
       "      <td>5.000000</td>\n",
       "      <td>0.000000</td>\n",
       "      <td>0.000000</td>\n",
       "      <td>1.000000</td>\n",
       "      <td>1.0</td>\n",
       "    </tr>\n",
       "    <tr>\n",
       "      <th>25%</th>\n",
       "      <td>2014.0</td>\n",
       "      <td>8.000000</td>\n",
       "      <td>1.000000</td>\n",
       "      <td>4.000000</td>\n",
       "      <td>1.000000</td>\n",
       "      <td>1.0</td>\n",
       "    </tr>\n",
       "    <tr>\n",
       "      <th>50%</th>\n",
       "      <td>2014.0</td>\n",
       "      <td>10.000000</td>\n",
       "      <td>4.000000</td>\n",
       "      <td>8.000000</td>\n",
       "      <td>3.000000</td>\n",
       "      <td>1.0</td>\n",
       "    </tr>\n",
       "    <tr>\n",
       "      <th>75%</th>\n",
       "      <td>2014.0</td>\n",
       "      <td>11.000000</td>\n",
       "      <td>8.000000</td>\n",
       "      <td>9.000000</td>\n",
       "      <td>5.000000</td>\n",
       "      <td>1.0</td>\n",
       "    </tr>\n",
       "    <tr>\n",
       "      <th>max</th>\n",
       "      <td>2014.0</td>\n",
       "      <td>12.000000</td>\n",
       "      <td>15.000000</td>\n",
       "      <td>13.000000</td>\n",
       "      <td>5.000000</td>\n",
       "      <td>1.0</td>\n",
       "    </tr>\n",
       "  </tbody>\n",
       "</table>\n",
       "</div>"
      ],
      "text/plain": [
       "       Ano Abertura  Mês Abertura  Prazo Analise Gestor  Tempo Resposta  \\\n",
       "count       43987.0  43987.000000           1953.000000    41961.000000   \n",
       "mean         2014.0      9.550435              4.768049        6.667572   \n",
       "std             0.0      1.898572              4.395177        3.066805   \n",
       "min          2014.0      5.000000              0.000000        0.000000   \n",
       "25%          2014.0      8.000000              1.000000        4.000000   \n",
       "50%          2014.0     10.000000              4.000000        8.000000   \n",
       "75%          2014.0     11.000000              8.000000        9.000000   \n",
       "max          2014.0     12.000000             15.000000       13.000000   \n",
       "\n",
       "       Nota do Consumidor    Total  \n",
       "count        28627.000000  43987.0  \n",
       "mean             3.007021      1.0  \n",
       "std              1.681700      0.0  \n",
       "min              1.000000      1.0  \n",
       "25%              1.000000      1.0  \n",
       "50%              3.000000      1.0  \n",
       "75%              5.000000      1.0  \n",
       "max              5.000000      1.0  "
      ]
     },
     "execution_count": 111,
     "metadata": {},
     "output_type": "execute_result"
    }
   ],
   "source": [
    "df.describe()"
   ]
  },
  {
   "cell_type": "code",
   "execution_count": 112,
   "metadata": {},
   "outputs": [
    {
     "name": "stdout",
     "output_type": "stream",
     "text": [
      "Tempo Resposta médio: 6.667572269488335\n",
      "Tempo Resposta máximo: 13.0\n",
      "Tempo Resposta mínimo: 0.0\n"
     ]
    }
   ],
   "source": [
    "# Resposta questão 2:\n",
    "# 2 - Qual é o tempo médio, máximo e mínimo de resposta?\n",
    "medioR = df[\"Tempo Resposta\"].mean()\n",
    "print(\"Tempo Resposta médio:\", medioR)\n",
    "maximoR = df[\"Tempo Resposta\"].max()\n",
    "print(\"Tempo Resposta máximo:\", maximoR)\n",
    "minimoR = df[\"Tempo Resposta\"].min()\n",
    "print(\"Tempo Resposta mínimo:\", minimoR)"
   ]
  },
  {
   "cell_type": "code",
   "execution_count": 113,
   "metadata": {},
   "outputs": [
    {
     "name": "stdout",
     "output_type": "stream",
     "text": [
      "Nota do Consumidor média: 3.007021343486918\n",
      "Nota do Consumidor máximo: 5.0\n",
      "Nota do Consumidor minima: 1.0\n"
     ]
    }
   ],
   "source": [
    "# Resposta questão 3:\n",
    "# 3 - Qual é a nota média, máxima e mínima do consumidor?\n",
    "medioC = df[\"Nota do Consumidor\"].mean()\n",
    "print(\"Nota do Consumidor média:\", medioC)\n",
    "maximoC = df[\"Nota do Consumidor\"].max()\n",
    "print(\"Nota do Consumidor máximo:\", maximoC)\n",
    "minimoC = df[\"Nota do Consumidor\"].min()\n",
    "print(\"Nota do Consumidor minima:\", minimoC)"
   ]
  },
  {
   "cell_type": "code",
   "execution_count": 114,
   "metadata": {},
   "outputs": [
    {
     "data": {
      "text/html": [
       "<div>\n",
       "<style scoped>\n",
       "    .dataframe tbody tr th:only-of-type {\n",
       "        vertical-align: middle;\n",
       "    }\n",
       "\n",
       "    .dataframe tbody tr th {\n",
       "        vertical-align: top;\n",
       "    }\n",
       "\n",
       "    .dataframe thead th {\n",
       "        text-align: right;\n",
       "    }\n",
       "</style>\n",
       "<table border=\"1\" class=\"dataframe\">\n",
       "  <thead>\n",
       "    <tr style=\"text-align: right;\">\n",
       "      <th></th>\n",
       "      <th>Ano Abertura</th>\n",
       "      <th>Mês Abertura</th>\n",
       "      <th>Prazo Analise Gestor</th>\n",
       "      <th>Tempo Resposta</th>\n",
       "      <th>Nota do Consumidor</th>\n",
       "      <th>Total</th>\n",
       "    </tr>\n",
       "  </thead>\n",
       "  <tbody>\n",
       "    <tr>\n",
       "      <th>Ano Abertura</th>\n",
       "      <td>NaN</td>\n",
       "      <td>NaN</td>\n",
       "      <td>NaN</td>\n",
       "      <td>NaN</td>\n",
       "      <td>NaN</td>\n",
       "      <td>NaN</td>\n",
       "    </tr>\n",
       "    <tr>\n",
       "      <th>Mês Abertura</th>\n",
       "      <td>NaN</td>\n",
       "      <td>1.000000</td>\n",
       "      <td>0.194573</td>\n",
       "      <td>-0.035776</td>\n",
       "      <td>0.073964</td>\n",
       "      <td>NaN</td>\n",
       "    </tr>\n",
       "    <tr>\n",
       "      <th>Prazo Analise Gestor</th>\n",
       "      <td>NaN</td>\n",
       "      <td>0.194573</td>\n",
       "      <td>1.000000</td>\n",
       "      <td>0.082552</td>\n",
       "      <td>-0.068360</td>\n",
       "      <td>NaN</td>\n",
       "    </tr>\n",
       "    <tr>\n",
       "      <th>Tempo Resposta</th>\n",
       "      <td>NaN</td>\n",
       "      <td>-0.035776</td>\n",
       "      <td>0.082552</td>\n",
       "      <td>1.000000</td>\n",
       "      <td>-0.187150</td>\n",
       "      <td>NaN</td>\n",
       "    </tr>\n",
       "    <tr>\n",
       "      <th>Nota do Consumidor</th>\n",
       "      <td>NaN</td>\n",
       "      <td>0.073964</td>\n",
       "      <td>-0.068360</td>\n",
       "      <td>-0.187150</td>\n",
       "      <td>1.000000</td>\n",
       "      <td>NaN</td>\n",
       "    </tr>\n",
       "    <tr>\n",
       "      <th>Total</th>\n",
       "      <td>NaN</td>\n",
       "      <td>NaN</td>\n",
       "      <td>NaN</td>\n",
       "      <td>NaN</td>\n",
       "      <td>NaN</td>\n",
       "      <td>NaN</td>\n",
       "    </tr>\n",
       "  </tbody>\n",
       "</table>\n",
       "</div>"
      ],
      "text/plain": [
       "                      Ano Abertura  Mês Abertura  Prazo Analise Gestor  \\\n",
       "Ano Abertura                   NaN           NaN                   NaN   \n",
       "Mês Abertura                   NaN      1.000000              0.194573   \n",
       "Prazo Analise Gestor           NaN      0.194573              1.000000   \n",
       "Tempo Resposta                 NaN     -0.035776              0.082552   \n",
       "Nota do Consumidor             NaN      0.073964             -0.068360   \n",
       "Total                          NaN           NaN                   NaN   \n",
       "\n",
       "                      Tempo Resposta  Nota do Consumidor  Total  \n",
       "Ano Abertura                     NaN                 NaN    NaN  \n",
       "Mês Abertura               -0.035776            0.073964    NaN  \n",
       "Prazo Analise Gestor        0.082552           -0.068360    NaN  \n",
       "Tempo Resposta              1.000000           -0.187150    NaN  \n",
       "Nota do Consumidor         -0.187150            1.000000    NaN  \n",
       "Total                            NaN                 NaN    NaN  "
      ]
     },
     "metadata": {},
     "output_type": "display_data"
    }
   ],
   "source": [
    "# Resposta questão 4:\n",
    "# 4 - Como podemos correlacionar a nota do consumidor com o tempo de resposta? Explique.\n",
    "df_resposta = df.corr()\n",
    "display(df_resposta)\n",
    "# repsota: Não podemos correlacionar nota do consumidor e tempode deresposta = -0.187150! "
   ]
  },
  {
   "cell_type": "code",
   "execution_count": 115,
   "metadata": {},
   "outputs": [],
   "source": [
    "import matplotlib.pyplot as plt"
   ]
  },
  {
   "cell_type": "code",
   "execution_count": 116,
   "metadata": {},
   "outputs": [
    {
     "data": {
      "text/plain": [
       "M    27895\n",
       "F    16092\n",
       "Name: Sexo, dtype: int64"
      ]
     },
     "execution_count": 116,
     "metadata": {},
     "output_type": "execute_result"
    }
   ],
   "source": [
    "# Resposta questão 5a:\n",
    "# Qual a quantidade de reclamações por Sexo?\n",
    "df_sexo = df.Sexo.value_counts()\n",
    "df_sexo"
   ]
  },
  {
   "cell_type": "code",
   "execution_count": 117,
   "metadata": {},
   "outputs": [
    {
     "data": {
      "image/png": "[encoded data removed]",
      "text/plain": [
       "<Figure size 432x288 with 1 Axes>"
      ]
     },
     "metadata": {
      "needs_background": "light"
     },
     "output_type": "display_data"
    }
   ],
   "source": [
    "df_sexo = df['Sexo'].value_counts().tolist()\n",
    "t = ['M',\"F\"]\n",
    "plt.bar(t,[df_sexo[0], df_sexo[1]], color= \"royalblue\", label=\"Valores por Sexo\")\n",
    "plt.xlabel('Sexo')\n",
    "plt.ylabel(\"Número de Reclamações\")\n",
    "plt.title('Frequencia de reclamções')\n",
    "plt.legend(loc='best')\n",
    "plt.show()"
   ]
  },
  {
   "cell_type": "code",
   "execution_count": 118,
   "metadata": {},
   "outputs": [
    {
     "data": {
      "text/plain": [
       "SP    11882\n",
       "PR     6140\n",
       "RJ     4907\n",
       "MG     4186\n",
       "BA     2443\n",
       "RS     1941\n",
       "DF     1805\n",
       "PE     1626\n",
       "SC     1458\n",
       "MA     1082\n",
       "ES     1081\n",
       "CE     1068\n",
       "MT     1012\n",
       "GO      886\n",
       "MS      531\n",
       "AC      449\n",
       "PB      343\n",
       "AM      291\n",
       "PA      211\n",
       "RN      160\n",
       "RO      119\n",
       "AL      104\n",
       "SE       97\n",
       "PI       77\n",
       "TO       46\n",
       "RR       24\n",
       "AP       18\n",
       "Name: UF, dtype: int64"
      ]
     },
     "execution_count": 118,
     "metadata": {},
     "output_type": "execute_result"
    }
   ],
   "source": [
    "# Resposta questão 5b: \n",
    "# Frequencia de reclamações por estado?\n",
    "df_UF = df.UF.value_counts()\n",
    "df_UF "
   ]
  },
  {
   "cell_type": "code",
   "execution_count": 141,
   "metadata": {},
   "outputs": [
    {
     "data": {
      "image/png": "[encoded data removed]",
      "text/plain": [
       "<Figure size 1080x360 with 1 Axes>"
      ]
     },
     "metadata": {
      "needs_background": "light"
     },
     "output_type": "display_data"
    }
   ],
   "source": [
    "fig = plt.figure(figsize=(15,5))\n",
    "plt.hist(df.UF.sort_values(), rwidth=3.0, bins = 75)\n",
    "plt.title(\"Distribuição de Reclamações por Estado\")\n",
    "plt.xlabel('ESTADOS', {'fontsize': 12})\n",
    "plt.ylabel('VALOR RECLAMAÇÕES', {'fontsize': 12})\n",
    "plt.show()"
   ]
  },
  {
   "cell_type": "code",
   "execution_count": 143,
   "metadata": {},
   "outputs": [
    {
     "data": {
      "text/plain": [
       "S    41961\n",
       "N     2026\n",
       "Name: Respondida, dtype: int64"
      ]
     },
     "execution_count": 143,
     "metadata": {},
     "output_type": "execute_result"
    }
   ],
   "source": [
    "# Resposta questão 5c:\n",
    "# Frequência de reclamações respondidas e não respondidas?\n",
    "df_respondida = df.Respondida.value_counts()\n",
    "df_respondida"
   ]
  },
  {
   "cell_type": "code",
   "execution_count": 168,
   "metadata": {},
   "outputs": [
    {
     "data": {
      "image/png": "[encoded data removed]",
      "text/plain": [
       "<Figure size 1080x360 with 1 Axes>"
      ]
     },
     "metadata": {
      "needs_background": "light"
     },
     "output_type": "display_data"
    }
   ],
   "source": [
    "reposta = df_respondida.keys() \n",
    "fig = plt.figure(figsize = (15, 5)) \n",
    "plt.bar(reposta, df_respondida, color ='maroon', width = 0.4) \n",
    "plt.xlabel(\"Resposta\") \n",
    "plt.ylabel(\"Quantidade de Reclamações\") \n",
    "plt.title(\"Quantidade de Resposta Atendidas/Não Atendidas\") \n",
    "plt.show()"
   ]
  },
  {
   "cell_type": "code",
   "execution_count": 163,
   "metadata": {},
   "outputs": [
    {
     "data": {
      "text/plain": [
       "SE    22056\n",
       "S      9539\n",
       "NE     7000\n",
       "CO     4234\n",
       "N      1158\n",
       "Name: Região, dtype: int64"
      ]
     },
     "execution_count": 163,
     "metadata": {},
     "output_type": "execute_result"
    }
   ],
   "source": [
    "# Resposta questão 6a:\n",
    "df_porRegiao = df.Região.value_counts()\n",
    "df_porRegiao"
   ]
  },
  {
   "cell_type": "code",
   "execution_count": 171,
   "metadata": {},
   "outputs": [
    {
     "data": {
      "image/png": "[encoded data removed]",
      "text/plain": [
       "<Figure size 1080x360 with 1 Axes>"
      ]
     },
     "metadata": {
      "needs_background": "light"
     },
     "output_type": "display_data"
    }
   ],
   "source": [
    "reposta = df_porRegiao.keys() \n",
    "fig = plt.figure(figsize = (15, 5)) \n",
    "plt.bar(reposta, df_porRegiao, color ='k', width = 0.6) \n",
    "plt.xlabel(\"Regional\") \n",
    "plt.ylabel(\"Quantidade de Reclamações\") \n",
    "plt.title(\"Quantidade de Reclamações por Regional\") \n",
    "plt.show()"
   ]
  },
  {
   "cell_type": "code",
   "execution_count": 182,
   "metadata": {},
   "outputs": [],
   "source": [
    "# desse grafico conseguimos obter a informação que regional mais populosa tem mais reclamação, mas será que as outras \n",
    "# região estão cientes de como fazer a reclaamção???"
   ]
  },
  {
   "cell_type": "code",
   "execution_count": 172,
   "metadata": {},
   "outputs": [
    {
     "data": {
      "text/plain": [
       "Finalizada avaliada        28622\n",
       "Finalizada não avaliada    13526\n",
       "Cancelada                   1747\n",
       "Encerrada                     92\n",
       "Name: Situação, dtype: int64"
      ]
     },
     "execution_count": 172,
     "metadata": {},
     "output_type": "execute_result"
    }
   ],
   "source": [
    "# Resposta questão 6b:\n",
    "df_porSituaçao = df.Situação.value_counts()\n",
    "df_porSituaçao"
   ]
  },
  {
   "cell_type": "code",
   "execution_count": 180,
   "metadata": {},
   "outputs": [
    {
     "data": {
      "image/png": "[encoded data removed]",
      "text/plain": [
       "<Figure size 1080x360 with 1 Axes>"
      ]
     },
     "metadata": {
      "needs_background": "light"
     },
     "output_type": "display_data"
    }
   ],
   "source": [
    "reposta = df_porSituaçao.keys() \n",
    "fig = plt.figure(figsize = (15, 5)) \n",
    "plt.bar(reposta, df_porSituaçao, color ='g', width = 1)\n",
    "plt.xlabel(\"Status da Reclamação\") \n",
    "plt.ylabel(\"Quantidade de Situações\") \n",
    "plt.title(\"Status das Reclamações por Quantidade\") \n",
    "plt.show()"
   ]
  },
  {
   "cell_type": "code",
   "execution_count": 181,
   "metadata": {},
   "outputs": [],
   "source": [
    "# muitas situações finalizadas sem feedback, estamos perdendo informações importantes sobre o modo que foi finalizado,\n",
    "# se realemnte foi atendido ou não, entre outros detalhes."
   ]
  },
  {
   "cell_type": "code",
   "execution_count": null,
   "metadata": {},
   "outputs": [],
   "source": []
  }
 ],
 "metadata": {
  "kernelspec": {
   "display_name": "Python 3 (ipykernel)",
   "language": "python",
   "name": "python3"
  },
  "language_info": {
   "codemirror_mode": {
    "name": "ipython",
    "version": 3
   },
   "file_extension": ".py",
   "mimetype": "text/x-python",
   "name": "python",
   "nbconvert_exporter": "python",
   "pygments_lexer": "ipython3",
   "version": "3.9.7"
  }
 },
 "nbformat": 4,
 "nbformat_minor": 4
}
