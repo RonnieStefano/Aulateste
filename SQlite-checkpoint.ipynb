{
 "cells": [
  {
   "cell_type": "markdown",
   "id": "6845d6d0",
   "metadata": {},
   "source": [
    "# 1 - Utilizando Comando SQl, apresente a instrução que resolva os seguintes problemas propostos:\n",
    "\n",
    "\n",
    "    Funcionarios (codigo, firstname, midlename, lastname, DataNasci, CPF, RG, Endereço, CEP, Cidade, Fone, Departamento.Cod, Funcao, Salario)\n",
    "    Departamentos (Codigo, Nome, localizacao, CodigoFuncionarioGerente)"
   ]
  },
  {
   "cell_type": "code",
   "execution_count": 1,
   "id": "2dc15554",
   "metadata": {},
   "outputs": [],
   "source": [
    "import sqlite3\n",
    "# Conectando um banco de dados\n",
    "#banco = sqlite3.connect(':memory:')\n",
    "banco = sqlite3.connect('bancoteste.db')"
   ]
  },
  {
   "cell_type": "code",
   "execution_count": 2,
   "id": "f2d9d62f",
   "metadata": {},
   "outputs": [],
   "source": [
    "# Criando um cursor para operar comandos SQL\n",
    "cursor = banco.cursor()"
   ]
  },
  {
   "cell_type": "code",
   "execution_count": 20,
   "id": "9e8f1065",
   "metadata": {},
   "outputs": [
    {
     "data": {
      "text/plain": [
       "<sqlite3.Cursor at 0x21046eecea0>"
      ]
     },
     "execution_count": 20,
     "metadata": {},
     "output_type": "execute_result"
    }
   ],
   "source": [
    "# Criando uma tabela 'estudantes' com as campos nomeEstudante, idade, email\n",
    "cursor.execute(\"CREATE TABLE FichaCadastral (Código integer, Nome text, Idade integer, CPF, RG, DataNasci, Sexo texto, Signo text, Mãe text, Pai text, Email text, senha text, CEP, Endereço text, numero integer, bairro text, Cidade text, Estado text, Telefone , celular, altura integer, peso, TipodeSangue text, CorFavorita text)\")"
   ]
  },
  {
   "cell_type": "code",
   "execution_count": 21,
   "id": "aea6d9e0",
   "metadata": {},
   "outputs": [],
   "source": [
    "# Inserindo dados na tabela\n",
    "cursor.execute(\"INSERT INTO FichaCadastral VALUES('01', 'Igor Ruan Benício Aparício', 49, '027.934.922-05', 470105-03,'05/01/1973','Masculino','Capricórnio','Sophia Hadassa Andreia','Ricardo Vitor Márcio Aparício', 'igorruanbenicioaparicio_@yahool.com.br','hCHR9bq6t4', '71640-015', 'Quadra SHIS QL 14 Conjunto 1','768', 'Setor de Habitações Individuais Sul', 'Brasília','DF','(61)3537-0108','(61)98667-1308','1,87','64','O-','vermelho')\")\n",
    "banco.commit()"
   ]
  },
  {
   "cell_type": "code",
   "execution_count": 22,
   "id": "58eb8f5c",
   "metadata": {},
   "outputs": [
    {
     "name": "stdout",
     "output_type": "stream",
     "text": [
      "[(1, 'Igor Ruan Benício Aparício', 49, '027.934.922-05', 470102, '05/01/1973', 'Masculino', 'Capricórnio', 'Sophia Hadassa Andreia', 'Ricardo Vitor Márcio Aparício', 'igorruanbenicioaparicio_@yahool.com.br', 'hCHR9bq6t4', '71640-015', 'Quadra SHIS QL 14 Conjunto 1', 768, 'Setor de Habitações Individuais Sul', 'Brasília', 'DF', '(61)3537-0108', '(61)98667-1308', '1,87', '64', 'O-', 'vermelho')]\n"
     ]
    }
   ],
   "source": [
    "# Consulta dados da tabela 'departamentos'\n",
    "cursor.execute(\"SELECT * FROM FichaCadastral\")\n",
    "print (cursor.fetchall())"
   ]
  },
  {
   "cell_type": "code",
   "execution_count": 26,
   "id": "e2335123",
   "metadata": {},
   "outputs": [],
   "source": [
    "listacadastro =[('02','Malu Amanda Ramos', '35','881.552.861-00','26.639.250-7', '20/01/1987','Feminino','Capricórnio',\n",
    "                   'Malu Stella Tereza','Kevin Miguel Ramos','maluamandaramos@wsiconsultores.com.br','tcF28pKzQR','70650-110','Quadra SHCES Quadra 101','665',\n",
    "                   'Cruzeiro Novo','Brasília','DF','(61) 3654-2762','(61) 99686-8262','1,64','90','O-','laranja'),\n",
    "                  ('03','Manoel Lucca Felipe da Rosa','25','958.817.080-08','43.283.105-8','08/01/1997','Masculino',\n",
    "                   'Capricórnio','Mariane Alice Daiane','Miguel Theo da Rosa','manoelluccafelipedarosa@barratravel.com.br',\n",
    "                   '4HDx5Oh9Dj','70235-530','Quadra CLS 205 Bloco C','329','Asa Sul','Brasília','DF','(61)3900-1397',\n",
    "                   '(61)98595-6615','1,96','87','B-','amarelo'),\n",
    "                  ('04','Carlos Eduardo Geraldo Lopes','60','129.185.700-10','37.155.151-1','08/01/1962','Masculino',\n",
    "'Capricórnio','Malu Catarina','Vicente Filipe Julio Lopes','carloseduardogeraldolopes@bernardino.com',\n",
    "'oYTmgJNQLS','68371-521','Travessa Boa Vista','168','Nova Altamira','Altamira','PA','(93)2504-5872','(93)98466-0110',\n",
    "'1,60','80','B-','roxo'),\n",
    "                  ('05','Victor Osvaldo Pinto','48','274.935.155-30','41.975.917-7','12/01/1974','Masculino','Capricórnio',\n",
    "'Eliane Amanda','Danilo Vitor Pinto','victorosvaldopinto_@modus.com.br','nrjGm8otiP','58700-122','Travessa Leôncio Wanderley',\n",
    "'550','Centro','Patos','PB','(83)2872-9763','(83)98125-5548','1,74','109','O-','azul'),\n",
    "                  ('06','Isabella Tereza Sara Silva','68','861.116.655-88','27.931.065-1','02/01/1954','Feminino','Capricórnio',\n",
    "                   'Joana Letícia Priscila','Victor Geraldo Silva','isabellaterezasarasilva_@santosferreira.adv.br',\n",
    "'eHPIy0oGIu','24735-860','Rua Maria Catarina Nunes','711','Sacramento','São Gonçalo','RJ','(21)3621-5117','(21)99121-5301',\n",
    "                   '1,68','66','AB-','preto'),\n",
    "                  ('07','Kamilly Giovanna Eliane Jesus','78','278.483.894-30','22.032.720-8','04/01/1944','Feminino',\n",
    "                   'Capricórnio','Mariane Lara','Raimundo César Jesus','kkamillygiovannaelianejesus@rotauniformes.com.br',\n",
    "                   'iwWXNOrCJK','66615-372','Passagem Resistência','850','Marambaia','Belém','PA','(91)3597-8476',\n",
    "                   '(91)98610-5756','1,53','66','O+','vermelho'),\n",
    "                  ('08','Clara Vitória da Paz','78','555.660.426-60','49.020.008-4','13/01/1944','Feminino','Capricórnio',\n",
    "                   'Priscila Eduarda Jaqueline','Thales Rodrigo da Paz','cclaravitoriadapaz@lucaslima.com','tpmQTTTsj8',\n",
    "                   '72900-142','Quadra Quadra 119','323','Centro','Santo Antônio do Descoberto','GO','(61 2524-2651',\n",
    "                   '(61)98653-5710','1,66','81','A+','vermelho'),\n",
    "                  ('09','Thales Ruan Guilherme da Rosa','26','328.954.774-42','29.453.093-9','08/01/1996','Masculino',\n",
    "                   'Capricórnio','Cláudia Flávia','José Danilo da Rosa','thalesruanguilhermedarosa@zignani.com.br',\n",
    "                   'G7g76HXp30','49069-066','Rua Evandro Ribeiro','802','Porto DAntas','Aracaju','SE','(79)2559-0159',\n",
    "                   '(79)98422-5853','1,91','67','O-','vermelho'),\n",
    "                  ('10','Juliana Julia Almada','58','902.138.091-92','16.873.657-3','17/01/1964','Feminino','Capricórnio',\n",
    "                   'Ayla Olivia Manuela','Hugo Renan Almada','jjulianajuliaalmada@gat.com.br','yTpGfA5i5D','91540-070',\n",
    "                   'Rua João Antônio Lopes','831','Agronomia','Porto Alegre','RS','(51)3746-3602','(51)98254-7936',\n",
    "                   '1,80','88','O+','amarelo')]"
   ]
  },
  {
   "cell_type": "code",
   "execution_count": 28,
   "id": "1d30e7c0",
   "metadata": {},
   "outputs": [
    {
     "name": "stdout",
     "output_type": "stream",
     "text": [
      "Dados inseridos com sucesso!\n"
     ]
    }
   ],
   "source": [
    "# Inserimos os dados da lista dentro da tabela\n",
    "cursor.executemany(\"\"\"INSERT INTO FichaCadastral VALUES (?,?,?,?,?,?,?,?,?,?,?,?,?,?,?,?,?,?,?,?,?,?,?,?)\"\"\", listacadastro)\n",
    "print (\"Dados inseridos com sucesso!\")\n",
    "banco.commit()"
   ]
  },
  {
   "cell_type": "code",
   "execution_count": 29,
   "id": "776869a7",
   "metadata": {},
   "outputs": [
    {
     "name": "stdout",
     "output_type": "stream",
     "text": [
      "[(1, 'Igor Ruan Benício Aparício', 49, '027.934.922-05', 470102, '05/01/1973', 'Masculino', 'Capricórnio', 'Sophia Hadassa Andreia', 'Ricardo Vitor Márcio Aparício', 'igorruanbenicioaparicio_@yahool.com.br', 'hCHR9bq6t4', '71640-015', 'Quadra SHIS QL 14 Conjunto 1', 768, 'Setor de Habitações Individuais Sul', 'Brasília', 'DF', '(61)3537-0108', '(61)98667-1308', '1,87', '64', 'O-', 'vermelho'), (2, 'Malu Amanda Ramos', 35, '881.552.861-00', '26.639.250-7', '20/01/1987', 'Feminino', 'Capricórnio', 'Malu Stella Tereza', 'Kevin Miguel Ramos', 'maluamandaramos@wsiconsultores.com.br', 'tcF28pKzQR', '70650-110', 'Quadra SHCES Quadra 101', 665, 'Cruzeiro Novo', 'Brasília', 'DF', '(61) 3654-2762', '(61) 99686-8262', '1,64', '90', 'O-', 'laranja'), (3, 'Manoel Lucca Felipe da Rosa', 25, '958.817.080-08', '43.283.105-8', '08/01/1997', 'Masculino', 'Capricórnio', 'Mariane Alice Daiane', 'Miguel Theo da Rosa', 'manoelluccafelipedarosa@barratravel.com.br', '4HDx5Oh9Dj', '70235-530', 'Quadra CLS 205 Bloco C', 329, 'Asa Sul', 'Brasília', 'DF', '(61)3900-1397', '(61)98595-6615', '1,96', '87', 'B-', 'amarelo'), (4, 'Carlos Eduardo Geraldo Lopes', 60, '129.185.700-10', '37.155.151-1', '08/01/1962', 'Masculino', 'Capricórnio', 'Malu Catarina', 'Vicente Filipe Julio Lopes', 'carloseduardogeraldolopes@bernardino.com', 'oYTmgJNQLS', '68371-521', 'Travessa Boa Vista', 168, 'Nova Altamira', 'Altamira', 'PA', '(93)2504-5872', '(93)98466-0110', '1,60', '80', 'B-', 'roxo'), (5, 'Victor Osvaldo Pinto', 48, '274.935.155-30', '41.975.917-7', '12/01/1974', 'Masculino', 'Capricórnio', 'Eliane Amanda', 'Danilo Vitor Pinto', 'victorosvaldopinto_@modus.com.br', 'nrjGm8otiP', '58700-122', 'Travessa Leôncio Wanderley', 550, 'Centro', 'Patos', 'PB', '(83)2872-9763', '(83)98125-5548', '1,74', '109', 'O-', 'azul'), (6, 'Isabella Tereza Sara Silva', 68, '861.116.655-88', '27.931.065-1', '02/01/1954', 'Feminino', 'Capricórnio', 'Joana Letícia Priscila', 'Victor Geraldo Silva', 'isabellaterezasarasilva_@santosferreira.adv.br', 'eHPIy0oGIu', '24735-860', 'Rua Maria Catarina Nunes', 711, 'Sacramento', 'São Gonçalo', 'RJ', '(21)3621-5117', '(21)99121-5301', '1,68', '66', 'AB-', 'preto'), (7, 'Kamilly Giovanna Eliane Jesus', 78, '278.483.894-30', '22.032.720-8', '04/01/1944', 'Feminino', 'Capricórnio', 'Mariane Lara', 'Raimundo César Jesus', 'kkamillygiovannaelianejesus@rotauniformes.com.br', 'iwWXNOrCJK', '66615-372', 'Passagem Resistência', 850, 'Marambaia', 'Belém', 'PA', '(91)3597-8476', '(91)98610-5756', '1,53', '66', 'O+', 'vermelho'), (8, 'Clara Vitória da Paz', 78, '555.660.426-60', '49.020.008-4', '13/01/1944', 'Feminino', 'Capricórnio', 'Priscila Eduarda Jaqueline', 'Thales Rodrigo da Paz', 'cclaravitoriadapaz@lucaslima.com', 'tpmQTTTsj8', '72900-142', 'Quadra Quadra 119', 323, 'Centro', 'Santo Antônio do Descoberto', 'GO', '(61 2524-2651', '(61)98653-5710', '1,66', '81', 'A+', 'vermelho'), (9, 'Thales Ruan Guilherme da Rosa', 26, '328.954.774-42', '29.453.093-9', '08/01/1996', 'Masculino', 'Capricórnio', 'Cláudia Flávia', 'José Danilo da Rosa', 'thalesruanguilhermedarosa@zignani.com.br', 'G7g76HXp30', '49069-066', 'Rua Evandro Ribeiro', 802, 'Porto DAntas', 'Aracaju', 'SE', '(79)2559-0159', '(79)98422-5853', '1,91', '67', 'O-', 'vermelho'), (10, 'Juliana Julia Almada', 58, '902.138.091-92', '16.873.657-3', '17/01/1964', 'Feminino', 'Capricórnio', 'Ayla Olivia Manuela', 'Hugo Renan Almada', 'jjulianajuliaalmada@gat.com.br', 'yTpGfA5i5D', '91540-070', 'Rua João Antônio Lopes', 831, 'Agronomia', 'Porto Alegre', 'RS', '(51)3746-3602', '(51)98254-7936', '1,80', '88', 'O+', 'amarelo')]\n",
      "Dados inseridos com sucesso!\n"
     ]
    }
   ],
   "source": [
    "# Consulta dados da tabela 'decadastro'\n",
    "cursor.execute(\"SELECT * FROM FichaCadastral\")\n",
    "print (cursor.fetchall())\n",
    "print(\"Dados inseridos com sucesso!\")"
   ]
  },
  {
   "cell_type": "code",
   "execution_count": 35,
   "id": "97a520bc",
   "metadata": {},
   "outputs": [
    {
     "name": "stdout",
     "output_type": "stream",
     "text": [
      "[('Carlos Eduardo Geraldo Lopes', 60), ('Clara Vitória da Paz', 78), ('Igor Ruan Benício Aparício', 49), ('Isabella Tereza Sara Silva', 68), ('Juliana Julia Almada', 58), ('Kamilly Giovanna Eliane Jesus', 78), ('Malu Amanda Ramos', 35), ('Manoel Lucca Felipe da Rosa', 25), ('Thales Ruan Guilherme da Rosa', 26), ('Victor Osvaldo Pinto', 48)]\n"
     ]
    }
   ],
   "source": [
    "#lista nome e sobrenome ondenado por sobrenome\n",
    "cursor.execute(\"SELECT Nome, idade FROM FichaCadastral ORDER BY nome ASC\")\n",
    "print (cursor.fetchall())"
   ]
  },
  {
   "cell_type": "code",
   "execution_count": 36,
   "id": "66489436",
   "metadata": {},
   "outputs": [
    {
     "name": "stdout",
     "output_type": "stream",
     "text": [
      "[('Victor Osvaldo Pinto', 48), ('Thales Ruan Guilherme da Rosa', 26), ('Manoel Lucca Felipe da Rosa', 25), ('Malu Amanda Ramos', 35), ('Kamilly Giovanna Eliane Jesus', 78), ('Juliana Julia Almada', 58), ('Isabella Tereza Sara Silva', 68), ('Igor Ruan Benício Aparício', 49), ('Clara Vitória da Paz', 78), ('Carlos Eduardo Geraldo Lopes', 60)]\n"
     ]
    }
   ],
   "source": [
    "#lista nome e sobrenome ondenado por sobrenome\n",
    "cursor.execute(\"SELECT Nome, idade FROM FichaCadastral ORDER BY nome DESC\")\n",
    "print (cursor.fetchall())"
   ]
  },
  {
   "cell_type": "code",
   "execution_count": 40,
   "id": "a3a9208b",
   "metadata": {},
   "outputs": [
    {
     "name": "stdout",
     "output_type": "stream",
     "text": [
      "[(4, 'Carlos Eduardo Geraldo Lopes', 60, '129.185.700-10', '37.155.151-1', '08/01/1962', 'Masculino', 'Capricórnio', 'Malu Catarina', 'Vicente Filipe Julio Lopes', 'carloseduardogeraldolopes@bernardino.com', 'oYTmgJNQLS', '68371-521', 'Travessa Boa Vista', 168, 'Nova Altamira', 'Altamira', 'PA', '(93)2504-5872', '(93)98466-0110', '1,60', '80', 'B-', 'roxo'), (9, 'Thales Ruan Guilherme da Rosa', 26, '328.954.774-42', '29.453.093-9', '08/01/1996', 'Masculino', 'Capricórnio', 'Cláudia Flávia', 'José Danilo da Rosa', 'thalesruanguilhermedarosa@zignani.com.br', 'G7g76HXp30', '49069-066', 'Rua Evandro Ribeiro', 802, 'Porto DAntas', 'Aracaju', 'SE', '(79)2559-0159', '(79)98422-5853', '1,91', '67', 'O-', 'vermelho'), (7, 'Kamilly Giovanna Eliane Jesus', 78, '278.483.894-30', '22.032.720-8', '04/01/1944', 'Feminino', 'Capricórnio', 'Mariane Lara', 'Raimundo César Jesus', 'kkamillygiovannaelianejesus@rotauniformes.com.br', 'iwWXNOrCJK', '66615-372', 'Passagem Resistência', 850, 'Marambaia', 'Belém', 'PA', '(91)3597-8476', '(91)98610-5756', '1,53', '66', 'O+', 'vermelho'), (1, 'Igor Ruan Benício Aparício', 49, '027.934.922-05', 470102, '05/01/1973', 'Masculino', 'Capricórnio', 'Sophia Hadassa Andreia', 'Ricardo Vitor Márcio Aparício', 'igorruanbenicioaparicio_@yahool.com.br', 'hCHR9bq6t4', '71640-015', 'Quadra SHIS QL 14 Conjunto 1', 768, 'Setor de Habitações Individuais Sul', 'Brasília', 'DF', '(61)3537-0108', '(61)98667-1308', '1,87', '64', 'O-', 'vermelho'), (2, 'Malu Amanda Ramos', 35, '881.552.861-00', '26.639.250-7', '20/01/1987', 'Feminino', 'Capricórnio', 'Malu Stella Tereza', 'Kevin Miguel Ramos', 'maluamandaramos@wsiconsultores.com.br', 'tcF28pKzQR', '70650-110', 'Quadra SHCES Quadra 101', 665, 'Cruzeiro Novo', 'Brasília', 'DF', '(61) 3654-2762', '(61) 99686-8262', '1,64', '90', 'O-', 'laranja'), (3, 'Manoel Lucca Felipe da Rosa', 25, '958.817.080-08', '43.283.105-8', '08/01/1997', 'Masculino', 'Capricórnio', 'Mariane Alice Daiane', 'Miguel Theo da Rosa', 'manoelluccafelipedarosa@barratravel.com.br', '4HDx5Oh9Dj', '70235-530', 'Quadra CLS 205 Bloco C', 329, 'Asa Sul', 'Brasília', 'DF', '(61)3900-1397', '(61)98595-6615', '1,96', '87', 'B-', 'amarelo'), (5, 'Victor Osvaldo Pinto', 48, '274.935.155-30', '41.975.917-7', '12/01/1974', 'Masculino', 'Capricórnio', 'Eliane Amanda', 'Danilo Vitor Pinto', 'victorosvaldopinto_@modus.com.br', 'nrjGm8otiP', '58700-122', 'Travessa Leôncio Wanderley', 550, 'Centro', 'Patos', 'PB', '(83)2872-9763', '(83)98125-5548', '1,74', '109', 'O-', 'azul'), (10, 'Juliana Julia Almada', 58, '902.138.091-92', '16.873.657-3', '17/01/1964', 'Feminino', 'Capricórnio', 'Ayla Olivia Manuela', 'Hugo Renan Almada', 'jjulianajuliaalmada@gat.com.br', 'yTpGfA5i5D', '91540-070', 'Rua João Antônio Lopes', 831, 'Agronomia', 'Porto Alegre', 'RS', '(51)3746-3602', '(51)98254-7936', '1,80', '88', 'O+', 'amarelo'), (8, 'Clara Vitória da Paz', 78, '555.660.426-60', '49.020.008-4', '13/01/1944', 'Feminino', 'Capricórnio', 'Priscila Eduarda Jaqueline', 'Thales Rodrigo da Paz', 'cclaravitoriadapaz@lucaslima.com', 'tpmQTTTsj8', '72900-142', 'Quadra Quadra 119', 323, 'Centro', 'Santo Antônio do Descoberto', 'GO', '(61 2524-2651', '(61)98653-5710', '1,66', '81', 'A+', 'vermelho'), (6, 'Isabella Tereza Sara Silva', 68, '861.116.655-88', '27.931.065-1', '02/01/1954', 'Feminino', 'Capricórnio', 'Joana Letícia Priscila', 'Victor Geraldo Silva', 'isabellaterezasarasilva_@santosferreira.adv.br', 'eHPIy0oGIu', '24735-860', 'Rua Maria Catarina Nunes', 711, 'Sacramento', 'São Gonçalo', 'RJ', '(21)3621-5117', '(21)99121-5301', '1,68', '66', 'AB-', 'preto')]\n"
     ]
    }
   ],
   "source": [
    "# Listar todos os campos de funcionários ordenados por cidade\n",
    "cursor.execute(\"SELECT * FROM FichaCadastral ORDER BY Cidade ASC\")\n",
    "print (cursor.fetchall())"
   ]
  },
  {
   "cell_type": "code",
   "execution_count": 41,
   "id": "f81fcd89",
   "metadata": {},
   "outputs": [
    {
     "name": "stdout",
     "output_type": "stream",
     "text": [
      "[('DF', 'Brasília'), ('DF', 'Brasília'), ('DF', 'Brasília'), ('GO', 'Santo Antônio do Descoberto'), ('PA', 'Altamira'), ('PA', 'Belém'), ('PB', 'Patos'), ('RJ', 'São Gonçalo'), ('RS', 'Porto Alegre'), ('SE', 'Aracaju')]\n"
     ]
    }
   ],
   "source": [
    "# Listar todos os campos de funcionários ordenados por cidade\n",
    "cursor.execute(\"SELECT Estado, Cidade FROM FichaCadastral ORDER BY Estado ASC\")\n",
    "print (cursor.fetchall())"
   ]
  },
  {
   "cell_type": "code",
   "execution_count": null,
   "id": "2e37cb90",
   "metadata": {},
   "outputs": [],
   "source": [
    "# Liste os funcionários que têm salário superior a R$ 1.000,00 ordenados pelo nome completo, CorFavorita"
   ]
  },
  {
   "cell_type": "code",
   "execution_count": 42,
   "id": "af0d5495",
   "metadata": {},
   "outputs": [
    {
     "name": "stdout",
     "output_type": "stream",
     "text": [
      "[(1, 'Igor Ruan Benício Aparício', 49, '027.934.922-05', 470102, '05/01/1973', 'Masculino', 'Capricórnio', 'Sophia Hadassa Andreia', 'Ricardo Vitor Márcio Aparício', 'igorruanbenicioaparicio_@yahool.com.br', 'hCHR9bq6t4', '71640-015', 'Quadra SHIS QL 14 Conjunto 1', 768, 'Setor de Habitações Individuais Sul', 'Brasília', 'DF', '(61)3537-0108', '(61)98667-1308', '1,87', '64', 'O-', 'vermelho'), (2, 'Malu Amanda Ramos', 35, '881.552.861-00', '26.639.250-7', '20/01/1987', 'Feminino', 'Capricórnio', 'Malu Stella Tereza', 'Kevin Miguel Ramos', 'maluamandaramos@wsiconsultores.com.br', 'tcF28pKzQR', '70650-110', 'Quadra SHCES Quadra 101', 665, 'Cruzeiro Novo', 'Brasília', 'DF', '(61) 3654-2762', '(61) 99686-8262', '1,64', '90', 'O-', 'laranja'), (3, 'Manoel Lucca Felipe da Rosa', 25, '958.817.080-08', '43.283.105-8', '08/01/1997', 'Masculino', 'Capricórnio', 'Mariane Alice Daiane', 'Miguel Theo da Rosa', 'manoelluccafelipedarosa@barratravel.com.br', '4HDx5Oh9Dj', '70235-530', 'Quadra CLS 205 Bloco C', 329, 'Asa Sul', 'Brasília', 'DF', '(61)3900-1397', '(61)98595-6615', '1,96', '87', 'B-', 'amarelo'), (4, 'Carlos Eduardo Geraldo Lopes', 60, '129.185.700-10', '37.155.151-1', '08/01/1962', 'Masculino', 'Capricórnio', 'Malu Catarina', 'Vicente Filipe Julio Lopes', 'carloseduardogeraldolopes@bernardino.com', 'oYTmgJNQLS', '68371-521', 'Travessa Boa Vista', 168, 'Nova Altamira', 'Altamira', 'PA', '(93)2504-5872', '(93)98466-0110', '1,60', '80', 'B-', 'roxo'), (5, 'Victor Osvaldo Pinto', 48, '274.935.155-30', '41.975.917-7', '12/01/1974', 'Masculino', 'Capricórnio', 'Eliane Amanda', 'Danilo Vitor Pinto', 'victorosvaldopinto_@modus.com.br', 'nrjGm8otiP', '58700-122', 'Travessa Leôncio Wanderley', 550, 'Centro', 'Patos', 'PB', '(83)2872-9763', '(83)98125-5548', '1,74', '109', 'O-', 'azul'), (6, 'Isabella Tereza Sara Silva', 68, '861.116.655-88', '27.931.065-1', '02/01/1954', 'Feminino', 'Capricórnio', 'Joana Letícia Priscila', 'Victor Geraldo Silva', 'isabellaterezasarasilva_@santosferreira.adv.br', 'eHPIy0oGIu', '24735-860', 'Rua Maria Catarina Nunes', 711, 'Sacramento', 'São Gonçalo', 'RJ', '(21)3621-5117', '(21)99121-5301', '1,68', '66', 'AB-', 'preto'), (7, 'Kamilly Giovanna Eliane Jesus', 78, '278.483.894-30', '22.032.720-8', '04/01/1944', 'Feminino', 'Capricórnio', 'Mariane Lara', 'Raimundo César Jesus', 'kkamillygiovannaelianejesus@rotauniformes.com.br', 'iwWXNOrCJK', '66615-372', 'Passagem Resistência', 850, 'Marambaia', 'Belém', 'PA', '(91)3597-8476', '(91)98610-5756', '1,53', '66', 'O+', 'vermelho'), (8, 'Clara Vitória da Paz', 78, '555.660.426-60', '49.020.008-4', '13/01/1944', 'Feminino', 'Capricórnio', 'Priscila Eduarda Jaqueline', 'Thales Rodrigo da Paz', 'cclaravitoriadapaz@lucaslima.com', 'tpmQTTTsj8', '72900-142', 'Quadra Quadra 119', 323, 'Centro', 'Santo Antônio do Descoberto', 'GO', '(61 2524-2651', '(61)98653-5710', '1,66', '81', 'A+', 'vermelho'), (9, 'Thales Ruan Guilherme da Rosa', 26, '328.954.774-42', '29.453.093-9', '08/01/1996', 'Masculino', 'Capricórnio', 'Cláudia Flávia', 'José Danilo da Rosa', 'thalesruanguilhermedarosa@zignani.com.br', 'G7g76HXp30', '49069-066', 'Rua Evandro Ribeiro', 802, 'Porto DAntas', 'Aracaju', 'SE', '(79)2559-0159', '(79)98422-5853', '1,91', '67', 'O-', 'vermelho'), (10, 'Juliana Julia Almada', 58, '902.138.091-92', '16.873.657-3', '17/01/1964', 'Feminino', 'Capricórnio', 'Ayla Olivia Manuela', 'Hugo Renan Almada', 'jjulianajuliaalmada@gat.com.br', 'yTpGfA5i5D', '91540-070', 'Rua João Antônio Lopes', 831, 'Agronomia', 'Porto Alegre', 'RS', '(51)3746-3602', '(51)98254-7936', '1,80', '88', 'O+', 'amarelo')]\n"
     ]
    }
   ],
   "source": [
    "cursor.execute(\"SELECT * FROM FichaCadastral WHERE  CorFavorita = 'preto' OR Signo = 'Capricórnio'\")\n",
    "print (cursor.fetchall())"
   ]
  },
  {
   "cell_type": "code",
   "execution_count": 48,
   "id": "d9e488eb",
   "metadata": {},
   "outputs": [
    {
     "name": "stdout",
     "output_type": "stream",
     "text": [
      "[(6, 'Isabella Tereza Sara Silva', 68, '861.116.655-88', '27.931.065-1', '02/01/1954', 'Feminino', 'Capricórnio', 'Joana Letícia Priscila', 'Victor Geraldo Silva', 'isabellaterezasarasilva_@santosferreira.adv.br', 'eHPIy0oGIu', '24735-860', 'Rua Maria Catarina Nunes', 711, 'Sacramento', 'São Gonçalo', 'RJ', '(21)3621-5117', '(21)99121-5301', '1,68', '66', 'AB-', 'preto')]\n"
     ]
    }
   ],
   "source": [
    "# Seleciona dados da tabela ficha cadastral onde o nome e a idade são especificados \n",
    "cursor.execute(\"SELECT * FROM FichaCadastral WHERE nome = 'Isabella Tereza Sara Silva' AND idade = '68'\") \n",
    "print (cursor.fetchall())"
   ]
  },
  {
   "cell_type": "code",
   "execution_count": 55,
   "id": "ec856c25",
   "metadata": {},
   "outputs": [
    {
     "name": "stdout",
     "output_type": "stream",
     "text": [
      "[(3, 'Manoel Lucca Felipe da Rosa', 25, '958.817.080-08', '43.283.105-8', '08/01/1997', 'Masculino', 'Capricórnio', 'Mariane Alice Daiane', 'Miguel Theo da Rosa', 'manoelluccafelipedarosa@barratravel.com.br', '4HDx5Oh9Dj', '70235-530', 'Quadra CLS 205 Bloco C', 329, 'Asa Sul', 'Brasília', 'DF', '(61)3900-1397', '(61)98595-6615', '1,96', '87', 'B-', 'amarelo'), (4, 'Carlos Eduardo Geraldo Lopes', 60, '129.185.700-10', '37.155.151-1', '08/01/1962', 'Masculino', 'Capricórnio', 'Malu Catarina', 'Vicente Filipe Julio Lopes', 'carloseduardogeraldolopes@bernardino.com', 'oYTmgJNQLS', '68371-521', 'Travessa Boa Vista', 168, 'Nova Altamira', 'Altamira', 'PA', '(93)2504-5872', '(93)98466-0110', '1,60', '80', 'B-', 'roxo'), (6, 'Isabella Tereza Sara Silva', 68, '861.116.655-88', '27.931.065-1', '02/01/1954', 'Feminino', 'Capricórnio', 'Joana Letícia Priscila', 'Victor Geraldo Silva', 'isabellaterezasarasilva_@santosferreira.adv.br', 'eHPIy0oGIu', '24735-860', 'Rua Maria Catarina Nunes', 711, 'Sacramento', 'São Gonçalo', 'RJ', '(21)3621-5117', '(21)99121-5301', '1,68', '66', 'AB-', 'preto'), (7, 'Kamilly Giovanna Eliane Jesus', 78, '278.483.894-30', '22.032.720-8', '04/01/1944', 'Feminino', 'Capricórnio', 'Mariane Lara', 'Raimundo César Jesus', 'kkamillygiovannaelianejesus@rotauniformes.com.br', 'iwWXNOrCJK', '66615-372', 'Passagem Resistência', 850, 'Marambaia', 'Belém', 'PA', '(91)3597-8476', '(91)98610-5756', '1,53', '66', 'O+', 'vermelho'), (8, 'Clara Vitória da Paz', 78, '555.660.426-60', '49.020.008-4', '13/01/1944', 'Feminino', 'Capricórnio', 'Priscila Eduarda Jaqueline', 'Thales Rodrigo da Paz', 'cclaravitoriadapaz@lucaslima.com', 'tpmQTTTsj8', '72900-142', 'Quadra Quadra 119', 323, 'Centro', 'Santo Antônio do Descoberto', 'GO', '(61 2524-2651', '(61)98653-5710', '1,66', '81', 'A+', 'vermelho'), (10, 'Juliana Julia Almada', 58, '902.138.091-92', '16.873.657-3', '17/01/1964', 'Feminino', 'Capricórnio', 'Ayla Olivia Manuela', 'Hugo Renan Almada', 'jjulianajuliaalmada@gat.com.br', 'yTpGfA5i5D', '91540-070', 'Rua João Antônio Lopes', 831, 'Agronomia', 'Porto Alegre', 'RS', '(51)3746-3602', '(51)98254-7936', '1,80', '88', 'O+', 'amarelo')]\n"
     ]
    }
   ],
   "source": [
    "cursor.execute(\"SELECT * FROM FichaCadastral WHERE NOT TipodeSangue = 'O-' OR TipodeSangue = 'B-'\")\n",
    "print (cursor.fetchall())"
   ]
  },
  {
   "cell_type": "code",
   "execution_count": 50,
   "id": "5c8828b6",
   "metadata": {},
   "outputs": [
    {
     "name": "stdout",
     "output_type": "stream",
     "text": [
      "[('08/01/1997', 'Manoel Lucca Felipe da Rosa', 25), ('08/01/1996', 'Thales Ruan Guilherme da Rosa', 26), ('20/01/1987', 'Malu Amanda Ramos', 35), ('12/01/1974', 'Victor Osvaldo Pinto', 48), ('05/01/1973', 'Igor Ruan Benício Aparício', 49), ('17/01/1964', 'Juliana Julia Almada', 58), ('08/01/1962', 'Carlos Eduardo Geraldo Lopes', 60), ('02/01/1954', 'Isabella Tereza Sara Silva', 68), ('04/01/1944', 'Kamilly Giovanna Eliane Jesus', 78), ('13/01/1944', 'Clara Vitória da Paz', 78)]\n"
     ]
    }
   ],
   "source": [
    "# Liste a data de nascimento e o primeiro nome dos funcionários ordenados do mais novo para o mais velho\n",
    "cursor.execute(\"SELECT DataNasci,nome,idade FROM FichaCadastral ORDER BY idade ASC\")\n",
    "print (cursor.fetchall())             "
   ]
  },
  {
   "cell_type": "code",
   "execution_count": 56,
   "id": "25f35597",
   "metadata": {},
   "outputs": [
    {
     "name": "stdout",
     "output_type": "stream",
     "text": [
      "[('Carlos Eduardo Geraldo Lopes', 'carloseduardogeraldolopes@bernardino.com'), ('Clara Vitória da Paz', 'cclaravitoriadapaz@lucaslima.com'), ('Igor Ruan Benício Aparício', 'igorruanbenicioaparicio_@yahool.com.br'), ('Isabella Tereza Sara Silva', 'isabellaterezasarasilva_@santosferreira.adv.br'), ('Juliana Julia Almada', 'jjulianajuliaalmada@gat.com.br'), ('Kamilly Giovanna Eliane Jesus', 'kkamillygiovannaelianejesus@rotauniformes.com.br'), ('Malu Amanda Ramos', 'maluamandaramos@wsiconsultores.com.br'), ('Manoel Lucca Felipe da Rosa', 'manoelluccafelipedarosa@barratravel.com.br'), ('Thales Ruan Guilherme da Rosa', 'thalesruanguilhermedarosa@zignani.com.br'), ('Victor Osvaldo Pinto', 'victorosvaldopinto_@modus.com.br')]\n"
     ]
    }
   ],
   "source": [
    "cursor.execute(\"SELECT nome, Email FROM FichaCadastral GROUP BY nome\")\n",
    "print (cursor.fetchall())"
   ]
  },
  {
   "cell_type": "code",
   "execution_count": 58,
   "id": "5c1a0b3f",
   "metadata": {},
   "outputs": [
    {
     "data": {
      "text/plain": [
       "[(525,)]"
      ]
     },
     "execution_count": 58,
     "metadata": {},
     "output_type": "execute_result"
    }
   ],
   "source": [
    "# Liste o total da folha de pagamento, somei as idades pq na minha tabela não tem pagamento\n",
    "sql = \"\"\"SELECT SUM(idade)\n",
    "FROM FichaCadastral\n",
    "WHERE idade > '18'\"\"\"\n",
    "cursor.execute(sql)\n",
    "cursor.fetchall()"
   ]
  },
  {
   "cell_type": "code",
   "execution_count": 57,
   "id": "b92783e0",
   "metadata": {},
   "outputs": [
    {
     "data": {
      "text/plain": [
       "[(1,)]"
      ]
     },
     "execution_count": 57,
     "metadata": {},
     "output_type": "execute_result"
    }
   ],
   "source": [
    "sql = \"\"\"SELECT COUNT(nome)\n",
    "FROM FichaCadastral\n",
    "WHERE nome = 'Malu Amanda Ramos'\"\"\"\n",
    "cursor.execute(sql)\n",
    "cursor.fetchall()"
   ]
  },
  {
   "cell_type": "code",
   "execution_count": 59,
   "id": "509eef1b",
   "metadata": {},
   "outputs": [
    {
     "data": {
      "text/plain": [
       "[(52.5,)]"
      ]
     },
     "execution_count": 59,
     "metadata": {},
     "output_type": "execute_result"
    }
   ],
   "source": [
    "sql = \"\"\"SELECT AVG(idade)\n",
    "FROM FichaCadastral\n",
    "WHERE idade>'18'\"\"\"\n",
    "cursor.execute(sql)\n",
    "cursor.fetchall()"
   ]
  },
  {
   "cell_type": "code",
   "execution_count": 60,
   "id": "0c44b0e0",
   "metadata": {},
   "outputs": [
    {
     "name": "stdout",
     "output_type": "stream",
     "text": [
      "[('Carlos Eduardo Geraldo Lopes', 'Malu Catarina', 'Vicente Filipe Julio Lopes'), ('Clara Vitória da Paz', 'Priscila Eduarda Jaqueline', 'Thales Rodrigo da Paz'), ('Igor Ruan Benício Aparício', 'Sophia Hadassa Andreia', 'Ricardo Vitor Márcio Aparício'), ('Isabella Tereza Sara Silva', 'Joana Letícia Priscila', 'Victor Geraldo Silva'), ('Juliana Julia Almada', 'Ayla Olivia Manuela', 'Hugo Renan Almada'), ('Kamilly Giovanna Eliane Jesus', 'Mariane Lara', 'Raimundo César Jesus'), ('Malu Amanda Ramos', 'Malu Stella Tereza', 'Kevin Miguel Ramos'), ('Manoel Lucca Felipe da Rosa', 'Mariane Alice Daiane', 'Miguel Theo da Rosa'), ('Thales Ruan Guilherme da Rosa', 'Cláudia Flávia', 'José Danilo da Rosa'), ('Victor Osvaldo Pinto', 'Eliane Amanda', 'Danilo Vitor Pinto')]\n"
     ]
    }
   ],
   "source": [
    "# Liste o nome, o nome do departamento e a função de todos os funcionários, neste fiz com nome, nome da mae(Mãe) e nome do Pai\n",
    "cursor.execute(\"SELECT nome,Mãe,Pai FROM FichaCadastral GROUP BY nome\")\n",
    "print (cursor.fetchall())"
   ]
  },
  {
   "cell_type": "code",
   "execution_count": 70,
   "id": "11133a5c",
   "metadata": {},
   "outputs": [
    {
     "data": {
      "text/plain": [
       "[(10,)]"
      ]
     },
     "execution_count": 70,
     "metadata": {},
     "output_type": "execute_result"
    }
   ],
   "source": [
    "# Liste a quantidade de funcionários desta empresa, liste a quantidade de pessoas cadastradas.\n",
    "sql = \"\"\"SELECT SUM(Código)\n",
    "FROM FichaCadastral\n",
    "WHERE Código>'9'\"\"\"\n",
    "cursor.execute(sql)\n",
    "cursor.fetchall()"
   ]
  },
  {
   "cell_type": "code",
   "execution_count": 69,
   "id": "39de5940",
   "metadata": {},
   "outputs": [
    {
     "data": {
      "text/plain": [
       "[(55,)]"
      ]
     },
     "execution_count": 69,
     "metadata": {},
     "output_type": "execute_result"
    }
   ],
   "source": [
    "sql = \"\"\"SELECT SUM(Código)\n",
    "FROM FichaCadastral\"\"\"\n",
    "cursor.execute(sql)\n",
    "cursor.fetchall()"
   ]
  },
  {
   "cell_type": "code",
   "execution_count": null,
   "id": "279b8478",
   "metadata": {},
   "outputs": [],
   "source": [
    "# Liste o nome do departamento e do funcionário ordenados por departamento e funcionário"
   ]
  },
  {
   "cell_type": "code",
   "execution_count": 71,
   "id": "347afc1f",
   "metadata": {},
   "outputs": [
    {
     "name": "stdout",
     "output_type": "stream",
     "text": [
      "[('Altamira', 'PA'), ('Aracaju', 'SE'), ('Belém', 'PA'), ('Brasília', 'DF'), ('Brasília', 'DF'), ('Brasília', 'DF'), ('Patos', 'PB'), ('Porto Alegre', 'RS'), ('Santo Antônio do Descoberto', 'GO'), ('São Gonçalo', 'RJ')]\n"
     ]
    }
   ],
   "source": [
    "cursor.execute(\"SELECT Cidade, Estado FROM FichaCadastral ORDER BY Cidade,Estado ASC\")\n",
    "print (cursor.fetchall())"
   ]
  },
  {
   "cell_type": "code",
   "execution_count": 74,
   "id": "c37d1f53",
   "metadata": {},
   "outputs": [
    {
     "name": "stdout",
     "output_type": "stream",
     "text": [
      "[('Brasília', 'DF'), ('Brasília', 'DF'), ('Brasília', 'DF'), ('Santo Antônio do Descoberto', 'GO'), ('Belém', 'PA'), ('Altamira', 'PA'), ('Patos', 'PB'), ('São Gonçalo', 'RJ'), ('Porto Alegre', 'RS'), ('Aracaju', 'SE')]\n"
     ]
    }
   ],
   "source": [
    "cursor.execute(\"SELECT Cidade, Estado FROM FichaCadastral ORDER BY estado,cidade DESC\")\n",
    "print (cursor.fetchall())"
   ]
  },
  {
   "cell_type": "code",
   "execution_count": null,
   "id": "95e05132",
   "metadata": {},
   "outputs": [],
   "source": []
  },
  {
   "cell_type": "code",
   "execution_count": 9,
   "id": "9fd3ecc7",
   "metadata": {},
   "outputs": [
    {
     "name": "stdout",
     "output_type": "stream",
     "text": [
      "Tabela deletada com sucesso!\n"
     ]
    }
   ],
   "source": [
    "# Deleta tabela departamentos caso necessário\n",
    "cursor.execute(\"DROP TABLE FichaCadastral\")\n",
    "print(\"Tabela deletada com sucesso!\")"
   ]
  }
 ],
 "metadata": {
  "kernelspec": {
   "display_name": "Python 3 (ipykernel)",
   "language": "python",
   "name": "python3"
  },
  "language_info": {
   "codemirror_mode": {
    "name": "ipython",
    "version": 3
   },
   "file_extension": ".py",
   "mimetype": "text/x-python",
   "name": "python",
   "nbconvert_exporter": "python",
   "pygments_lexer": "ipython3",
   "version": "3.9.7"
  }
 },
 "nbformat": 4,
 "nbformat_minor": 5
}
