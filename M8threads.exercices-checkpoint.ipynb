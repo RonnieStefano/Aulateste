{
 "cells": [
  {
   "cell_type": "markdown",
   "id": "5f665868",
   "metadata": {},
   "source": [
    "# 1- crie uma função Proc1 que imprime a mensagem \"processo 1\" e siga as instruções:\n",
    "    A - inicialize essa função a partir de um objeto thread t1;\n",
    "    B - Consulte se o objeto Thread criado está ativo;\n",
    "    C - Consulte o nome da Thread ativa atualmente;\n",
    "    D - Consulte o identificador de thread do thread atual;\n",
    "    E - Consulte a quantidade de Threads ativas no atualmente;\n",
    "    F - Retorne uma lista com todos os Threads ativos no momento."
   ]
  },
  {
   "cell_type": "code",
   "execution_count": 1,
   "id": "3f13d128",
   "metadata": {},
   "outputs": [
    {
     "name": "stdout",
     "output_type": "stream",
     "text": [
      "Processo 1 - Tarefa 0\n",
      "Processo 1 - Tarefa 1\n",
      "Processo 1 - Tarefa 2\n",
      "Processo 1 - Tarefa 3\n",
      "Processo 1 - Tarefa 4\n"
     ]
    }
   ],
   "source": [
    "import threading\n",
    "from threading import Thread\n",
    "\n",
    "def Proc1():\n",
    "    for x in range(5):\n",
    "        print(\"Processo 1 - Tarefa\", x )\n",
    "        x +=1  \n",
    "#inicialize a função thread t1        \n",
    "t1 = Thread(target=Proc1)\n",
    "t1.start()"
   ]
  },
  {
   "cell_type": "code",
   "execution_count": 2,
   "id": "a106eda8",
   "metadata": {},
   "outputs": [
    {
     "data": {
      "text/plain": [
       "False"
      ]
     },
     "execution_count": 2,
     "metadata": {},
     "output_type": "execute_result"
    }
   ],
   "source": [
    "#consulta se está ativo\n",
    "t1.is_alive()"
   ]
  },
  {
   "cell_type": "code",
   "execution_count": 3,
   "id": "eadbf1de",
   "metadata": {},
   "outputs": [
    {
     "data": {
      "text/plain": [
       "'Thread-8'"
      ]
     },
     "execution_count": 3,
     "metadata": {},
     "output_type": "execute_result"
    }
   ],
   "source": [
    "# consulta no nome Thread ativa atualmente\n",
    "t1.getName()"
   ]
  },
  {
   "cell_type": "code",
   "execution_count": 4,
   "id": "e10225ad",
   "metadata": {},
   "outputs": [
    {
     "data": {
      "text/plain": [
       "<bound method Thread.join of <Thread(Thread-8, stopped 17452)>>"
      ]
     },
     "execution_count": 4,
     "metadata": {},
     "output_type": "execute_result"
    }
   ],
   "source": [
    "#Consulte o identificador de thread do thread atual;\n",
    "t1.join"
   ]
  },
  {
   "cell_type": "code",
   "execution_count": 5,
   "id": "9e8858f8",
   "metadata": {},
   "outputs": [
    {
     "data": {
      "text/plain": [
       "6"
      ]
     },
     "execution_count": 5,
     "metadata": {},
     "output_type": "execute_result"
    }
   ],
   "source": [
    "#Consulte a quantidade de Threads ativas no atualmente\n",
    "threading.active_count()"
   ]
  },
  {
   "cell_type": "code",
   "execution_count": 6,
   "id": "e4966b4a",
   "metadata": {},
   "outputs": [
    {
     "data": {
      "text/plain": [
       "False"
      ]
     },
     "execution_count": 6,
     "metadata": {},
     "output_type": "execute_result"
    }
   ],
   "source": [
    "#método daemon para verificar a natureza ou o status do thread atual.\n",
    "t1.isDaemon()"
   ]
  },
  {
   "cell_type": "code",
   "execution_count": 7,
   "id": "06d1afe6",
   "metadata": {},
   "outputs": [
    {
     "data": {
      "text/plain": [
       "17452"
      ]
     },
     "execution_count": 7,
     "metadata": {},
     "output_type": "execute_result"
    }
   ],
   "source": [
    "t1.ident"
   ]
  },
  {
   "cell_type": "code",
   "execution_count": 8,
   "id": "878d957e",
   "metadata": {},
   "outputs": [
    {
     "data": {
      "text/plain": [
       "<Thread(Thread-9, initial)>"
      ]
     },
     "execution_count": 8,
     "metadata": {},
     "output_type": "execute_result"
    }
   ],
   "source": [
    "threading.Thread()"
   ]
  },
  {
   "cell_type": "code",
   "execution_count": 9,
   "id": "5efa7275",
   "metadata": {},
   "outputs": [
    {
     "data": {
      "text/plain": [
       "[<_MainThread(MainThread, started 9760)>,\n",
       " <Thread(Thread-6, started daemon 18112)>,\n",
       " <Heartbeat(Thread-7, started daemon 11900)>,\n",
       " <ControlThread(Thread-5, started daemon 18060)>,\n",
       " <HistorySavingThread(IPythonHistorySavingThread, started 13936)>,\n",
       " <ParentPollerWindows(Thread-4, started daemon 10112)>]"
      ]
     },
     "execution_count": 9,
     "metadata": {},
     "output_type": "execute_result"
    }
   ],
   "source": [
    "#consulte quantidade de threads ativas:\n",
    "threading.enumerate( ) "
   ]
  },
  {
   "cell_type": "markdown",
   "id": "43b4620d",
   "metadata": {},
   "source": [
    "# 2 - escreva um script para mostrar os diversos formatos de tempo conforme se segue:\n",
    "    A - Inicialize as funções a partir de um objeto Thread t1 e t2 respectivamente;\n",
    "    B - Consulte se os objetos criados estão ativos;\n",
    "    C - Importe o modulo time e crie um delay de tempo em cada uma das funções, sendo 5s sleep e 30s em proc1 e proc2 respectivamente.\n",
    "    D - Consulte rapidamente(antes do 30 segundos), se cada um dos objetos da thread está ativo e imprima na tela."
   ]
  },
  {
   "cell_type": "code",
   "execution_count": 11,
   "id": "166fd3e2",
   "metadata": {},
   "outputs": [
    {
     "name": "stdout",
     "output_type": "stream",
     "text": [
      "Processo 1 - Tarefa 0\n",
      "Processo 1 - Tarefa 1\n",
      "Processo 1 - Tarefa 2\n",
      "Processo 1 - Tarefa 3\n",
      "Processo 1 - Tarefa 4\n",
      "Processo 1 - Tarefa 5\n",
      "Processo 1 - Tarefa 6\n",
      "Processo 1 - Tarefa 7\n",
      "Processo 1 - Tarefa 8\n",
      "Processo 1 - Tarefa 9\n",
      "Processo 2 - Tarefa 0\n",
      "Processo 2 - Tarefa 1\n",
      "Processo 2 - Tarefa 2\n",
      "Processo 2 - Tarefa 3\n",
      "Processo 2 - Tarefa 4\n",
      "Processo 2 - Tarefa 5\n",
      "Processo 2 - Tarefa 6\n",
      "Processo 2 - Tarefa 7\n",
      "Processo 2 - Tarefa 8\n",
      "Processo 2 - Tarefa 9\n"
     ]
    }
   ],
   "source": [
    "# inicializei o programa e consulte se ativo:\n",
    "from threading import Thread\n",
    "def func1():\n",
    "    for x in range(10):\n",
    "        print(\"Processo 1 - Tarefa\", x )\n",
    "        x +=1  \n",
    "\n",
    "def func2():\n",
    "    # faz algo\n",
    "    for x in range(10):\n",
    "        print(\"Processo 2 - Tarefa\", x)\n",
    "        x +=1\n",
    "\n",
    "t1 = Thread(target=func1)\n",
    "t1.start()\n",
    "\n",
    "t2 = Thread(target=func2) \n",
    "t2.start()"
   ]
  },
  {
   "cell_type": "code",
   "execution_count": 12,
   "id": "10f90939",
   "metadata": {},
   "outputs": [
    {
     "name": "stdout",
     "output_type": "stream",
     "text": [
      "False\n"
     ]
    },
    {
     "data": {
      "text/plain": [
       "False"
      ]
     },
     "execution_count": 12,
     "metadata": {},
     "output_type": "execute_result"
    }
   ],
   "source": [
    "#consulta se está ativo\n",
    "print(t1.is_alive())\n",
    "t2.is_alive()"
   ]
  },
  {
   "cell_type": "code",
   "execution_count": 13,
   "id": "8d59c9c2",
   "metadata": {},
   "outputs": [
    {
     "name": "stdout",
     "output_type": "stream",
     "text": [
      "Processo 1 - Tarefa 0\n",
      "Processo 2 - Tarefa 0\n",
      "Processo 1 - Tarefa 1\n"
     ]
    }
   ],
   "source": [
    "# agora utilizando modulo timer - consulta se está ativo:\n",
    "from threading import Thread\n",
    "import time\n",
    "def func3():\n",
    "    # faz algo\n",
    "    for x in range(10):\n",
    "        print(\"Processo 1 - Tarefa\", x )\n",
    "        time.sleep(10)\n",
    "        x +=1  \n",
    "\n",
    "def func4():\n",
    "    # faz algo\n",
    "    for x in range(10):\n",
    "        print(\"Processo 2 - Tarefa\", x)\n",
    "        time.sleep(30)\n",
    "        x +=1\n",
    "t3 = Thread(target=func3)\n",
    "t3.start()\n",
    "t4 = Thread(target=func4) \n",
    "t4.start()"
   ]
  },
  {
   "cell_type": "code",
   "execution_count": 14,
   "id": "3846bde2",
   "metadata": {},
   "outputs": [
    {
     "name": "stdout",
     "output_type": "stream",
     "text": [
      "True\n"
     ]
    },
    {
     "data": {
      "text/plain": [
       "True"
      ]
     },
     "execution_count": 14,
     "metadata": {},
     "output_type": "execute_result"
    },
    {
     "name": "stdout",
     "output_type": "stream",
     "text": [
      "Processo 1 - Tarefa 2\n",
      "Processo 1 - Tarefa 3\n",
      "Processo 2 - Tarefa 1\n",
      "Processo 1 - Tarefa 4\n",
      "Processo 1 - Tarefa 5\n",
      "Processo 1 - Tarefa 6\n",
      "Processo 2 - Tarefa 2\n",
      "Processo 1 - Tarefa 7\n",
      "Processo 1 - Tarefa 8\n",
      "Processo 1 - Tarefa 9\n",
      "Processo 2 - Tarefa 3\n",
      "Processo 2 - Tarefa 4\n",
      "Processo 2 - Tarefa 5\n",
      "Processo 2 - Tarefa 6\n",
      "Processo 2 - Tarefa 7\n",
      "Processo 2 - Tarefa 8\n",
      "Processo 2 - Tarefa 9\n"
     ]
    }
   ],
   "source": [
    "print(t3.is_alive())\n",
    "t4.is_alive()"
   ]
  },
  {
   "cell_type": "markdown",
   "id": "aab4de94",
   "metadata": {},
   "source": [
    "# 3 -  responda as questões a seguir:\n",
    "    A - O que é o problema do produtor consumidor e como podemos resolver este problema com threads?\n",
    "    B - Indique mais um problema classico da computação e como podemos resolve-los com threads, explicando de forma  detalhada."
   ]
  },
  {
   "cell_type": "markdown",
   "id": "3d82f6f7",
   "metadata": {},
   "source": [
    "#### A- problema do produtor e consumidor:\n",
    "Chamado de Produtor e o Consumidor (também conhecido como o problema do buffer limitado), consiste em um conjunto de processos que compartilham um mesmo buffer. Os processos chamados produtores põem informação no buffer. Os processos chamados consumidores retiram informação deste buffer.\n",
    "\n",
    "Esse é um problema clássico em sistemas operacionais, que busca exemplificar de forma clara, situações de impasses que ocorrem no gerenciamento de processos de um sistema operacional. Para quem está iniciando na programação, esse problema se torna complexo, pois trabalhar com programação concorrente nem sempre é tão simples. Como sabemos, precisamos nos preocupar com acessos ilegais a certos recursos que são compartilhados entre os processos, e manter sincronismo entre os mesmos.\n",
    "\n",
    "Para controlarmos o acesso a essas variáveis e termos sincronismo nas operações, vamos utilizar semáforos. Em ciência da computação, semáforo é uma variável especial protegida (ou tipo abstrato de dados) que tem como função o controle de acesso a recursos compartilhados (por exemplo, um espaço de armazenamento) num ambiente multitarefa. Com as variáveis do tipo pthread_mutex_t da biblioteca pthreads - Posix, podemos controlar esses dados com toda segurança. Outro controle importante é a demanda de processamento, espera ociosa, que o programa irá gerar, pois quando um processo não está liberado para gravar ou ler, deve entrar em estado de espera para não consumir processamento de graça, e deve ser avisado quando pode voltar a processar.\n"
   ]
  },
  {
   "cell_type": "markdown",
   "id": "68dfc685",
   "metadata": {},
   "source": [
    "#### B - resposta, na minha pesquisa vi que tem bastante problema de sincronização:\n",
    "Problema do consumidor produtor sem sincronização: O código acima é ineficiente porque os recursos da CPU não estão sendo utilizados de maneira eficiente. Os threads estão aguardando o buffer no estado de espera. Em vez disso, podemos utilizar esses threads de maneira eficiente, encerrando-os e criando-os novamente. Isso é:\n",
    "\n",
    "Quando o buffer estiver cheio, encerraremos esse thread.\n",
    "Crie outro encadeamento para consumir os dados (neste ponto o encadeamento do produtor está morto).\n",
    "Uma vez que o buffer está vazio, o encadeamento do consumidor termina e o encadeamento do produtor é criado e produz os dados (neste ponto, o encadeamento do consumidor está morto).\n",
    "\n",
    "Problema do consumidor do produtor modificado: A abordagem acima pode ser melhorada ainda mais porque o mesmo buffer está sendo usado pelo produtor e pelo consumidor. Portanto, em vez de usar vários encadeamentos, use um encadeamento de forma que, inicialmente, o buffer esteja vazio e o encadeamento que foi criado atue como um produtor. Uma vez que o buffer está cheio, este thread atua como um consumidor e consome os dados. No entanto, precisamos evitar um impasse."
   ]
  },
  {
   "cell_type": "markdown",
   "id": "d4e56aa2",
   "metadata": {},
   "source": [
    "# 4 - Em relação aos objetos em Threads, complete a tabela a seguir."
   ]
  },
  {
   "cell_type": "code",
   "execution_count": 1,
   "id": "c5a98371",
   "metadata": {},
   "outputs": [],
   "source": [
    "import pandas as pd"
   ]
  },
  {
   "cell_type": "code",
   "execution_count": 2,
   "id": "bd5dc3d3",
   "metadata": {},
   "outputs": [
    {
     "data": {
      "text/html": [
       "<div>\n",
       "<style scoped>\n",
       "    .dataframe tbody tr th:only-of-type {\n",
       "        vertical-align: middle;\n",
       "    }\n",
       "\n",
       "    .dataframe tbody tr th {\n",
       "        vertical-align: top;\n",
       "    }\n",
       "\n",
       "    .dataframe thead th {\n",
       "        text-align: right;\n",
       "    }\n",
       "</style>\n",
       "<table border=\"1\" class=\"dataframe\">\n",
       "  <thead>\n",
       "    <tr style=\"text-align: right;\">\n",
       "      <th></th>\n",
       "      <th>Objeto</th>\n",
       "      <th>Descrição da função</th>\n",
       "      <th>Comando de inicialização</th>\n",
       "    </tr>\n",
       "  </thead>\n",
       "  <tbody>\n",
       "    <tr>\n",
       "      <th>0</th>\n",
       "      <td>Thread</td>\n",
       "      <td>A sincronização de threads é definida como um ...</td>\n",
       "      <td>t1 = threading.Thread(target= func, args=(loc...</td>\n",
       "    </tr>\n",
       "    <tr>\n",
       "      <th>1</th>\n",
       "      <td>Lock</td>\n",
       "      <td>O lock é um bloqueio, é uma classe no módulo d...</td>\n",
       "      <td>lock = threading.Lock()</td>\n",
       "    </tr>\n",
       "    <tr>\n",
       "      <th>2</th>\n",
       "      <td>RLock</td>\n",
       "      <td>O bloqueio padrão não reconhece qual segmento ...</td>\n",
       "      <td>Rlock = threading.RLock()</td>\n",
       "    </tr>\n",
       "    <tr>\n",
       "      <th>3</th>\n",
       "      <td>Condition</td>\n",
       "      <td>Metodo de condição, podemos dizer que a implem...</td>\n",
       "      <td>condição_objeto = threading.condition()</td>\n",
       "    </tr>\n",
       "    <tr>\n",
       "      <th>4</th>\n",
       "      <td>Event</td>\n",
       "      <td>O objeto Event é considerado ou recomendado co...</td>\n",
       "      <td>event_object = threading.Event()</td>\n",
       "    </tr>\n",
       "    <tr>\n",
       "      <th>5</th>\n",
       "      <td>Semaphore</td>\n",
       "      <td>Em Lock e RLock , por vez, apenas um Thread po...</td>\n",
       "      <td>object_name.Semaphore (n)</td>\n",
       "    </tr>\n",
       "    <tr>\n",
       "      <th>6</th>\n",
       "      <td>BoundedSemaphore</td>\n",
       "      <td>Objeto criado para controlar o número de threa...</td>\n",
       "      <td>threading.BoundedSemaphores()</td>\n",
       "    </tr>\n",
       "    <tr>\n",
       "      <th>7</th>\n",
       "      <td>Timer</td>\n",
       "      <td>O método threading. Timer(interval, function, ...</td>\n",
       "      <td>threading. Timer()</td>\n",
       "    </tr>\n",
       "    <tr>\n",
       "      <th>8</th>\n",
       "      <td>Barrier</td>\n",
       "      <td>Objetos de barreira em python são usados ​​par...</td>\n",
       "      <td>barreira = threading.Barrier (number_of_thread...</td>\n",
       "    </tr>\n",
       "  </tbody>\n",
       "</table>\n",
       "</div>"
      ],
      "text/plain": [
       "             Objeto                                Descrição da função  \\\n",
       "0            Thread  A sincronização de threads é definida como um ...   \n",
       "1              Lock  O lock é um bloqueio, é uma classe no módulo d...   \n",
       "2             RLock  O bloqueio padrão não reconhece qual segmento ...   \n",
       "3         Condition  Metodo de condição, podemos dizer que a implem...   \n",
       "4             Event  O objeto Event é considerado ou recomendado co...   \n",
       "5         Semaphore  Em Lock e RLock , por vez, apenas um Thread po...   \n",
       "6  BoundedSemaphore  Objeto criado para controlar o número de threa...   \n",
       "7             Timer  O método threading. Timer(interval, function, ...   \n",
       "8           Barrier  Objetos de barreira em python são usados ​​par...   \n",
       "\n",
       "                            Comando de inicialização  \n",
       "0   t1 = threading.Thread(target= func, args=(loc...  \n",
       "1                           lock = threading.Lock()   \n",
       "2                          Rlock = threading.RLock()  \n",
       "3            condição_objeto = threading.condition()  \n",
       "4                   event_object = threading.Event()  \n",
       "5                          object_name.Semaphore (n)  \n",
       "6                      threading.BoundedSemaphores()  \n",
       "7                                threading. Timer()   \n",
       "8  barreira = threading.Barrier (number_of_thread...  "
      ]
     },
     "execution_count": 2,
     "metadata": {},
     "output_type": "execute_result"
    }
   ],
   "source": [
    "tabela_threads = pd.read_excel(\"Planilha-Threads.xlsx\")\n",
    "tabela_threads "
   ]
  },
  {
   "cell_type": "code",
   "execution_count": 3,
   "id": "343ad583",
   "metadata": {},
   "outputs": [
    {
     "data": {
      "text/html": [
       "<div>\n",
       "<style scoped>\n",
       "    .dataframe tbody tr th:only-of-type {\n",
       "        vertical-align: middle;\n",
       "    }\n",
       "\n",
       "    .dataframe tbody tr th {\n",
       "        vertical-align: top;\n",
       "    }\n",
       "\n",
       "    .dataframe thead th {\n",
       "        text-align: right;\n",
       "    }\n",
       "</style>\n",
       "<table border=\"1\" class=\"dataframe\">\n",
       "  <thead>\n",
       "    <tr style=\"text-align: right;\">\n",
       "      <th></th>\n",
       "      <th>Descrição da função</th>\n",
       "    </tr>\n",
       "  </thead>\n",
       "  <tbody>\n",
       "    <tr>\n",
       "      <th>0</th>\n",
       "      <td>A sincronização de threads é definida como um ...</td>\n",
       "    </tr>\n",
       "    <tr>\n",
       "      <th>1</th>\n",
       "      <td>O lock é um bloqueio, é uma classe no módulo d...</td>\n",
       "    </tr>\n",
       "    <tr>\n",
       "      <th>2</th>\n",
       "      <td>O bloqueio padrão não reconhece qual segmento ...</td>\n",
       "    </tr>\n",
       "    <tr>\n",
       "      <th>3</th>\n",
       "      <td>Metodo de condição, podemos dizer que a implem...</td>\n",
       "    </tr>\n",
       "    <tr>\n",
       "      <th>4</th>\n",
       "      <td>O objeto Event é considerado ou recomendado co...</td>\n",
       "    </tr>\n",
       "    <tr>\n",
       "      <th>5</th>\n",
       "      <td>Em Lock e RLock , por vez, apenas um Thread po...</td>\n",
       "    </tr>\n",
       "    <tr>\n",
       "      <th>6</th>\n",
       "      <td>Objeto criado para controlar o número de threa...</td>\n",
       "    </tr>\n",
       "    <tr>\n",
       "      <th>7</th>\n",
       "      <td>O método threading. Timer(interval, function, ...</td>\n",
       "    </tr>\n",
       "    <tr>\n",
       "      <th>8</th>\n",
       "      <td>Objetos de barreira em python são usados ​​par...</td>\n",
       "    </tr>\n",
       "  </tbody>\n",
       "</table>\n",
       "</div>"
      ],
      "text/plain": [
       "                                 Descrição da função\n",
       "0  A sincronização de threads é definida como um ...\n",
       "1  O lock é um bloqueio, é uma classe no módulo d...\n",
       "2  O bloqueio padrão não reconhece qual segmento ...\n",
       "3  Metodo de condição, podemos dizer que a implem...\n",
       "4  O objeto Event é considerado ou recomendado co...\n",
       "5  Em Lock e RLock , por vez, apenas um Thread po...\n",
       "6  Objeto criado para controlar o número de threa...\n",
       "7  O método threading. Timer(interval, function, ...\n",
       "8  Objetos de barreira em python são usados ​​par..."
      ]
     },
     "execution_count": 3,
     "metadata": {},
     "output_type": "execute_result"
    }
   ],
   "source": [
    "tabela_threads[['Descrição da função']]"
   ]
  },
  {
   "cell_type": "code",
   "execution_count": 5,
   "id": "746d56c9",
   "metadata": {},
   "outputs": [
    {
     "data": {
      "text/plain": [
       "(    Objeto                                Descrição da função  \\\n",
       " 8  Barrier  Objetos de barreira em python são usados ​​par...   \n",
       " \n",
       "                             Comando de inicialização  \n",
       " 8  barreira = threading.Barrier (number_of_thread...  ,\n",
       " ['Descrição da função'])"
      ]
     },
     "execution_count": 5,
     "metadata": {},
     "output_type": "execute_result"
    }
   ],
   "source": [
    "tabela_threads.loc[[8]], ['Descrição da função']"
   ]
  },
  {
   "cell_type": "code",
   "execution_count": null,
   "id": "bb74c053",
   "metadata": {},
   "outputs": [],
   "source": []
  },
  {
   "cell_type": "code",
   "execution_count": null,
   "id": "430b0847",
   "metadata": {},
   "outputs": [],
   "source": []
  },
  {
   "cell_type": "code",
   "execution_count": 1,
   "id": "426f852c",
   "metadata": {},
   "outputs": [
    {
     "name": "stdout",
     "output_type": "stream",
     "text": [
      "Threads lançadas\n",
      "Thread 6 acordou depois de 1s\n",
      "\n",
      "Thread 5 acordou depois de 1s\n",
      "\n",
      "Thread 3 acordou depois de 1s\n",
      "\n",
      "Thread 7 acordou depois de 1s\n",
      "Thread 8 acordou depois de 1s\n",
      "\n",
      "\n",
      "Thread 9 acordou depois de 1s\n",
      "\n",
      "Thread 0 acordou depois de 2s\n",
      "\n",
      "Thread 4 acordou depois de 3s\n",
      "Thread 2 acordou depois de 3s\n",
      "Thread 1 acordou depois de 3s\n",
      "\n",
      "\n",
      "\n"
     ]
    }
   ],
   "source": [
    "import threading\n",
    "import time\n",
    "import random\n",
    "\n",
    "def minhathread(n):\n",
    "    t = random.randint(1,3)\n",
    "    time.sleep(t)\n",
    "    print(\"Thread {0} acordou depois de {1}s\\n\".format(n, t))\n",
    "\n",
    "for i in range(10):\n",
    "    threading.Thread(target=minhathread, args=(i,)).start()\n",
    "\n",
    "print(\"Threads lançadas\")"
   ]
  },
  {
   "cell_type": "code",
   "execution_count": 4,
   "id": "d2b79b5b",
   "metadata": {},
   "outputs": [
    {
     "name": "stdout",
     "output_type": "stream",
     "text": [
      "Thread 8 acordou depois de 1s\n",
      "Thread 4 acordou depois de 1s\n",
      "\n",
      "\n",
      "Thread 2 acordou depois de 2s\n",
      "Thread 3 acordou depois de 2s\n",
      "Thread 1 acordou depois de 2s\n",
      "Thread 7 acordou depois de 2s\n",
      "\n",
      "\n",
      "\n",
      "\n",
      "Thread 0 acordou depois de 3s\n",
      "\n",
      "Thread 6 acordou depois de 3s\n",
      "\n",
      "Thread 9 acordou depois de 3s\n",
      "\n",
      "Thread 5 acordou depois de 3s\n",
      "\n",
      "Todas as threads terminaram!\n"
     ]
    }
   ],
   "source": [
    "from threading import Thread\n",
    "import time\n",
    "import random\n",
    "\n",
    "def minhathread2(n):\n",
    "    t = random.randint(1,3)\n",
    "    time.sleep(t)\n",
    "    print(\"Thread {0} acordou depois de {1}s\\n\".format(n, t))\n",
    "\n",
    "threads = [ ]\n",
    "for i in range(10):\n",
    "    t = threading.Thread(target=minhathread2, args=(i,))\n",
    "    threads.append(t)\n",
    "    t.start()\n",
    "\n",
    "for x in threads:\n",
    "    x.join()\n",
    "\n",
    "print(\"Todas as threads terminaram!\")"
   ]
  },
  {
   "cell_type": "code",
   "execution_count": null,
   "id": "31b4e6c6",
   "metadata": {},
   "outputs": [],
   "source": []
  }
 ],
 "metadata": {
  "kernelspec": {
   "display_name": "Python 3 (ipykernel)",
   "language": "python",
   "name": "python3"
  },
  "language_info": {
   "codemirror_mode": {
    "name": "ipython",
    "version": 3
   },
   "file_extension": ".py",
   "mimetype": "text/x-python",
   "name": "python",
   "nbconvert_exporter": "python",
   "pygments_lexer": "ipython3",
   "version": "3.9.7"
  }
 },
 "nbformat": 4,
 "nbformat_minor": 5
}
