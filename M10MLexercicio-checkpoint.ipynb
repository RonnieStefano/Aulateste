{
 "cells": [
  {
   "cell_type": "markdown",
   "id": "1bdf3091",
   "metadata": {},
   "source": [
    "# Primeiro projeto\n",
    "### Modelo 1\n",
    "\n",
    "Para este projeto, considere o exemplo dado em relaçao a classificação de digitos manuscritos SVM. Trata-se de um problema de classificação bastante conhecido para os primeiros passos relacionados ao Aprendizado de maquinas.\n",
    "\n",
    "Considerando este contexto, faça o que se pede:\n",
    "    1- crie um modelo de classificação de imagens, a partir da importação da base de dados do Sci-kit learn. Este modelo deve ter as seguintes caracteristicas:\n",
    "    a- utilize a base de dados Mnist Dataset;\n",
    "    b- Divida a base de treinamento e teste em 80/20;\n",
    "    c- Utilize as técnicas de Cross Validation(k-fold=5);\n",
    "    d- Utilize técnicas de Random Search ou Grid Search para escolha dos melhores paramentros.\n",
    "\n",
    "OBS.: Os hiperparâmetros são as variáveis que governam o processo de treinamento e a topologia de um modelo de ML. Essas variáveis permanecem constantes ao longo do processo de treinamento e impactam diretamente no desempenho do seu programa de ML. Os hiperparâmetros são de dois tipos:\n",
    "\n",
    "Hiperparâmetros do modelo que influenciam a seleção do modelo, como o número e a largura das camadas ocultas\n",
    "Hiperparâmetros de algoritmo que influenciam a velocidade e a qualidade do algoritmo de aprendizado, como a taxa de aprendizado para Stochastic Gradient Descent (SGD) e o número de vizinhos mais próximos para o classificador ak Nearest Neighbors (KNN)"
   ]
  },
  {
   "cell_type": "code",
   "execution_count": null,
   "id": "b170a749",
   "metadata": {},
   "outputs": [],
   "source": [
    "# importando as bibliotecas\n",
    "import tensorflow as tf\n",
    "import numpy as np\n",
    "import pandas as pd\n",
    "import matplotlib.pyplot as plt\n",
    "import keras_tuner as kt\n",
    "# import datasets, classifiers and performance metrics\n",
    "from sklearn.metrics import confusion_matrix\n",
    "from tensorflow import keras\n",
    "from sklearn.model_selection import train_test_split\n",
    "from keras.models import Sequential\n",
    "from keras.layers.core import Dense, Activation\n",
    "from keras.utils import np_utils\n",
    "from sklearn import datasets, svm, metrics\n",
    "#from keras.optimizers import SGD"
   ]
  },
  {
   "cell_type": "code",
   "execution_count": 2,
   "id": "0131ab14",
   "metadata": {},
   "outputs": [],
   "source": [
    "# baixar e preparar imagens:\n",
    "(img_train, label_train), (img_test, label_test) = keras.datasets.fashion_mnist.load_data()"
   ]
  },
  {
   "cell_type": "code",
   "execution_count": 3,
   "id": "d977e287",
   "metadata": {},
   "outputs": [],
   "source": [
    "# Normalize os pixel valores entre 0 and 1\n",
    "img_train = img_train.astype('float32') / 255.0\n",
    "img_test = img_test.astype('float32') / 255.0"
   ]
  },
  {
   "cell_type": "markdown",
   "id": "d37ec0b3",
   "metadata": {},
   "source": [
    "### Defina o modelo :\n",
    "Ao construir um modelo para hypertuning, você também define o espaço de pesquisa do hiperparâmetro além da arquitetura do modelo. O modelo que você configurou para hypertuning é chamado de hipermodelo .\n",
    "\n",
    "Você pode definir um hipermodelo por meio de duas abordagens:\n",
    "    Usando uma função de construtor de modelo\n",
    "    Subclassificando a classe HyperModel da API Keras Tuner\n"
   ]
  },
  {
   "cell_type": "code",
   "execution_count": 4,
   "id": "b5fe9939",
   "metadata": {},
   "outputs": [],
   "source": [
    "def model_builder(hp):\n",
    "  model = keras.Sequential()\n",
    "  model.add(keras.layers.Flatten(input_shape=(28, 28)))\n",
    "\n",
    "  # Ajuste o número de unidades na primeira camada Densa\n",
    "  # Escolha um valor ideal entre 32-512\n",
    "  hp_units = hp.Int('units', min_value=32, max_value=512, step=32)\n",
    "  model.add(keras.layers.Dense(units=hp_units, activation='relu'))\n",
    "  model.add(keras.layers.Dense(10))\n",
    "\n",
    "  # Ajustar a taxa de aprendizado para o otimizador\n",
    "  # Escolha um valor ideal de 0,01, 0,001 ou 0,0001\n",
    "  hp_learning_rate = hp.Choice('learning_rate', values=[1e-2, 1e-3, 1e-4])\n",
    "\n",
    "  model.compile(optimizer=keras.optimizers.Adam(learning_rate=hp_learning_rate),\n",
    "                loss=keras.losses.SparseCategoricalCrossentropy(from_logits=True),\n",
    "                metrics=['accuracy'])\n",
    "\n",
    "  return model"
   ]
  },
  {
   "cell_type": "code",
   "execution_count": 5,
   "id": "7e20d5bb",
   "metadata": {},
   "outputs": [
    {
     "name": "stdout",
     "output_type": "stream",
     "text": [
      "INFO:tensorflow:Reloading Oracle from existing project my_dir\\intro_to_kt\\oracle.json\n",
      "INFO:tensorflow:Reloading Tuner from my_dir\\intro_to_kt\\tuner0.json\n"
     ]
    }
   ],
   "source": [
    "# Instancie o sintonizador e execute o hypertuning\n",
    "tuner = kt.Hyperband(model_builder,\n",
    "                     objective='val_accuracy',\n",
    "                     max_epochs=10,\n",
    "                     factor=3,\n",
    "                     directory='my_dir',\n",
    "                     project_name='intro_to_kt')"
   ]
  },
  {
   "cell_type": "markdown",
   "id": "9ed13483",
   "metadata": {},
   "source": [
    "O algoritmo de ajuste Hyperband usa alocação adaptável de recursos e parada antecipada para convergir rapidamente em um modelo de alto desempenho. Isso é feito usando um suporte de estilo de campeonato esportivo. O algoritmo treina um grande número de modelos por algumas épocas e leva apenas a metade dos modelos com melhor desempenho para a próxima rodada. A hiperbanda determina o número de modelos a serem treinados em um colchete calculando 1 + factor logarítmico ( max_epochs ) e arredondando-o para o inteiro mais próximo."
   ]
  },
  {
   "cell_type": "code",
   "execution_count": 6,
   "id": "fb38d836",
   "metadata": {},
   "outputs": [],
   "source": [
    "# Crie um retorno de chamada para interromper o treinamento \n",
    "stop_early = tf.keras.callbacks.EarlyStopping(monitor='val_loss', patience=5)"
   ]
  },
  {
   "cell_type": "code",
   "execution_count": 7,
   "id": "0945dd8e",
   "metadata": {},
   "outputs": [
    {
     "name": "stdout",
     "output_type": "stream",
     "text": [
      "INFO:tensorflow:Oracle triggered exit\n",
      "\n",
      "A pesquisa de hiperparâmetros está concluída. O número ideal de unidades na primeira rede densamente conectada\n",
      "camada é 480 e a taxa de aprendizado ideal para o otimizador\n",
      "é 0.001.\n",
      "\n"
     ]
    }
   ],
   "source": [
    "tuner.search(img_train, label_train, epochs=50, validation_split=0.2, callbacks=[stop_early])\n",
    "\n",
    "# Obtenha os hiperparâmetros ideais\n",
    "best_hps=tuner.get_best_hyperparameters(num_trials=1)[0]\n",
    "\n",
    "print(f\"\"\"\n",
    "A pesquisa de hiperparâmetros está concluída. O número ideal de unidades na primeira rede densamente conectada\n",
    "camada é {best_hps.get('units')} e a taxa de aprendizado ideal para o otimizador\n",
    "é {best_hps.get('learning_rate')}.\n",
    "\"\"\")"
   ]
  },
  {
   "cell_type": "code",
   "execution_count": 8,
   "id": "5884aae7",
   "metadata": {},
   "outputs": [
    {
     "name": "stdout",
     "output_type": "stream",
     "text": [
      "Epoch 1/50\n",
      "1500/1500 [==============================] - 11s 7ms/step - loss: 0.4970 - accuracy: 0.8240 - val_loss: 0.3961 - val_accuracy: 0.8558\n",
      "Epoch 2/50\n",
      "1500/1500 [==============================] - 10s 6ms/step - loss: 0.3717 - accuracy: 0.8644 - val_loss: 0.3505 - val_accuracy: 0.8709\n",
      "Epoch 3/50\n",
      "1500/1500 [==============================] - 10s 7ms/step - loss: 0.3314 - accuracy: 0.8773 - val_loss: 0.3294 - val_accuracy: 0.8778\n",
      "Epoch 4/50\n",
      "1500/1500 [==============================] - 10s 6ms/step - loss: 0.3066 - accuracy: 0.8855 - val_loss: 0.3427 - val_accuracy: 0.8770\n",
      "Epoch 5/50\n",
      "1500/1500 [==============================] - 9s 6ms/step - loss: 0.2874 - accuracy: 0.8938 - val_loss: 0.3384 - val_accuracy: 0.8759\n",
      "Epoch 6/50\n",
      "1500/1500 [==============================] - 9s 6ms/step - loss: 0.2698 - accuracy: 0.8999 - val_loss: 0.3343 - val_accuracy: 0.8848\n",
      "Epoch 7/50\n",
      "1500/1500 [==============================] - 9s 6ms/step - loss: 0.2582 - accuracy: 0.9034 - val_loss: 0.3153 - val_accuracy: 0.8871\n",
      "Epoch 8/50\n",
      "1500/1500 [==============================] - 9s 6ms/step - loss: 0.2436 - accuracy: 0.9093 - val_loss: 0.3428 - val_accuracy: 0.8794\n",
      "Epoch 9/50\n",
      "1500/1500 [==============================] - 10s 6ms/step - loss: 0.2319 - accuracy: 0.9127 - val_loss: 0.3051 - val_accuracy: 0.8906\n",
      "Epoch 10/50\n",
      "1500/1500 [==============================] - 9s 6ms/step - loss: 0.2251 - accuracy: 0.9161 - val_loss: 0.3475 - val_accuracy: 0.8810\n",
      "Epoch 11/50\n",
      "1500/1500 [==============================] - 10s 7ms/step - loss: 0.2144 - accuracy: 0.9195 - val_loss: 0.3318 - val_accuracy: 0.8873\n",
      "Epoch 12/50\n",
      "1500/1500 [==============================] - 10s 7ms/step - loss: 0.2085 - accuracy: 0.9206 - val_loss: 0.3297 - val_accuracy: 0.8898\n",
      "Epoch 13/50\n",
      "1500/1500 [==============================] - 10s 6ms/step - loss: 0.1970 - accuracy: 0.9262 - val_loss: 0.3590 - val_accuracy: 0.8782\n",
      "Epoch 14/50\n",
      "1500/1500 [==============================] - 9s 6ms/step - loss: 0.1908 - accuracy: 0.9283 - val_loss: 0.3507 - val_accuracy: 0.8847\n",
      "Epoch 15/50\n",
      "1500/1500 [==============================] - 9s 6ms/step - loss: 0.1852 - accuracy: 0.9305 - val_loss: 0.3357 - val_accuracy: 0.8938\n",
      "Epoch 16/50\n",
      "1500/1500 [==============================] - 9s 6ms/step - loss: 0.1783 - accuracy: 0.9333 - val_loss: 0.3313 - val_accuracy: 0.8935\n",
      "Epoch 17/50\n",
      "1500/1500 [==============================] - 10s 7ms/step - loss: 0.1718 - accuracy: 0.9337 - val_loss: 0.3503 - val_accuracy: 0.8908\n",
      "Epoch 18/50\n",
      "1500/1500 [==============================] - 10s 6ms/step - loss: 0.1673 - accuracy: 0.9369 - val_loss: 0.3255 - val_accuracy: 0.8964\n",
      "Epoch 19/50\n",
      "1500/1500 [==============================] - 10s 6ms/step - loss: 0.1596 - accuracy: 0.9399 - val_loss: 0.3575 - val_accuracy: 0.8865\n",
      "Epoch 20/50\n",
      "1500/1500 [==============================] - 10s 7ms/step - loss: 0.1550 - accuracy: 0.9415 - val_loss: 0.3491 - val_accuracy: 0.8953\n",
      "Epoch 21/50\n",
      "1500/1500 [==============================] - 10s 6ms/step - loss: 0.1486 - accuracy: 0.9433 - val_loss: 0.3458 - val_accuracy: 0.8941\n",
      "Epoch 22/50\n",
      "1500/1500 [==============================] - 10s 7ms/step - loss: 0.1462 - accuracy: 0.9445 - val_loss: 0.3542 - val_accuracy: 0.8953\n",
      "Epoch 23/50\n",
      "1500/1500 [==============================] - 10s 7ms/step - loss: 0.1415 - accuracy: 0.9463 - val_loss: 0.3803 - val_accuracy: 0.8863\n",
      "Epoch 24/50\n",
      "1500/1500 [==============================] - 10s 6ms/step - loss: 0.1379 - accuracy: 0.9479 - val_loss: 0.3877 - val_accuracy: 0.8932\n",
      "Epoch 25/50\n",
      "1500/1500 [==============================] - 11s 7ms/step - loss: 0.1321 - accuracy: 0.9514 - val_loss: 0.3538 - val_accuracy: 0.8982\n",
      "Epoch 26/50\n",
      "1500/1500 [==============================] - 10s 7ms/step - loss: 0.1299 - accuracy: 0.9516 - val_loss: 0.3791 - val_accuracy: 0.8932\n",
      "Epoch 27/50\n",
      "1500/1500 [==============================] - 10s 6ms/step - loss: 0.1252 - accuracy: 0.9533 - val_loss: 0.3985 - val_accuracy: 0.8892\n",
      "Epoch 28/50\n",
      "1500/1500 [==============================] - 10s 6ms/step - loss: 0.1236 - accuracy: 0.9535 - val_loss: 0.3989 - val_accuracy: 0.8913\n",
      "Epoch 29/50\n",
      "1500/1500 [==============================] - 10s 6ms/step - loss: 0.1203 - accuracy: 0.9546 - val_loss: 0.3928 - val_accuracy: 0.8959\n",
      "Epoch 30/50\n",
      "1500/1500 [==============================] - 10s 7ms/step - loss: 0.1146 - accuracy: 0.9560 - val_loss: 0.3828 - val_accuracy: 0.8977\n",
      "Epoch 31/50\n",
      "1500/1500 [==============================] - 10s 7ms/step - loss: 0.1142 - accuracy: 0.9567 - val_loss: 0.4323 - val_accuracy: 0.8925\n",
      "Epoch 32/50\n",
      "1500/1500 [==============================] - 10s 7ms/step - loss: 0.1108 - accuracy: 0.9580 - val_loss: 0.4589 - val_accuracy: 0.8846\n",
      "Epoch 33/50\n",
      "1500/1500 [==============================] - 10s 7ms/step - loss: 0.1116 - accuracy: 0.9588 - val_loss: 0.4375 - val_accuracy: 0.8948\n",
      "Epoch 34/50\n",
      "1500/1500 [==============================] - 10s 7ms/step - loss: 0.1030 - accuracy: 0.9617 - val_loss: 0.4237 - val_accuracy: 0.8912\n",
      "Epoch 35/50\n",
      "1500/1500 [==============================] - 10s 6ms/step - loss: 0.1033 - accuracy: 0.9610 - val_loss: 0.4437 - val_accuracy: 0.8909\n",
      "Epoch 36/50\n",
      "1500/1500 [==============================] - 11s 7ms/step - loss: 0.1021 - accuracy: 0.9612 - val_loss: 0.4217 - val_accuracy: 0.8938\n",
      "Epoch 37/50\n",
      "1500/1500 [==============================] - 10s 7ms/step - loss: 0.1021 - accuracy: 0.9607 - val_loss: 0.4565 - val_accuracy: 0.8895\n",
      "Epoch 38/50\n",
      "1500/1500 [==============================] - 10s 6ms/step - loss: 0.0934 - accuracy: 0.9643 - val_loss: 0.4680 - val_accuracy: 0.8946\n",
      "Epoch 39/50\n",
      "1500/1500 [==============================] - 10s 6ms/step - loss: 0.0918 - accuracy: 0.9649 - val_loss: 0.4564 - val_accuracy: 0.8972\n",
      "Epoch 40/50\n",
      "1500/1500 [==============================] - 10s 7ms/step - loss: 0.0943 - accuracy: 0.9644 - val_loss: 0.4589 - val_accuracy: 0.8925\n",
      "Epoch 41/50\n",
      "1500/1500 [==============================] - 10s 7ms/step - loss: 0.0909 - accuracy: 0.9661 - val_loss: 0.4821 - val_accuracy: 0.8913\n",
      "Epoch 42/50\n",
      "1500/1500 [==============================] - 10s 7ms/step - loss: 0.0883 - accuracy: 0.9673 - val_loss: 0.4696 - val_accuracy: 0.8947\n",
      "Epoch 43/50\n",
      "1500/1500 [==============================] - 10s 7ms/step - loss: 0.0869 - accuracy: 0.9673 - val_loss: 0.4768 - val_accuracy: 0.8972\n",
      "Epoch 44/50\n",
      "1500/1500 [==============================] - 10s 6ms/step - loss: 0.0807 - accuracy: 0.9698 - val_loss: 0.4432 - val_accuracy: 0.8981\n",
      "Epoch 45/50\n",
      "1500/1500 [==============================] - 10s 6ms/step - loss: 0.0842 - accuracy: 0.9678 - val_loss: 0.5126 - val_accuracy: 0.8951\n",
      "Epoch 46/50\n",
      "1500/1500 [==============================] - 10s 7ms/step - loss: 0.0808 - accuracy: 0.9696 - val_loss: 0.5200 - val_accuracy: 0.8928\n",
      "Epoch 47/50\n",
      "1500/1500 [==============================] - 10s 7ms/step - loss: 0.0798 - accuracy: 0.9699 - val_loss: 0.4941 - val_accuracy: 0.8970\n",
      "Epoch 48/50\n",
      "1500/1500 [==============================] - 10s 7ms/step - loss: 0.0749 - accuracy: 0.9713 - val_loss: 0.5419 - val_accuracy: 0.8928\n",
      "Epoch 49/50\n",
      "1500/1500 [==============================] - 10s 7ms/step - loss: 0.0820 - accuracy: 0.9697 - val_loss: 0.5145 - val_accuracy: 0.8893\n",
      "Epoch 50/50\n",
      "1500/1500 [==============================] - 12s 8ms/step - loss: 0.0745 - accuracy: 0.9724 - val_loss: 0.5091 - val_accuracy: 0.8991\n",
      "Best epoch: 50\n"
     ]
    }
   ],
   "source": [
    "# treine o modelo:\n",
    "# Construa o modelo com os hiperparâmetros ideais e treine-o nos dados por 50 épocas\n",
    "model = tuner.hypermodel.build(best_hps)\n",
    "history = model.fit(img_train, label_train, epochs=50, validation_split=0.2)\n",
    "\n",
    "val_acc_per_epoch = history.history['val_accuracy']\n",
    "best_epoch = val_acc_per_epoch.index(max(val_acc_per_epoch)) + 1\n",
    "print('Best epoch: %d' % (best_epoch,))"
   ]
  },
  {
   "cell_type": "code",
   "execution_count": 8,
   "id": "d87520b8",
   "metadata": {},
   "outputs": [
    {
     "name": "stdout",
     "output_type": "stream",
     "text": [
      "313/313 [==============================] - 2s 3ms/step - loss: 2.3401 - accuracy: 0.1305\n",
      "[test loss, test accuracy]: [2.340137004852295, 0.13050000369548798]\n"
     ]
    }
   ],
   "source": [
    "# agora avalie o hipermodelo nos dados de teste.\n",
    "hypermodel = tuner.hypermodel.build(best_hps)\n",
    "eval_result = hypermodel.evaluate(img_test, label_test)\n",
    "print(\"[test loss, test accuracy]:\", eval_result)"
   ]
  },
  {
   "cell_type": "code",
   "execution_count": null,
   "id": "5a154318",
   "metadata": {},
   "outputs": [],
   "source": []
  },
  {
   "cell_type": "code",
   "execution_count": 21,
   "id": "ac017a83",
   "metadata": {},
   "outputs": [],
   "source": [
    "#imprimindo matriz de confusão, baixando mais pastas:\n",
    "from sklearn.datasets import make_classification\n",
    "from sklearn.svm import SVC\n",
    "from sklearn.metrics import ConfusionMatrixDisplay,confusion_matrix\n",
    "from sklearn.metrics import "
   ]
  },
  {
   "cell_type": "code",
   "execution_count": 24,
   "id": "4067a61c",
   "metadata": {},
   "outputs": [
    {
     "data": {
      "image/png": "[encoded data removed]",
      "text/plain": [
       "<Figure size 432x288 with 2 Axes>"
      ]
     },
     "metadata": {
      "needs_background": "light"
     },
     "output_type": "display_data"
    }
   ],
   "source": [
    "#imprimindo matriz de confusão\n",
    "X, y = make_classification(random_state=0)\n",
    "X_train, X_test, y_train, y_test = train_test_split(X, y, random_state=0)\n",
    "clf = SVC(random_state=0)\n",
    "clf.fit(X_train, y_train)\n",
    "SVC(random_state=0)\n",
    "predictions = clf.predict(X_test)\n",
    "cm = confusion_matrix(y_test, predictions, labels=clf.classes_)\n",
    "disp = ConfusionMatrixDisplay(confusion_matrix=cm, display_labels=clf.classes_)\n",
    "disp.plot()\n",
    "plt.show()"
   ]
  },
  {
   "cell_type": "markdown",
   "id": "f4984564",
   "metadata": {},
   "source": [
    "# Fazendo outro modelo de teste\n",
    "### Modelo 2\n",
    "\n",
    "Fashion MNIST tem como intenção substituir a clássica base de dados MNIST— frequentemente usada como \"Hello, World\" de programas de aprendizado de máquina (machine learning) para visão computacional. A base de dados MNIST contém imagens de dígitos escritos à mão (0, 1, 2, etc.) em um formato idêntico ao dos artigos de roupas que usaremos aqui.\n",
    "\n",
    "Esse tutorial usa a Fashion MNIST para variar, e porque é um problema um pouco mais desafiador que o regular MNIST. Ambas bases são relativamente pequenas e são usadas para verificar se um algoritmo funciona como esperado. Elas são bons pontos de partida para testar e debugar código.\n",
    "\n",
    "Usaremos 60,000 imagens para treinar nossa rede e 10,000 imagens para avaliar quão precisamente nossa rede aprendeu a classificar as imagens. Você pode acessar a Fashion MNIST diretamente do TensorFlow. Importe e carregue a base Fashion MNIST diretamente do TensorFlow:"
   ]
  },
  {
   "cell_type": "code",
   "execution_count": 25,
   "id": "7a443781",
   "metadata": {},
   "outputs": [],
   "source": [
    "fashion_mnist = keras.datasets.fashion_mnist\n",
    "\n",
    "(train_images, train_labels), (test_images, test_labels) = fashion_mnist.load_data()"
   ]
  },
  {
   "cell_type": "markdown",
   "id": "dc728f7c",
   "metadata": {},
   "source": [
    "Carregando a base de dados que retorna quatro NumPy arrays:\n",
    "\n",
    "Os arrays train_images e train_labels são o conjunto de treinamento— os dados do modelo usados para aprender.\n",
    "O modelo é testado com o conjunto de teste, os arrays test_images e test_labels.\n",
    "As imagens são arrays NumPy de 28x28, com os valores de pixels entre 0 to 255. As labels (alvo da classificação) são um array de inteiros, no intervalo de 0 a 9."
   ]
  },
  {
   "cell_type": "code",
   "execution_count": 26,
   "id": "30e3811c",
   "metadata": {},
   "outputs": [],
   "source": [
    "class_names = ['T-shirt/top', 'Trouser', 'Pullover', 'Dress', 'Coat',\n",
    "               'Sandal', 'Shirt', 'Sneaker', 'Bag', 'Ankle boot']"
   ]
  },
  {
   "cell_type": "markdown",
   "id": "38c44763",
   "metadata": {},
   "source": [
    "### Explore os dados\n",
    "Vamos explorar o formato da base de dados antes de treinar o modelo. O próximo comando mostra que existem 60000 imagens no conjunto de treinamento, e cada imagem é representada em 28 x 28 pixels:"
   ]
  },
  {
   "cell_type": "code",
   "execution_count": 27,
   "id": "2f3ddae5",
   "metadata": {},
   "outputs": [
    {
     "data": {
      "text/plain": [
       "(60000, 28, 28)"
      ]
     },
     "execution_count": 27,
     "metadata": {},
     "output_type": "execute_result"
    }
   ],
   "source": [
    "train_images.shape"
   ]
  },
  {
   "cell_type": "code",
   "execution_count": 28,
   "id": "39b8d0b0",
   "metadata": {},
   "outputs": [
    {
     "data": {
      "text/plain": [
       "60000"
      ]
     },
     "execution_count": 28,
     "metadata": {},
     "output_type": "execute_result"
    }
   ],
   "source": [
    "len(train_labels)"
   ]
  },
  {
   "cell_type": "code",
   "execution_count": 29,
   "id": "49726636",
   "metadata": {},
   "outputs": [
    {
     "data": {
      "text/plain": [
       "array([9, 0, 0, ..., 3, 0, 5], dtype=uint8)"
      ]
     },
     "execution_count": 29,
     "metadata": {},
     "output_type": "execute_result"
    }
   ],
   "source": [
    "# cada imagem é um numero inteiro de 0 a 9\n",
    "train_labels"
   ]
  },
  {
   "cell_type": "code",
   "execution_count": 30,
   "id": "70a88c0b",
   "metadata": {},
   "outputs": [
    {
     "data": {
      "text/plain": [
       "(10000, 28, 28)"
      ]
     },
     "execution_count": 30,
     "metadata": {},
     "output_type": "execute_result"
    }
   ],
   "source": [
    "# cada imagem é representada por 28 x 28 pixels, são 10000 imagens de conjunto de teste.\n",
    "test_images.shape"
   ]
  },
  {
   "cell_type": "markdown",
   "id": "0db7a4aa",
   "metadata": {},
   "source": [
    "### Pré-processe os dados\n",
    "Os dados precisam ser pré-processados antes de treinar a rede. Se você inspecionar a primeira imagem do conjunto de treinamento, você verá que os valores dos pixels estão entre 0 e 255:"
   ]
  },
  {
   "cell_type": "code",
   "execution_count": 31,
   "id": "67a00298",
   "metadata": {},
   "outputs": [
    {
     "data": {
      "image/png": "[encoded data removed]",
      "text/plain": [
       "<Figure size 432x288 with 2 Axes>"
      ]
     },
     "metadata": {
      "needs_background": "light"
     },
     "output_type": "display_data"
    }
   ],
   "source": [
    "plt.figure()\n",
    "plt.imshow(train_images[59999])\n",
    "plt.colorbar()\n",
    "plt.grid(False)\n",
    "plt.show()"
   ]
  },
  {
   "cell_type": "markdown",
   "id": "a4874bcc",
   "metadata": {},
   "source": [
    "# Escalaremos esses valores no intervalo de 0 e 1 antes de alimentar o modelo da rede neural. Para fazer isso, dividimos os valores por 255. É importante que o conjunto de treinamento e o conjunto de teste podem ser pré-processados do mesmo modo:"
   ]
  },
  {
   "cell_type": "code",
   "execution_count": 32,
   "id": "695289b0",
   "metadata": {},
   "outputs": [],
   "source": [
    "train_images = train_images / 255.0\n",
    "\n",
    "test_images = test_images / 255.0"
   ]
  },
  {
   "cell_type": "markdown",
   "id": "5ea9ef30",
   "metadata": {},
   "source": [
    "# Para verificar que os dados estão no formato correto e que estamos prontos para construir e treinar a rede, vamos mostrar as primeiras 25 imagens do conjunto de treinamento e mostrar o nome das classes de cada imagem abaixo:"
   ]
  },
  {
   "cell_type": "code",
   "execution_count": 33,
   "id": "1ea05f85",
   "metadata": {},
   "outputs": [
    {
     "data": {
      "image/png": "[encoded data removed]",
      "text/plain": [
       "<Figure size 1080x1080 with 25 Axes>"
      ]
     },
     "metadata": {},
     "output_type": "display_data"
    }
   ],
   "source": [
    "plt.figure(figsize=(15,15))\n",
    "for i in range(25):\n",
    "    plt.subplot(5,5,i+1)\n",
    "    plt.xticks([])\n",
    "    plt.yticks([])\n",
    "    plt.grid(False)\n",
    "    plt.imshow(train_images[i], cmap=plt.cm.binary)\n",
    "    plt.xlabel(class_names[train_labels[i]])\n",
    "plt.show()"
   ]
  },
  {
   "cell_type": "markdown",
   "id": "02c61fdf",
   "metadata": {},
   "source": [
    "# Construindo o modelo\n",
    "Construir a rede neural requer configurar as camadas do modelo, e depois, compilar o modelo.\n",
    "\n",
    "Montar as camadas:\n",
    "O principal bloco de construção da rede neural é a camada (layer). As camadas (layers) extraem representações dos dados inseridos na rede. Com sorte, essas representações são significativas para o problema à mão."
   ]
  },
  {
   "cell_type": "code",
   "execution_count": 34,
   "id": "8e06a653",
   "metadata": {},
   "outputs": [],
   "source": [
    "model = keras.Sequential([\n",
    "    keras.layers.Flatten(input_shape=(28, 28)),\n",
    "    keras.layers.Dense(128, activation='relu'),\n",
    "    keras.layers.Dense(10, activation='softmax')\n",
    "])"
   ]
  },
  {
   "cell_type": "markdown",
   "id": "67101f6f",
   "metadata": {},
   "source": [
    "Compile o modelo\n",
    "    \n",
    "    Antes do modelo estar pronto para o treinamento, é necessário algumas configurações a mais. \n",
    "    Essas serão adicionadas no passo de compilação:\n",
    "\n",
    "    Função Loss —Essa mede quão precisa o modelo é durante o treinamento. Queremos minimizar a função para guiar o modelo para a direção certa.\n",
    "    Optimizer —Isso é como o modelo se atualiza com base no dado que ele vê e sua função loss.\n",
    "    Métricas —usadas para monitorar os passos de treinamento e teste. O exemplo abaixo usa a acurácia, a fração das imagens que foram classificadas corretamente."
   ]
  },
  {
   "cell_type": "code",
   "execution_count": 35,
   "id": "4112d6d7",
   "metadata": {},
   "outputs": [],
   "source": [
    "model.compile(optimizer='adam',\n",
    "              loss='sparse_categorical_crossentropy',\n",
    "              metrics=['accuracy'])"
   ]
  },
  {
   "cell_type": "markdown",
   "id": "9fa98208",
   "metadata": {},
   "source": [
    "# Treine o modelo\n",
    "    Treinar a rede neural requer os seguintes passos:\n",
    "\n",
    "    Alimente com os dados de treinamento, o modelo. Os dados de treinamento são os arrays train_images e train_labels.\n",
    "    O modelo aprende como associar as imagens as labels.\n",
    "    Perguntamos ao modelo para fazer previsões sobre o conjunto de teste — nesse exemplo, o array test_images.Verificamos se as previsões combinaram com as labels do array test_labels."
   ]
  },
  {
   "cell_type": "code",
   "execution_count": 36,
   "id": "5cf186df",
   "metadata": {},
   "outputs": [
    {
     "name": "stdout",
     "output_type": "stream",
     "text": [
      "Epoch 1/10\n",
      "1875/1875 [==============================] - 5s 3ms/step - loss: 0.4945 - accuracy: 0.8267\n",
      "Epoch 2/10\n",
      "1875/1875 [==============================] - 5s 3ms/step - loss: 0.3747 - accuracy: 0.8648\n",
      "Epoch 3/10\n",
      "1875/1875 [==============================] - 5s 3ms/step - loss: 0.3333 - accuracy: 0.8795\n",
      "Epoch 4/10\n",
      "1875/1875 [==============================] - 5s 3ms/step - loss: 0.3098 - accuracy: 0.8864\n",
      "Epoch 5/10\n",
      "1875/1875 [==============================] - 5s 2ms/step - loss: 0.2919 - accuracy: 0.8928\n",
      "Epoch 6/10\n",
      "1875/1875 [==============================] - 5s 3ms/step - loss: 0.2779 - accuracy: 0.8965\n",
      "Epoch 7/10\n",
      "1875/1875 [==============================] - 5s 3ms/step - loss: 0.2630 - accuracy: 0.9026\n",
      "Epoch 8/10\n",
      "1875/1875 [==============================] - 5s 3ms/step - loss: 0.2549 - accuracy: 0.9050\n",
      "Epoch 9/10\n",
      "1875/1875 [==============================] - 5s 3ms/step - loss: 0.2436 - accuracy: 0.9097\n",
      "Epoch 10/10\n",
      "1875/1875 [==============================] - 5s 3ms/step - loss: 0.2350 - accuracy: 0.9136\n"
     ]
    },
    {
     "data": {
      "text/plain": [
       "<keras.callbacks.History at 0x2094ae44c70>"
      ]
     },
     "execution_count": 36,
     "metadata": {},
     "output_type": "execute_result"
    }
   ],
   "source": [
    "model.fit(train_images, train_labels, epochs=10)"
   ]
  },
  {
   "cell_type": "code",
   "execution_count": 37,
   "id": "7c8a679c",
   "metadata": {},
   "outputs": [
    {
     "name": "stdout",
     "output_type": "stream",
     "text": [
      "313/313 - 1s - loss: 0.3573 - accuracy: 0.8801 - 644ms/epoch - 2ms/step\n",
      "\n",
      "Test accuracy: 0.8801000118255615\n"
     ]
    }
   ],
   "source": [
    "# Avalie a acurácia\n",
    "test_loss, test_acc = model.evaluate(test_images,  test_labels, verbose=2)\n",
    "\n",
    "print('\\nTest accuracy:', test_acc)"
   ]
  },
  {
   "cell_type": "code",
   "execution_count": 38,
   "id": "57510cd3",
   "metadata": {},
   "outputs": [
    {
     "data": {
      "text/plain": [
       "array([5.36723492e-05, 2.42110082e-06, 2.50501253e-05, 1.14921136e-07,\n",
       "       4.14581096e-04, 9.86135602e-01, 1.35086202e-05, 4.10785805e-03,\n",
       "       9.23555251e-03, 1.15106741e-05], dtype=float32)"
      ]
     },
     "execution_count": 38,
     "metadata": {},
     "output_type": "execute_result"
    }
   ],
   "source": [
    "# Faça predições\n",
    "# Com o modelo treinado, o usaremos para predições de algumas imagens.\n",
    "predictions = model.predict(test_images)\n",
    "predictions[9999]"
   ]
  },
  {
   "cell_type": "code",
   "execution_count": 39,
   "id": "d15da480",
   "metadata": {},
   "outputs": [
    {
     "data": {
      "text/plain": [
       "5"
      ]
     },
     "execution_count": 39,
     "metadata": {},
     "output_type": "execute_result"
    }
   ],
   "source": [
    "#ele previu que é o 5(quinto intem)='Coat'\n",
    "np.argmax(predictions[9999])"
   ]
  },
  {
   "cell_type": "code",
   "execution_count": 40,
   "id": "d3e9cddb",
   "metadata": {},
   "outputs": [
    {
     "data": {
      "text/plain": [
       "5"
      ]
     },
     "execution_count": 40,
     "metadata": {},
     "output_type": "execute_result"
    }
   ],
   "source": [
    "test_labels[9999]"
   ]
  },
  {
   "cell_type": "code",
   "execution_count": 41,
   "id": "05cfa3da",
   "metadata": {},
   "outputs": [
    {
     "data": {
      "text/plain": [
       "array([4.9749424e-04, 1.6054405e-02, 3.1200849e-04, 9.8133278e-01,\n",
       "       1.6371228e-05, 8.8419254e-09, 1.7430539e-03, 1.5953228e-08,\n",
       "       3.3405966e-05, 1.0475607e-05], dtype=float32)"
      ]
     },
     "execution_count": 41,
     "metadata": {},
     "output_type": "execute_result"
    }
   ],
   "source": [
    "# outro teste... \n",
    "predictions = model.predict(test_images)\n",
    "predictions[4444]"
   ]
  },
  {
   "cell_type": "code",
   "execution_count": 42,
   "id": "28d3ca10",
   "metadata": {},
   "outputs": [
    {
     "data": {
      "text/plain": [
       "3"
      ]
     },
     "execution_count": 42,
     "metadata": {},
     "output_type": "execute_result"
    }
   ],
   "source": [
    "# agora com certeza previu que o 4 intem = 'Dress'\n",
    "np.argmax(predictions[4444])"
   ]
  },
  {
   "cell_type": "code",
   "execution_count": 43,
   "id": "d93b7cfc",
   "metadata": {},
   "outputs": [
    {
     "data": {
      "text/plain": [
       "3"
      ]
     },
     "execution_count": 43,
     "metadata": {},
     "output_type": "execute_result"
    }
   ],
   "source": [
    "test_labels[4444]"
   ]
  },
  {
   "cell_type": "code",
   "execution_count": 46,
   "id": "59406a1e",
   "metadata": {},
   "outputs": [],
   "source": [
    "# mostrando graficamente como se parece em um conjunto total de previsão de 10 classes.\n",
    "def plot_image(i, predictions_array, true_label, img):\n",
    "  predictions_array, true_label, img = predictions_array[i], true_label[i], img[i]\n",
    "  plt.grid(False)\n",
    "  plt.xticks([])\n",
    "  plt.yticks([])\n",
    "\n",
    "  plt.imshow(img, cmap=plt.cm.binary)\n",
    "\n",
    "  predicted_label = np.argmax(predictions_array)\n",
    "  if predicted_label == true_label:\n",
    "    color = 'blue'\n",
    "  else:\n",
    "    color = 'red'\n",
    "\n",
    "  plt.xlabel(\"{} {:2.0f}% ({})\".format(class_names[predicted_label],\n",
    "                                100*np.max(predictions_array),\n",
    "                                class_names[true_label]),\n",
    "                                color=color)\n",
    "\n",
    "def plot_value_array(i, predictions_array, true_label):\n",
    "  predictions_array, true_label = predictions_array[i], true_label[i]\n",
    "  plt.grid(False)\n",
    "  plt.xticks([])\n",
    "  plt.yticks([])\n",
    "  thisplot = plt.bar(range(10), predictions_array, color=\"#777777\")\n",
    "  plt.ylim([0, 1])\n",
    "  predicted_label = np.argmax(predictions_array)\n",
    "\n",
    "  thisplot[predicted_label].set_color('red')\n",
    "  thisplot[true_label].set_color('blue')"
   ]
  },
  {
   "cell_type": "code",
   "execution_count": 45,
   "id": "399fe592",
   "metadata": {},
   "outputs": [
    {
     "data": {
      "image/png": "[encoded data removed]",
      "text/plain": [
       "<Figure size 432x216 with 2 Axes>"
      ]
     },
     "metadata": {},
     "output_type": "display_data"
    }
   ],
   "source": [
    "# modelo fez a identificação com quase 100% de exatião\n",
    "i = 9999\n",
    "plt.figure(figsize=(6,3))\n",
    "plt.subplot(1,2,1)\n",
    "plot_image(i, predictions, test_labels, test_images)\n",
    "plt.subplot(1,2,2)\n",
    "plot_value_array(i, predictions,  test_labels)\n",
    "plt.show()"
   ]
  },
  {
   "cell_type": "code",
   "execution_count": 47,
   "id": "f49afaac",
   "metadata": {},
   "outputs": [
    {
     "data": {
      "image/png": "[encoded data removed]",
      "text/plain": [
       "<Figure size 432x216 with 2 Axes>"
      ]
     },
     "metadata": {},
     "output_type": "display_data"
    }
   ],
   "source": [
    "# neste o modelo de indentificação não fez a identificação correta.\n",
    "i = 12\n",
    "plt.figure(figsize=(6,3))\n",
    "plt.subplot(1,2,1)\n",
    "plot_image(i, predictions, test_labels, test_images)\n",
    "plt.subplot(1,2,2)\n",
    "plot_value_array(i, predictions,  test_labels)\n",
    "plt.show()"
   ]
  },
  {
   "cell_type": "code",
   "execution_count": 48,
   "id": "b8ed3506",
   "metadata": {},
   "outputs": [
    {
     "data": {
      "image/png": "[encoded data removed]",
      "text/plain": [
       "<Figure size 1440x720 with 50 Axes>"
      ]
     },
     "metadata": {},
     "output_type": "display_data"
    }
   ],
   "source": [
    "# Plota o primeiro X test images, e as labels preditas, e as labels verdadeiras.\n",
    "# Colore as predições corretas de azul e as incorretas de vermelho.\n",
    "num_rows = 5\n",
    "num_cols = 5\n",
    "num_images = num_rows*num_cols\n",
    "plt.figure(figsize=(2*2*num_cols, 2*num_rows))\n",
    "for i in range(num_images):\n",
    "  plt.subplot(num_rows, 2*num_cols, 2*i+1)\n",
    "  plot_image(i, predictions, test_labels, test_images)\n",
    "  plt.subplot(num_rows, 2*num_cols, 2*i+2)\n",
    "  plot_value_array(i, predictions, test_labels)\n",
    "plt.show()"
   ]
  },
  {
   "cell_type": "code",
   "execution_count": 49,
   "id": "7cba25b7",
   "metadata": {},
   "outputs": [
    {
     "name": "stdout",
     "output_type": "stream",
     "text": [
      "(28, 28)\n"
     ]
    }
   ],
   "source": [
    "# Fazendo teste de imagem do conjunto de dados de teste.\n",
    "img = test_images[9999]\n",
    "\n",
    "print(img.shape)"
   ]
  },
  {
   "cell_type": "code",
   "execution_count": 61,
   "id": "11b37f00",
   "metadata": {},
   "outputs": [],
   "source": [
    "#(train_images, train_labels), (test_images, test_labels)\n",
    "X_train = train_images\n",
    "X_test = train_labels\n",
    "test_imagens = y_train\n",
    "y_test = test_labels"
   ]
  },
  {
   "cell_type": "code",
   "execution_count": 67,
   "id": "e92004e8",
   "metadata": {},
   "outputs": [
    {
     "data": {
      "image/png": "[encoded data removed]",
      "text/plain": [
       "<Figure size 432x288 with 2 Axes>"
      ]
     },
     "metadata": {
      "needs_background": "light"
     },
     "output_type": "display_data"
    }
   ],
   "source": [
    "#imprimindo matriz de confusão\n",
    "i, predictions = make_classification(random_state=0)\n",
    "X_train, X_test, y_train, y_test = train_test_split(i, predictions, random_state=0)\n",
    "clf = SVC(random_state=0)\n",
    "clf.fit(X_train, y_train)\n",
    "SVC(random_state=0)\n",
    "predictions = clf.predict(X_test)\n",
    "cm = confusion_matrix(y_test, predictions, labels=clf.classes_, normalize= 'all')\n",
    "disp = ConfusionMatrixDisplay(confusion_matrix=cm, display_labels=clf.classes_)\n",
    "disp.plot()\n",
    "plt.show()"
   ]
  },
  {
   "cell_type": "code",
   "execution_count": null,
   "id": "46d60a18",
   "metadata": {},
   "outputs": [],
   "source": []
  },
  {
   "cell_type": "markdown",
   "id": "6aad127c",
   "metadata": {},
   "source": [
    "### Exercico 3\n",
    "    A- Qual é a diferença do paramentro do modelo e um algoritmo de apremdizagem de hiperparamentro?\n",
    "    B- Você pode citar quatro dos principais desafios do aprendizado de maquina?\n",
    "    C- Se seu modelo tem um otimo desempemnho no dados de treinamento, mas generaliza mal para novas instacias, o que está acontecendo? Você pode citar três solucões possiveis?\n",
    "    D- O que é um conjunto de teste e por que você everia usa-lo?\n",
    "    E- Qual é o proposito de um conjunto de validação?\n",
    "    F- O que pode dar de errado se você ajustar o Hiperparametro usando o conjunto de teste?"
   ]
  },
  {
   "cell_type": "markdown",
   "id": "103f6693",
   "metadata": {},
   "source": [
    "### A- Qual é a diferença do paramentro do modelo e um algoritmo de apremdizagem de hiperparamentro?\n",
    "    \n",
    "   Parâmetros e hiperparâmetros são duas partes fundamentais de um modelo preditivo. Em um algoritmo machine learning, os parâmetros são ajustados diretamente pelo processo de aprendizado e influenciam diretamente na performance do algoritmo. Os coeficientes de uma regressão linear, os pesos de uma rede neural, as fronteiras das vizinhanças no kNN, todos esses são parâmetros que se ajustam ao treinar o modelo preditivo para um conjunto de dados.\n",
    "   \n",
    "   Por sua vez, hiperparâmetros são variáveis do algoritmo definidas antes do treinamento. Eles representam características mais construtivas, como a métrica de performance de uma regressão (MSE, R²,…), o número de neurônios de uma rede neural (ou camadas), o número de vizinhos do kNN. Os hiperparâmetros são muito importantes para a performance do modelo preditivo e caso escolhidos de qualquer jeito, podem torná-lo inútil, ou muito longe do ótimo."
   ]
  },
  {
   "cell_type": "markdown",
   "id": "f7d09144",
   "metadata": {},
   "source": [
    "### B- Você pode citar quatro dos principais desafios do aprendizado de maquina?\n",
    "\n",
    "   Alguns dos principais desafios do Machine learning é a falta de dados, a baixa qualidade dos dados, os dados não representativos, os recursos não informativos, os modelos excessivamente simples que subestimam os dados de treinamento(underfit) e os modelos execessivamente complexos que subestimam os dados(overfit)."
   ]
  },
  {
   "cell_type": "markdown",
   "id": "ec8b76f4",
   "metadata": {},
   "source": [
    "### C- Se seu modelo tem um otimo desempemnho no dados de treinamento, mas generaliza mal para novas instacias, o que está acontecendo? Você pode citar três solucões possiveis?\n",
    "\n",
    "Se o modelo tem um otimo desempenho nos dados de treinamento, mas generaliza mal para as novas instancias, é provavel que o modelo esteja subescrevendo os dados de treinamento(ou tivemos muita sorte com os dados de treinamento). As possiveis soluções para overfitting é basicamente obter mais dados e simplificar o modelo,(utilizar um algoritmo mais simples ou regularizar o modelo) reduzindo o dados do treianmento. "
   ]
  },
  {
   "cell_type": "markdown",
   "id": "38d8ab50",
   "metadata": {},
   "source": [
    "### D- O que é um conjunto de teste e por que você everia usa-lo?\n",
    "\n",
    "Um conjunto de teste é usado para estimar o erro de generalização que um modelo fará em novas instancias, ele deve ser usando antes que o modelo seja lançado na produção. "
   ]
  },
  {
   "cell_type": "markdown",
   "id": "2e6842b4",
   "metadata": {},
   "source": [
    "### E- Qual é o proposito de um conjunto de validação?\n",
    "O conjunto de validação é usado para comparar modelos e ajustar hiperparametros.\n"
   ]
  },
  {
   "cell_type": "markdown",
   "id": "171312de",
   "metadata": {},
   "source": [
    "### F- O que pode dar de errado se você ajustar o Hiperparametro usando o conjunto de teste?\n",
    "Se você ajustar o hiperparametro usando o conjunto de teste, corre o risco de superajusta-lo, e o erro de generalização que voçê pode medir será otimista( você pode iniciar um modelo como o desempenho pior que o esperado)."
   ]
  },
  {
   "cell_type": "code",
   "execution_count": null,
   "id": "c7a911fe",
   "metadata": {},
   "outputs": [],
   "source": []
  }
 ],
 "metadata": {
  "kernelspec": {
   "display_name": "Python 3 (ipykernel)",
   "language": "python",
   "name": "python3"
  },
  "language_info": {
   "codemirror_mode": {
    "name": "ipython",
    "version": 3
   },
   "file_extension": ".py",
   "mimetype": "text/x-python",
   "name": "python",
   "nbconvert_exporter": "python",
   "pygments_lexer": "ipython3",
   "version": "3.9.7"
  }
 },
 "nbformat": 4,
 "nbformat_minor": 5
}
