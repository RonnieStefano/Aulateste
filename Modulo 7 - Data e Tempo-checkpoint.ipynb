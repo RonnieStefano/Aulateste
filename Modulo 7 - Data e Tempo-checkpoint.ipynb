{
 "cells": [
  {
   "cell_type": "markdown",
   "metadata": {},
   "source": [
    "# Módulo 7 - Data e Tempo\n",
    "\n",
    "Ao final desse módulo você será capaz de aprender sobre o modulo time, datetime\n",
    "\n",
    "* Principais conceitos que envolvem o tempo e o uso em threads\n",
    "* Relação de tempo com o processamento (eficiência)\n",
    "* Resolver problemas que envolvam data e tempo"
   ]
  },
  {
   "cell_type": "markdown",
   "metadata": {},
   "source": [
    "## 7. Data e Tempo"
   ]
  },
  {
   "cell_type": "markdown",
   "metadata": {},
   "source": [
    "## 7.1 Módulo time\n",
    "\n",
    "* O módulo time fornece muitas maneiras de representar o tempo no código, como objetos, números e strings. \n",
    "* Ele também fornece outras funcionalidades além de representar o tempo, como esperar durante a execução do código e medir a eficiência do seu código.\n",
    "\n",
    "Em relação ao módulo tempo, podemos trabalhar com o código para:\n",
    "\n",
    "* Representar o tempo no código usando floats, tuplas e struct_time\n",
    "* Converter entre diferentes representações de tempo (seg, min, hrs)\n",
    "* Suspender a execução do thread por um período\n",
    "* Medir desempenho do código usando perf_counter()\n",
    "\n",
    "Aprenderemos a usar diferentes funções relacionadas ao tempo definidas no módulo de tempo com a ajuda de exemplos."
   ]
  },
  {
   "cell_type": "code",
   "execution_count": 1,
   "metadata": {},
   "outputs": [
    {
     "name": "stdout",
     "output_type": "stream",
     "text": [
      "Help on built-in function localtime in module time:\n",
      "\n",
      "localtime(...)\n",
      "    localtime([seconds]) -> (tm_year,tm_mon,tm_mday,tm_hour,tm_min,\n",
      "                              tm_sec,tm_wday,tm_yday,tm_isdst)\n",
      "    \n",
      "    Convert seconds since the Epoch to a time tuple expressing local time.\n",
      "    When 'seconds' is not passed in, convert the current time instead.\n",
      "\n"
     ]
    }
   ],
   "source": [
    "# você pode pedir ajuda caso necessário\n",
    "import time\n",
    "help(time.localtime)"
   ]
  },
  {
   "cell_type": "markdown",
   "metadata": {},
   "source": [
    "#### Época\n",
    "\n",
    "* A época é um ponto de partida pela qual você pode medir o tempo\n",
    "* Por exemplo, se você definir a época como meia-noite de 1 ° de janeiro de 1970 UTC - a época conforme definido no Windows e na maioria dos sistemas UNIX\n",
    "* Podemos representar a meia-noite em 2 de janeiro de 1970 UTC como 86400 segundos desde a época (60x60x24)\n",
    "* Para o sistma Unix, January 1, 1970, 00:00:00 no UTC é epoch (o ponto onde o tempo começa)\n",
    "* Obs: UTC (Horário Universal Coordenado) é um dos nomes conhecidos do fuso horário UTC+0, que é 0h.\n",
    "* Obs2: GMT (Horário Do Meridiano De Greenwich) é um dos nomes conhecidos do fuso horário UTC+0, que é 0h. \n",
    "\n"
   ]
  },
  {
   "cell_type": "code",
   "execution_count": null,
   "metadata": {
    "scrolled": true
   },
   "outputs": [],
   "source": [
    "# Definindo uma época\n",
    "import time\n",
    "time.gmtime(0)"
   ]
  },
  {
   "cell_type": "markdown",
   "metadata": {},
   "source": [
    "#### Tempo Python em segundos como um número de ponto flutuante"
   ]
  },
  {
   "cell_type": "code",
   "execution_count": null,
   "metadata": {
    "scrolled": true
   },
   "outputs": [],
   "source": [
    "# Tempo em segundos que se passaram desde uma época sendo seconds, um número float\n",
    "import time\n",
    "seconds = time.time()\n",
    "print(\"Segundos desde a época:\", seconds)"
   ]
  },
  {
   "cell_type": "markdown",
   "metadata": {},
   "source": [
    "#### Tempo Python em segundos como uma string que representa a hora local"
   ]
  },
  {
   "cell_type": "code",
   "execution_count": null,
   "metadata": {},
   "outputs": [],
   "source": [
    "# A função leva segundos passados desde a época como um argumento e retorna uma string representando a hora local\n",
    "# Segundos passados desde a época foram definidos anteriormente\n",
    "import time\n",
    "local_time = time.ctime(seconds)\n",
    "print(\"Tempo local:\", local_time)"
   ]
  },
  {
   "cell_type": "code",
   "execution_count": null,
   "metadata": {
    "scrolled": true
   },
   "outputs": [],
   "source": [
    "# imprime o tempo no momento\n",
    "print(\"Tempo local:\", time.asctime())"
   ]
  },
  {
   "cell_type": "code",
   "execution_count": null,
   "metadata": {},
   "outputs": [],
   "source": [
    "# imprime dados do tempo derivados do sintaxe de struct \n",
    "print(time.localtime())"
   ]
  },
  {
   "cell_type": "code",
   "execution_count": null,
   "metadata": {},
   "outputs": [],
   "source": [
    "# cria um objeto localtime e imprime o valor na posição desejada\n",
    "a = time.localtime()\n",
    "#a[0]\n",
    "a[3:6]"
   ]
  },
  {
   "cell_type": "code",
   "execution_count": null,
   "metadata": {},
   "outputs": [],
   "source": [
    "'''''\n",
    "O módulo de tempo tem uma função strftime que funciona praticamente da mesma maneira que a versão datetime.\n",
    "A diferença está principalmente no que ele aceita como entrada: uma tupla ou um objeto struct_time, como aqueles que são retornados\n",
    "quando você chama time.gmtime () ou time.localtime ().\n",
    "'''''\n",
    "time.strftime(\"%Y-%m-%d-%H.%M.%S\", time.localtime())"
   ]
  },
  {
   "cell_type": "markdown",
   "metadata": {},
   "source": [
    "#### Criando um delay na execução"
   ]
  },
  {
   "cell_type": "code",
   "execution_count": null,
   "metadata": {},
   "outputs": [],
   "source": [
    "# Criando um delay de tempo: a função atrasa a execução do thread atual por um determinado número de segundos.\n",
    "import time\n",
    "time.sleep(3) # Sleep for 3 seconds"
   ]
  },
  {
   "cell_type": "code",
   "execution_count": null,
   "metadata": {},
   "outputs": [],
   "source": [
    "import time\n",
    "print(\"Isso é impresso imediatamente\")\n",
    "time.sleep(5)\n",
    "print(\"Isso é impresso depois de 5 segundos\")"
   ]
  },
  {
   "cell_type": "markdown",
   "metadata": {},
   "source": [
    "#### Calculando o tempo de execução de uma instrução"
   ]
  },
  {
   "cell_type": "code",
   "execution_count": null,
   "metadata": {},
   "outputs": [],
   "source": [
    "import time\n",
    "start_exec = time.time()\n",
    "def hello():\n",
    "    time.sleep(5)\n",
    "    print(\"hello word!\")\n",
    "    \n",
    "hello()\n",
    "end_exec = time.time()\n",
    "print(\"O tempo de execução total corresponde a: \", end_exec - start_exec)"
   ]
  },
  {
   "cell_type": "markdown",
   "metadata": {},
   "source": [
    "#### Usando a funçao perf_counter()\n",
    "\n",
    "* O objetivo da função é retornar o valor tipo float de tempo em segundos\n",
    "* perf_counter() fornece um valor mais preciso do que a função time.clock() descontinuada no Python 3.8\n",
    "* Podemos calcular float e integer, ambos os valores de tempo em segundos e nanossegundos.\n",
    "\n",
    "O programa abaixo solicita ao usuário dois números inteiros a serem inseridos em uma mesma linha. Ao entrar no loop, o programa solicita um novo valor. Se esse 3º valor for divisível pelo 2º valor, logo o resto será zero e último número inserido será impresso. O programa irá fazer esse loop a quantidade de vezes correspondente ao primeiro valor inserido."
   ]
  },
  {
   "cell_type": "code",
   "execution_count": null,
   "metadata": {},
   "outputs": [],
   "source": [
    "# Python program to show time by perf_counter()  \n",
    "from time import perf_counter \n",
    "  \n",
    "# entrada de numeros inteiros a partir do usuário, duas entradas em uma única linha\n",
    "print(\"Entre com dois valores inteiros\")\n",
    "n, m = map(int, input().split())  \n",
    "  \n",
    "# Start the stopwatch / counter \n",
    "t1_start = perf_counter()  \n",
    "  \n",
    "for i in range(n): \n",
    "    print(\"Insira um valor inteiro\")\n",
    "    t = int(input()) # usuário deu entrada n vezes\n",
    "    if t % m == 0: \n",
    "        print(t)  \n",
    "  \n",
    "# Stop the stopwatch / counter \n",
    "t1_stop = perf_counter() \n",
    "  \n",
    "print(\"Tempo decorrido:\", t1_stop, t1_start)  \n",
    "print(\"Tempo decorrido durante todo o programa, em segundos:\", t1_stop-t1_start) "
   ]
  },
  {
   "cell_type": "markdown",
   "metadata": {},
   "source": [
    "## 7.2 Módulo datetime\n",
    "\n",
    "* Datetime é um módulo que fornece as classes para o tratamento de datas, horas, minutos, segundos etc."
   ]
  },
  {
   "cell_type": "markdown",
   "metadata": {},
   "source": [
    "#### Armazenando e atribuindo valores"
   ]
  },
  {
   "cell_type": "code",
   "execution_count": null,
   "metadata": {},
   "outputs": [],
   "source": [
    "# armazenando uma data específica\n",
    "import datetime\n",
    "umadata = datetime.date(2021,2,8)\n",
    "print(umadata.day)"
   ]
  },
  {
   "cell_type": "code",
   "execution_count": null,
   "metadata": {
    "scrolled": false
   },
   "outputs": [],
   "source": [
    "# atribui valores a datatime\n",
    "print(datetime.datetime(2021,1,2,4,20,34,565 ))"
   ]
  },
  {
   "cell_type": "code",
   "execution_count": null,
   "metadata": {},
   "outputs": [],
   "source": [
    "# armazenando a data de hoje\n",
    "hoje = datetime.date.today()\n",
    "# imprimindo datas\n",
    "#print(hoje.day)\n",
    "print(hoje.weekday()) # segunda feira = 0 e domingo = 6\n",
    "print(hoje.isoweekday()) # segunda feira = 1 e domingo = 7"
   ]
  },
  {
   "cell_type": "code",
   "execution_count": null,
   "metadata": {},
   "outputs": [],
   "source": [
    "# atribuindo a data e o tempo atual ao objeto y\n",
    "y = datetime.datetime.now()"
   ]
  },
  {
   "cell_type": "code",
   "execution_count": null,
   "metadata": {},
   "outputs": [],
   "source": [
    "# opssss.... imprimindo o ano, mês e dia\n",
    "y.year\n",
    "y.month\n",
    "y.day"
   ]
  },
  {
   "cell_type": "code",
   "execution_count": null,
   "metadata": {},
   "outputs": [],
   "source": [
    "# imprimindo o ano, mês e dia\n",
    "print(y.year)\n",
    "print(y.month)\n",
    "print(y.day)"
   ]
  },
  {
   "cell_type": "markdown",
   "metadata": {},
   "source": [
    "#### Imprimindo uma lista de datas no intervalo entre duas datas\n",
    "\n",
    "* A função Python timedelta () está presente na biblioteca datetime, que geralmente é usada para calcular diferenças em datas e também pode ser usada para manipulações de datas em Python. \n",
    "* É uma das maneiras mais fáceis de realizar manipulações de datas."
   ]
  },
  {
   "cell_type": "code",
   "execution_count": null,
   "metadata": {},
   "outputs": [],
   "source": [
    "import datetime\n",
    "\n",
    "# Definindo o tamanho de cada passo em dias\n",
    "day_delta = datetime.timedelta(days=1)\n",
    "\n",
    "start_date = datetime.date.today()\n",
    "end_date = start_date + 5*day_delta\n",
    "\n",
    "for i in range((end_date - start_date).days):\n",
    "    print(start_date + i*day_delta)"
   ]
  },
  {
   "cell_type": "markdown",
   "metadata": {},
   "source": [
    "#### Calculando a difereça entre dias"
   ]
  },
  {
   "cell_type": "code",
   "execution_count": null,
   "metadata": {},
   "outputs": [],
   "source": [
    "# calculando a difereça entre dias\n",
    "b1 = datetime.timedelta(days=25)\n",
    "b2 = datetime.timedelta(days=15)\n",
    "b3 = b2-b1\n",
    "print(b3)\n",
    "print(type(b3))"
   ]
  },
  {
   "cell_type": "code",
   "execution_count": null,
   "metadata": {},
   "outputs": [],
   "source": [
    "# calculando a difereça entre dias entre uma data especifica e a data atual\n",
    "from datetime import datetime, timedelta\n",
    "now = datetime.now()\n",
    "then = datetime(2019, 5, 23)\n",
    "delta = now-then\n",
    "print(delta)"
   ]
  },
  {
   "cell_type": "code",
   "execution_count": 1,
   "metadata": {
    "scrolled": true
   },
   "outputs": [
    {
     "name": "stdout",
     "output_type": "stream",
     "text": [
      "Today: 2021-02-08\n",
      "Yesterday: 2021-02-07\n",
      "Tomorrow: 2021-02-09\n",
      "Time between tomorrow and yesterday: 2 days, 0:00:00\n"
     ]
    }
   ],
   "source": [
    "# calculando a diferença entre amanhã e ontem\n",
    "import datetime\n",
    "\n",
    "today = datetime.date.today()\n",
    "print('Today:', today)\n",
    "\n",
    "yesterday = today - datetime.timedelta(days=1)\n",
    "print('Yesterday:', yesterday)\n",
    "\n",
    "tomorrow = today + datetime.timedelta(days=1)\n",
    "print('Tomorrow:', tomorrow)\n",
    "\n",
    "print('Time between tomorrow and yesterday:', tomorrow - yesterday)"
   ]
  },
  {
   "cell_type": "markdown",
   "metadata": {},
   "source": [
    "#### Convertendo strings no formato data e tempo"
   ]
  },
  {
   "cell_type": "code",
   "execution_count": 3,
   "metadata": {},
   "outputs": [
    {
     "data": {
      "text/plain": [
       "datetime.timedelta(0, 42349, 145183)"
      ]
     },
     "execution_count": 3,
     "metadata": {},
     "output_type": "execute_result"
    }
   ],
   "source": [
    "# convertendo strings no formato data e tempo\n",
    "from datetime import datetime\n",
    "from datetime import timedelta\n",
    "texto = '2021-02-08'\n",
    "y = datetime.strptime(texto, '%Y-%m-%d')\n",
    "z = datetime.now()\n",
    "diff = z - y\n",
    "diff\n"
   ]
  }
 ],
 "metadata": {
  "kernelspec": {
   "display_name": "Python 3 (ipykernel)",
   "language": "python",
   "name": "python3"
  },
  "language_info": {
   "codemirror_mode": {
    "name": "ipython",
    "version": 3
   },
   "file_extension": ".py",
   "mimetype": "text/x-python",
   "name": "python",
   "nbconvert_exporter": "python",
   "pygments_lexer": "ipython3",
   "version": "3.9.7"
  }
 },
 "nbformat": 4,
 "nbformat_minor": 4
}
