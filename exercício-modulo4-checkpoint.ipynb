{
 "cells": [
  {
   "cell_type": "markdown",
   "id": "a2fca07a",
   "metadata": {},
   "source": [
    "# trabalhando com banco de dados me deseje sorte!!!\n",
    "\n",
    "\n",
    "### oo"
   ]
  },
  {
   "cell_type": "code",
   "execution_count": 1,
   "id": "6d28d81c",
   "metadata": {},
   "outputs": [],
   "source": [
    "import sqlite3"
   ]
  },
  {
   "cell_type": "code",
   "execution_count": 2,
   "id": "c1f1dd60",
   "metadata": {},
   "outputs": [
    {
     "name": "stdout",
     "output_type": "stream",
     "text": [
      "<sqlite3.Connection object at 0x0000023E3F7D2A80>\n"
     ]
    }
   ],
   "source": [
    "conn = sqlite3.connect(\"primeiro_banco_dados.db\") \n",
    "\n",
    "print(conn)\n"
   ]
  },
  {
   "cell_type": "code",
   "execution_count": 3,
   "id": "f41caf82",
   "metadata": {},
   "outputs": [],
   "source": [
    "cursor = conn.cursor()\n"
   ]
  },
  {
   "cell_type": "markdown",
   "id": "1d1200b3",
   "metadata": {},
   "source": [
    "#criando a tabela vamos começar a brincadeira..."
   ]
  },
  {
   "cell_type": "code",
   "execution_count": 6,
   "id": "be2d19f1",
   "metadata": {},
   "outputs": [
    {
     "data": {
      "text/plain": [
       "[]"
      ]
     },
     "execution_count": 6,
     "metadata": {},
     "output_type": "execute_result"
    }
   ],
   "source": [
    "cursor.execute(\"SELECT * FROM dados_cadastrais\")\n",
    "cursor.fetchall()"
   ]
  },
  {
   "cell_type": "markdown",
   "id": "06a63e4e",
   "metadata": {},
   "source": [
    "# ALTER TABLE _nometabela ADD COLUMN nome e tipo"
   ]
  },
  {
   "cell_type": "code",
   "execution_count": 15,
   "id": "ab8920a4",
   "metadata": {},
   "outputs": [
    {
     "data": {
      "text/plain": [
       "<sqlite3.Cursor at 0x23e3f923110>"
      ]
     },
     "execution_count": 15,
     "metadata": {},
     "output_type": "execute_result"
    }
   ],
   "source": [
    "cursor.execute(\"DROP TABLE dados_cadastrais\")"
   ]
  },
  {
   "cell_type": "code",
   "execution_count": 16,
   "id": "9d7be8f6",
   "metadata": {},
   "outputs": [
    {
     "data": {
      "text/plain": [
       "<sqlite3.Cursor at 0x23e3f923110>"
      ]
     },
     "execution_count": 16,
     "metadata": {},
     "output_type": "execute_result"
    }
   ],
   "source": [
    "cursor.execute(\"CREATE TABLE dados_cadastrais (user_id integer, nome text, sobrenome text, data_nascimento integer,cpf integer, endereço text)\")"
   ]
  },
  {
   "cell_type": "code",
   "execution_count": 18,
   "id": "aa100f88",
   "metadata": {},
   "outputs": [],
   "source": [
    "cursor.execute(\"INSERT INTO dados_cadastrais VALUES(1, 'maria', 'silva', 0, '11111211313', 'Rua 1 - SP')\")\n",
    "cursor.execute(\"INSERT INTO dados_cadastrais VALUES(2, 'joao', 'silva', 0, '11111211889', 'Rua 2 - SP')\")\n",
    "cursor.execute(\"INSERT INTO dados_cadastrais VALUES(3, 'pedro', 'pereira', 0, '11111211786', 'Rua 8 - SP')\")\n",
    "cursor.execute(\"INSERT INTO dados_cadastrais VALUES(4, 'paulo', 'ribeiro', 0, '11111211123', 'Rua 9 - SP')\")\n",
    "conn.commit()"
   ]
  },
  {
   "cell_type": "code",
   "execution_count": 24,
   "id": "2c25a726",
   "metadata": {},
   "outputs": [
    {
     "data": {
      "text/plain": [
       "<sqlite3.Cursor at 0x23e3f923110>"
      ]
     },
     "execution_count": 24,
     "metadata": {},
     "output_type": "execute_result"
    }
   ],
   "source": [
    "cursor.execute(\"DROP TABLE dados_profissionais\")"
   ]
  },
  {
   "cell_type": "code",
   "execution_count": 25,
   "id": "19b67676",
   "metadata": {},
   "outputs": [
    {
     "data": {
      "text/plain": [
       "<sqlite3.Cursor at 0x23e3f923110>"
      ]
     },
     "execution_count": 25,
     "metadata": {},
     "output_type": "execute_result"
    }
   ],
   "source": [
    "cursor.execute(\"CREATE TABLE dados_profissionais (user_id integer, graduaçao text, cargo text, salario integer, tempo_casa)\")"
   ]
  },
  {
   "cell_type": "code",
   "execution_count": 26,
   "id": "0c4c11a2",
   "metadata": {},
   "outputs": [],
   "source": [
    "cursor.execute(\"INSERT INTO dados_profissionais VALUES(1, 'matematica', 'professor', 3500.89, 3)\")\n",
    "cursor.execute(\"INSERT INTO dados_profissionais VALUES(2, 'geografia', 'orientador', 2850.80, 1)\")\n",
    "cursor.execute(\"INSERT INTO dados_profissionais VALUES(3, 'historia', 'orientador', 3200.45, 1)\")\n",
    "cursor.execute(\"INSERT INTO dados_profissionais VALUES(4, 'matematica', 'professor', 1890.33, 2)\")\n",
    "conn.commit()"
   ]
  },
  {
   "cell_type": "code",
   "execution_count": 27,
   "id": "faa192ae",
   "metadata": {},
   "outputs": [],
   "source": [
    "# tabela motadas... agora vamos brincar com elas um pouco.\n",
    "\n",
    "#fazer os testes... primeiro teste, Ordem decrescente do tempo de casa"
   ]
  },
  {
   "cell_type": "code",
   "execution_count": 30,
   "id": "21f8e54f",
   "metadata": {},
   "outputs": [
    {
     "data": {
      "text/plain": [
       "[(1, 'matematica', 'professor', 3500.89, 3),\n",
       " (4, 'matematica', 'professor', 1890.33, 2),\n",
       " (2, 'geografia', 'orientador', 2850.8, 1),\n",
       " (3, 'historia', 'orientador', 3200.45, 1)]"
      ]
     },
     "execution_count": 30,
     "metadata": {},
     "output_type": "execute_result"
    }
   ],
   "source": [
    "cursor.execute(\"SELECT * FROM dados_profissionais ORDER BY tempo_casa DESC\")\n",
    "cursor.fetchall()"
   ]
  },
  {
   "cell_type": "code",
   "execution_count": 34,
   "id": "9d5fd2d1",
   "metadata": {},
   "outputs": [
    {
     "data": {
      "text/plain": [
       "[(4,)]"
      ]
     },
     "execution_count": 34,
     "metadata": {},
     "output_type": "execute_result"
    }
   ],
   "source": [
    "# hora da matematica ... vamos contar os funcionarios ... engraçado mesmo eu limpando a tabela... continua somando whats????\n",
    "\n",
    "cursor.execute(\"SELECT COUNT(user_id) FROM dados_profissionais\")\n",
    "cursor.fetchall()"
   ]
  },
  {
   "cell_type": "code",
   "execution_count": 37,
   "id": "bc9aedcf",
   "metadata": {},
   "outputs": [
    {
     "data": {
      "text/plain": [
       "[(2, 'joao', 'silva', 0, 11111211889, 'Rua 2 - SP'),\n",
       " (2, 'joao', 'silva', 0, 11111211889, 'Rua 2 - SP'),\n",
       " (1, 'maria', 'silva', 0, 11111211313, 'Rua 1 - SP'),\n",
       " (1, 'maria', 'silva', 0, 11111211313, 'Rua 1 - SP')]"
      ]
     },
     "execution_count": 37,
     "metadata": {},
     "output_type": "execute_result"
    }
   ],
   "source": [
    "# Vamos selecionar os silvas... \n",
    "\n",
    "cursor.execute(\"SELECT * FROM dados_cadastrais WHERE sobrenome = 'silva' ORDER BY nome,sobrenome \")\n",
    "cursor.fetchall()\n",
    "\n"
   ]
  },
  {
   "cell_type": "code",
   "execution_count": 46,
   "id": "18c13570",
   "metadata": {},
   "outputs": [
    {
     "data": {
      "text/plain": [
       "[('orientador', 6051.25), ('professor', 5391.219999999999)]"
      ]
     },
     "execution_count": 46,
     "metadata": {},
     "output_type": "execute_result"
    }
   ],
   "source": [
    "# agora somar os valores por cargo \n",
    "\n",
    "cursor.execute(\"SELECT cargo, SUM(salario)FROM dados_profissionais GROUP BY cargo \")\n",
    "cursor.fetchall()"
   ]
  },
  {
   "cell_type": "code",
   "execution_count": null,
   "id": "da6bb7f4",
   "metadata": {},
   "outputs": [],
   "source": []
  }
 ],
 "metadata": {
  "kernelspec": {
   "display_name": "Python 3 (ipykernel)",
   "language": "python",
   "name": "python3"
  },
  "language_info": {
   "codemirror_mode": {
    "name": "ipython",
    "version": 3
   },
   "file_extension": ".py",
   "mimetype": "text/x-python",
   "name": "python",
   "nbconvert_exporter": "python",
   "pygments_lexer": "ipython3",
   "version": "3.9.7"
  }
 },
 "nbformat": 4,
 "nbformat_minor": 5
}
