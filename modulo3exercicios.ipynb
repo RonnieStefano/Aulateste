{
 "cells": [
  {
   "cell_type": "markdown",
   "id": "49145640",
   "metadata": {},
   "source": [
    "# exercicio 1 modulo 3 "
   ]
  },
  {
   "cell_type": "code",
   "execution_count": 1,
   "id": "2301db1f",
   "metadata": {},
   "outputs": [],
   "source": [
    "list_newyear = [\"noob\", \"beta\", \"alpha\", \"delta\", \"zeugma\"]"
   ]
  },
  {
   "cell_type": "code",
   "execution_count": 2,
   "id": "68f41900",
   "metadata": {},
   "outputs": [
    {
     "data": {
      "text/plain": [
       "list"
      ]
     },
     "execution_count": 2,
     "metadata": {},
     "output_type": "execute_result"
    }
   ],
   "source": [
    "type(list_newyear)"
   ]
  },
  {
   "cell_type": "code",
   "execution_count": 5,
   "id": "67c1356d",
   "metadata": {},
   "outputs": [],
   "source": [
    "list_newyear.insert(0,'jessika')"
   ]
  },
  {
   "cell_type": "code",
   "execution_count": 6,
   "id": "c7c1909c",
   "metadata": {},
   "outputs": [
    {
     "name": "stdout",
     "output_type": "stream",
     "text": [
      "['jessika', 'noob', 'beta', 'alpha', 'delta', 'zeugma']\n"
     ]
    }
   ],
   "source": [
    "print(list_newyear)"
   ]
  },
  {
   "cell_type": "code",
   "execution_count": 17,
   "id": "7e4888d3",
   "metadata": {},
   "outputs": [],
   "source": [
    "def cliente():\n",
    "    print(' beta\\n super\\n noob\\n ')  "
   ]
  },
  {
   "cell_type": "code",
   "execution_count": 18,
   "id": "87cd904a",
   "metadata": {},
   "outputs": [
    {
     "name": "stdout",
     "output_type": "stream",
     "text": [
      " beta\n",
      " super\n",
      " noob\n",
      " \n"
     ]
    }
   ],
   "source": [
    "cliente()"
   ]
  },
  {
   "cell_type": "markdown",
   "id": "b933c013",
   "metadata": {},
   "source": [
    "# Começo do exercicio\n",
    "#### fazendo alguns teste inicias e carregando algumas coisas, desconsiderar parte de cima"
   ]
  },
  {
   "cell_type": "code",
   "execution_count": 10,
   "id": "62724429",
   "metadata": {},
   "outputs": [],
   "source": [
    "list_mod3 = ['2','4','6','7','8','11']"
   ]
  },
  {
   "cell_type": "code",
   "execution_count": 11,
   "id": "0941d30d",
   "metadata": {},
   "outputs": [],
   "source": [
    "def identifica_pares_na_lista(list_mod3):\n",
    "    pares = []\n",
    "    for i in list_mod3:\n",
    "        if i % 2 == 0:\n",
    "            pares.append(i)\n",
    "        else:\n",
    "            continue\n",
    "    return pares"
   ]
  },
  {
   "cell_type": "code",
   "execution_count": 12,
   "id": "db2ce7b4",
   "metadata": {},
   "outputs": [
    {
     "data": {
      "text/plain": [
       "[2, 4, 6, 8]"
      ]
     },
     "execution_count": 12,
     "metadata": {},
     "output_type": "execute_result"
    }
   ],
   "source": [
    "pares_lista = identifica_pares_na_lista([2,4,6,7,8])\n",
    "\n",
    "pares_lista"
   ]
  },
  {
   "cell_type": "code",
   "execution_count": 13,
   "id": "7d7aaa4b",
   "metadata": {},
   "outputs": [
    {
     "data": {
      "text/plain": [
       "['2', '4', '6', '7', '8', '11']"
      ]
     },
     "execution_count": 13,
     "metadata": {},
     "output_type": "execute_result"
    }
   ],
   "source": [
    "list_mod3"
   ]
  },
  {
   "cell_type": "markdown",
   "id": "cfa77ad3",
   "metadata": {},
   "source": [
    "# execicio 2 modulo 3\n",
    "####  MOdulo random\n"
   ]
  },
  {
   "cell_type": "code",
   "execution_count": null,
   "id": "a27ba9fe",
   "metadata": {},
   "outputs": [],
   "source": [
    "import  random"
   ]
  },
  {
   "cell_type": "code",
   "execution_count": 14,
   "id": "d9cf5bc2",
   "metadata": {},
   "outputs": [],
   "source": [
    "r = random.randint(1,100)  # Computador gera um número aleatório de 1 a 100"
   ]
  },
  {
   "cell_type": "code",
   "execution_count": 15,
   "id": "638e2bf0",
   "metadata": {},
   "outputs": [
    {
     "name": "stdout",
     "output_type": "stream",
     "text": [
      "favor inserir apenas numeros, se não o codigo da erro, brincadeira oO, mas ele so funciona se for numero inteiro!\n",
      "Digite um número de sorteios: 45\n",
      "3 numero sorteado\n",
      "40 numero sorteado\n",
      "91 numero sorteado\n",
      "81 numero sorteado\n",
      "73 numero sorteado\n",
      "92 numero sorteado\n",
      "68 numero sorteado\n",
      "43 numero sorteado\n",
      "28 numero sorteado\n",
      "91 numero sorteado\n",
      "22 numero sorteado\n",
      "78 numero sorteado\n",
      "65 numero sorteado\n",
      "20 numero sorteado\n",
      "41 numero sorteado\n",
      "14 numero sorteado\n",
      "89 numero sorteado\n",
      "43 numero sorteado\n",
      "100 numero sorteado\n",
      "23 numero sorteado\n",
      "36 numero sorteado\n",
      "17 numero sorteado\n",
      "25 numero sorteado\n",
      "97 numero sorteado\n",
      "13 numero sorteado\n",
      "85 numero sorteado\n",
      "41 numero sorteado\n",
      "43 numero sorteado\n",
      "93 numero sorteado\n",
      "12 numero sorteado\n",
      "64 numero sorteado\n",
      "91 numero sorteado\n",
      "9 numero sorteado\n",
      "17 numero sorteado\n",
      "93 numero sorteado\n",
      "31 numero sorteado\n",
      "6 numero sorteado\n",
      "86 numero sorteado\n",
      "82 numero sorteado\n",
      "89 numero sorteado\n",
      "94 numero sorteado\n",
      "13 numero sorteado\n",
      "48 numero sorteado\n",
      "35 numero sorteado\n",
      "21 numero sorteado\n",
      "numeros do sorteio estão pronto!!!\n"
     ]
    }
   ],
   "source": [
    "import  random\n",
    "\n",
    "r = random.randint(1,100)  # Computador gera um número aleatório de 1 a 100\n",
    "try:\n",
    "    print(\"favor inserir apenas numeros, se não o codigo da erro, brincadeira oO, mas ele so funciona se for numero inteiro!\")\n",
    "    num = int(input('Digite um número de sorteios: ')) \n",
    "    for r in range(num):\n",
    "        x = random.randint(1,100)\n",
    "        print((x),'numero sorteado')\n",
    "except ValueError:\n",
    "    print(\"Eu falei para usar numeros inteiros, vamos tentar novamente oO oo\")\n",
    "print('numeros do sorteio estão pronto!!!')    \n",
    "   "
   ]
  },
  {
   "cell_type": "markdown",
   "id": "b3f488d8",
   "metadata": {},
   "source": [
    "# cliente saldo e deposito\n",
    "### bora sacar uma grana"
   ]
  },
  {
   "cell_type": "code",
   "execution_count": 194,
   "id": "9eec6cfe",
   "metadata": {},
   "outputs": [],
   "source": [
    "import __init__"
   ]
  },
  {
   "cell_type": "code",
   "execution_count": null,
   "id": "4814bea7",
   "metadata": {},
   "outputs": [],
   "source": []
  },
  {
   "cell_type": "code",
   "execution_count": 234,
   "id": "020c6dd4",
   "metadata": {},
   "outputs": [],
   "source": [
    "class Clientes:\n",
    "    \n",
    "    def __init__(self, nome, saldo):\n",
    "        \n",
    "        #atributos\n",
    "        self.nome = input('insira seu nome:  ')\n",
    "        self.saldo = 0.0\n",
    "        \n",
    "        \n",
    "        #metodos\n",
    "    def depositar(self):\n",
    "        self.deposito = float(input('Digite o valor do deposito: '))                             \n",
    "        self.saldo = self.deposito + self.saldo\n",
    "        print('Meu novo saldo é:  ', self.saldo)\n",
    "    \n",
    "    def sacar(self):\n",
    "        self.saque = float(input('Digite o valor de saque:  '))\n",
    "        if self.saque <= self.deposito:\n",
    "             self.saldo = self.saldo - self.saque\n",
    "        else:\n",
    "            print('Seu saldo e insuficiente para realizar saque:  ')"
   ]
  },
  {
   "cell_type": "code",
   "execution_count": 246,
   "id": "119ce39e",
   "metadata": {},
   "outputs": [
    {
     "name": "stdout",
     "output_type": "stream",
     "text": [
      "insira seu nome:  noob\n",
      "noob\n",
      "0.0\n"
     ]
    }
   ],
   "source": [
    "Clientes1 = Clientes('beta', 100)\n",
    "\n",
    "print(Clientes1.nome)\n",
    "print(Clientes1.saldo)"
   ]
  },
  {
   "cell_type": "code",
   "execution_count": 247,
   "id": "6626e99f",
   "metadata": {},
   "outputs": [
    {
     "name": "stdout",
     "output_type": "stream",
     "text": [
      "noob\n"
     ]
    }
   ],
   "source": [
    "print(Clientes1.nome)"
   ]
  },
  {
   "cell_type": "code",
   "execution_count": 248,
   "id": "aa7b992e",
   "metadata": {},
   "outputs": [
    {
     "data": {
      "text/plain": [
       "<function Clientes.mro()>"
      ]
     },
     "execution_count": 248,
     "metadata": {},
     "output_type": "execute_result"
    }
   ],
   "source": [
    "Clientes.mro\n"
   ]
  },
  {
   "cell_type": "code",
   "execution_count": 249,
   "id": "6183289f",
   "metadata": {},
   "outputs": [
    {
     "data": {
      "text/plain": [
       "__main__.Clientes"
      ]
     },
     "execution_count": 249,
     "metadata": {},
     "output_type": "execute_result"
    }
   ],
   "source": [
    "type(Clientes1)"
   ]
  },
  {
   "cell_type": "code",
   "execution_count": 250,
   "id": "30b42de1",
   "metadata": {},
   "outputs": [
    {
     "name": "stdout",
     "output_type": "stream",
     "text": [
      "Digite o valor do deposito: 333\n",
      "Meu novo saldo é:   333.0\n"
     ]
    }
   ],
   "source": [
    "Clientes1.depositar()"
   ]
  },
  {
   "cell_type": "code",
   "execution_count": 251,
   "id": "5fbf1a7c",
   "metadata": {},
   "outputs": [
    {
     "name": "stdout",
     "output_type": "stream",
     "text": [
      "Digite o valor de saque:  444\n",
      "Seu saldo e insuficiente para realizar saque\n"
     ]
    }
   ],
   "source": [
    "Clientes1.sacar()"
   ]
  },
  {
   "cell_type": "markdown",
   "id": "d3d1c62d",
   "metadata": {},
   "source": [
    "# desconsiderar estou fazendo de modo mais manual... \n",
    "\n",
    "\n",
    "#### na verdade acho que precisa de mais funcçoes para interligar saque e deposito...."
   ]
  },
  {
   "cell_type": "code",
   "execution_count": 171,
   "id": "eb0bde14",
   "metadata": {},
   "outputs": [
    {
     "name": "stdout",
     "output_type": "stream",
     "text": [
      "Sua conta foi aberta, favor depositar o valor de 100 reais!!!\n",
      "Digite o valor do primeiro deposito:  100\n",
      "Parabens, você conseguiu fazer seu primeiro deposito... Seu saldo atual:   100\n"
     ]
    }
   ],
   "source": [
    "# olha a bagunça que fiz... mas funciona:\n",
    "print('Sua conta foi aberta, favor depositar o valor de 100 reais!!!')\n",
    "\n",
    "try:\n",
    "    dep = int(input('Digite o valor do primeiro deposito:  '))\n",
    "    primeiro_dep = 100\n",
    "\n",
    "    if dep == primeiro_dep:\n",
    "        print('Parabens, você conseguiu fazer seu primeiro deposito... Seu saldo atual:  ', dep)\n",
    "    else:\n",
    "        print('valor invalido, favor tentar novamente deposito de 100 reais!!!')\n",
    "except ValueError: # não foi digitado um número\n",
    "            print('Digite um número válido!!!')\n",
    "\n",
    "        \n"
   ]
  },
  {
   "cell_type": "code",
   "execution_count": 177,
   "id": "89cfc305",
   "metadata": {},
   "outputs": [
    {
     "name": "stdout",
     "output_type": "stream",
     "text": [
      "Agora vamos sacar 20 dinheiros da sua conta!!!\n",
      "Seu saldo Atual é:   80\n",
      "Ok, otimo você conseguiu fazer a primeira movimentação da sua conta!!!\n",
      "Se quiser fazer outro deposito ou saque,  utilize a funcão caixa_eletronico!!!\n"
     ]
    }
   ],
   "source": [
    "# vc ja depositou o valor de 100 reais  :), muito bem agora vamos sacar 20 dinheiros\n",
    "\n",
    "print('Agora vamos sacar 20 dinheiros da sua conta!!!')\n",
    "saque = dep-20        \n",
    "print('Seu saldo Atual é:  ', saque)\n",
    "\n",
    "print('Ok, otimo você conseguiu fazer a primeira movimentação da sua conta!!!')\n",
    "\n",
    "print('Se quiser fazer outro deposito ou saque,  utilize a funcão deposito!!!')\n"
   ]
  },
  {
   "cell_type": "code",
   "execution_count": 262,
   "id": "a38d6309",
   "metadata": {},
   "outputs": [
    {
     "ename": "SyntaxError",
     "evalue": "invalid syntax (Temp/ipykernel_20256/387256692.py, line 13)",
     "output_type": "error",
     "traceback": [
      "\u001b[1;36m  File \u001b[1;32m\"C:\\Users\\User\\AppData\\Local\\Temp/ipykernel_20256/387256692.py\"\u001b[1;36m, line \u001b[1;32m13\u001b[0m\n\u001b[1;33m    if teste = dep:\u001b[0m\n\u001b[1;37m             ^\u001b[0m\n\u001b[1;31mSyntaxError\u001b[0m\u001b[1;31m:\u001b[0m invalid syntax\n"
     ]
    }
   ],
   "source": [
    "# apenas tentado fazer um codigos... para quebrar a cabeça... descosiderar\n",
    "\n",
    "class saldo_cliente: \n",
    "\n",
    "\n",
    "    def deposito():\n",
    "        while True: # deposito \n",
    "            try:\n",
    "                saldo = 0\n",
    "                teste = saldo + 100 \n",
    "                print('Olá seja bem vindo ao Banco Mentorama\\n Saldo inicial antes da operação: ', saldo)\n",
    "                dep = int(input('favor inserir o valor de deposito de 100:  ')\n",
    "                if teste = dep:\n",
    "                    saldo = saldo+dep\n",
    "                    print('Status do saldo atual: ', saldo)\n",
    "                    break # valor válido, sai do while \n",
    "            except ValueError: # não foi digitado um número\n",
    "                else:\n",
    "                print('Digite um número válido!!!')\n",
    "        return saldo\n",
    "                      \n",
    "        while True: # sacar                  \n",
    "            try:\n",
    "                sacado = int(input('Digite o valor de saque:  '))\n",
    "                    if sacado <= dep:\n",
    "                    dep = dep-sacado\n",
    "                    print('seu novo saldo: ', dep)\n",
    "                    break # valor válido, sai do while            \n",
    "             # se não entrou no if acima, o valor é inválido\n",
    "                print('valor de saque invalido!!!')\n",
    "            except ValueError: # não foi digitado um número\n",
    "                print('Digite um número válido!!!')      \n",
    "        return dep\n",
    "\n",
    "                      #trabalhando a conta!!!\n",
    "\n",
    "            "
   ]
  },
  {
   "cell_type": "code",
   "execution_count": null,
   "id": "208a46d8",
   "metadata": {},
   "outputs": [],
   "source": []
  },
  {
   "cell_type": "code",
   "execution_count": null,
   "id": "1d1a7e51",
   "metadata": {},
   "outputs": [],
   "source": []
  },
  {
   "cell_type": "code",
   "execution_count": 259,
   "id": "3653c7ee",
   "metadata": {},
   "outputs": [
    {
     "ename": "SyntaxError",
     "evalue": "invalid syntax (Temp/ipykernel_20256/283523598.py, line 14)",
     "output_type": "error",
     "traceback": [
      "\u001b[1;36m  File \u001b[1;32m\"C:\\Users\\User\\AppData\\Local\\Temp/ipykernel_20256/283523598.py\"\u001b[1;36m, line \u001b[1;32m14\u001b[0m\n\u001b[1;33m    if dep = teste:\u001b[0m\n\u001b[1;37m           ^\u001b[0m\n\u001b[1;31mSyntaxError\u001b[0m\u001b[1;31m:\u001b[0m invalid syntax\n"
     ]
    }
   ],
   "source": [
    "# vc ja depositou o valor de 100 reais e sacou 20 :), muito bem agora vc pode movimentar sua conta.\n",
    "\n",
    "\n",
    "\n",
    "\n",
    "\n",
    "def deposito():\n",
    "    while True: # deposito \n",
    "        try:\n",
    "            saldo = 0\n",
    "            teste = saldo + 100 \n",
    "            print('Olá seja bem vindo ao Banco Mentorama,Saldo inicial antes da operação: ', 0)\n",
    "            dep = int(input('favor inserir o valor de deposito de 100:  ')\n",
    "            if dep = teste: \n",
    "                saldo = saldo+dep\n",
    "                print('Status do saldo atual: ', saldo)\n",
    "                break # valor válido, sai do while \n",
    "        except ValueError: # não foi digitado um número\n",
    "            print('Digite um número válido!!!')\n",
    "    return dep\n",
    "\n",
    "                      #trabalhando a conta!!!\n",
    "def saque(): \n",
    "    while True: # enquanto não digitar um valor válido, pede que digite novamente\n",
    "        try:\n",
    "            dep = deposito()\n",
    "            sacado = int(input('Digite o valor de saque:  '))\n",
    "            if sacado <= dep:\n",
    "                dep = dep-sacado\n",
    "                print('seu novo saldo: ', dep)\n",
    "                break # valor válido, sai do while            \n",
    "     # se não entrou no if acima, o valor é inválido\n",
    "            print('valor de saque invalido!!!')\n",
    "        except ValueError: # não foi digitado um número\n",
    "            print('Digite um número válido!!!')\n",
    "            \n",
    "            "
   ]
  },
  {
   "cell_type": "code",
   "execution_count": 139,
   "id": "82fded93",
   "metadata": {},
   "outputs": [
    {
     "name": "stdout",
     "output_type": "stream",
     "text": [
      "Olá seja bem vindo ao Banco Mentorama, opção 1 deposito:  44\n",
      "Saldo inicial antes da operação:  0\n",
      "Status do saldo atual:  44\n"
     ]
    },
    {
     "data": {
      "text/plain": [
       "44"
      ]
     },
     "execution_count": 139,
     "metadata": {},
     "output_type": "execute_result"
    }
   ],
   "source": [
    "deposito()"
   ]
  },
  {
   "cell_type": "code",
   "execution_count": null,
   "id": "dd5765bd",
   "metadata": {},
   "outputs": [],
   "source": []
  }
 ],
 "metadata": {
  "kernelspec": {
   "display_name": "Python 3 (ipykernel)",
   "language": "python",
   "name": "python3"
  },
  "language_info": {
   "codemirror_mode": {
    "name": "ipython",
    "version": 3
   },
   "file_extension": ".py",
   "mimetype": "text/x-python",
   "name": "python",
   "nbconvert_exporter": "python",
   "pygments_lexer": "ipython3",
   "version": "3.9.7"
  }
 },
 "nbformat": 4,
 "nbformat_minor": 5
}
