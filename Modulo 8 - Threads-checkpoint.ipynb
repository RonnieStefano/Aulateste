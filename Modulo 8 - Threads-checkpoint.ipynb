{
 "cells": [
  {
   "cell_type": "markdown",
   "metadata": {},
   "source": [
    "# Módulo 8 - Threads\n",
    "\n",
    "Ao final desse módulo você será capaz de aprender:\n",
    "\n",
    "* Como executar tarefas de forma paralela com threads\n",
    "* Vantagens e desvantagens no uso de threads\n",
    "* Iniciar objetos threads\n",
    "* Exemplos"
   ]
  },
  {
   "cell_type": "markdown",
   "metadata": {},
   "source": [
    "# 8. Threads\n",
    "\n",
    "* Iniciamos a nossa discussão sobre threads falando sobre os conceitos de processo, paralelismo, concorrência, multiprocessamento, dentre outros\n",
    "* Em Python, o módulo de threading fornece uma API muito simples e intuitiva para gerar vários threads em um programa. \n",
    "\n",
    "\n",
    "#### Inicializando threads com funções\n",
    "\n",
    "* Podemos iniciar threads de formas diferentes: em termos de funções, classes. Vamos codar?"
   ]
  },
  {
   "cell_type": "code",
   "execution_count": 3,
   "metadata": {},
   "outputs": [
    {
     "name": "stdout",
     "output_type": "stream",
     "text": [
      "Processo 1 - Tarefa 1\n",
      "Processo 1 - Tarefa 2\n",
      "Processo 1 - Tarefa 3\n",
      "Processo 1 - Tarefa 4\n",
      "Processo 1 - Tarefa 5\n",
      "Processo 1 - Tarefa 6\n",
      "Processo 1 - Tarefa 7\n",
      "Processo 1 - Tarefa 8\n",
      "Processo 1 - Tarefa 9\n",
      "Processo 1 - Tarefa 10\n",
      "Processo 2 - Tarefa 1\n",
      "Processo 2 - Tarefa 2\n",
      "Processo 2 - Tarefa 3\n",
      "Processo 2 - Tarefa 4\n",
      "Processo 2 - Tarefa 5\n",
      "Processo 2 - Tarefa 6\n",
      "Processo 2 - Tarefa 7\n",
      "Processo 2 - Tarefa 8\n",
      "Processo 2 - Tarefa 9\n",
      "Processo 2 - Tarefa 10\n"
     ]
    }
   ],
   "source": [
    "# inicializando um thread com função\n",
    "from threading import Thread\n",
    "\n",
    "def func1():\n",
    "    # faz algo\n",
    "    for x in range(1,11):\n",
    "        print(\"Processo 1 - Tarefa\", x )\n",
    "        x +=1  \n",
    "\n",
    "def func2():\n",
    "    # faz algo\n",
    "    for x in range(1,11):\n",
    "        print(\"Processo 2 - Tarefa\", x)\n",
    "        x +=1\n",
    "t1 = Thread(target=func1).start()\n",
    "t2 = Thread(target=func2).start()"
   ]
  },
  {
   "cell_type": "markdown",
   "metadata": {},
   "source": [
    "#### Inicializando threads com funções e usando o módulo time"
   ]
  },
  {
   "cell_type": "code",
   "execution_count": 4,
   "metadata": {},
   "outputs": [
    {
     "name": "stdout",
     "output_type": "stream",
     "text": [
      "Processo 1 - Tarefa 1\n",
      "Processo 2 - Tarefa 1\n",
      "Processo 2 - Tarefa 2\n",
      "Processo 1 - Tarefa 2\n",
      "Processo 2 - Tarefa 3\n",
      "Processo 2 - Tarefa 4\n",
      "Processo 1 - Tarefa 3\n",
      "Processo 2 - Tarefa 5\n",
      "Processo 2 - Tarefa 6\n",
      "Processo 1 - Tarefa 4\n",
      "Processo 2 - Tarefa 7\n",
      "Processo 2 - Tarefa 8\n",
      "Processo 1 - Tarefa 5\n",
      "Processo 2 - Tarefa 9\n",
      "Processo 2 - Tarefa 10\n",
      "Processo 1 - Tarefa 6\n",
      "Processo 1 - Tarefa 7\n",
      "Processo 1 - Tarefa 8\n",
      "Processo 1 - Tarefa 9\n",
      "Processo 1 - Tarefa 10\n"
     ]
    }
   ],
   "source": [
    "# inicializando um thread com funções e usando o módulo time\n",
    "from threading import Thread\n",
    "import time\n",
    "def func1():\n",
    "    # faz algo\n",
    "    for x in range(1,11):\n",
    "        print(\"Processo 1 - Tarefa\", x )\n",
    "        time.sleep(2)\n",
    "        x +=1  \n",
    "\n",
    "def func2():\n",
    "    # faz algo\n",
    "    for x in range(1,11):\n",
    "        print(\"Processo 2 - Tarefa\", x)\n",
    "        time.sleep(1)\n",
    "        x +=1\n",
    "t1 = Thread(target=func1).start()\n",
    "t2 = Thread(target=func2).start()"
   ]
  },
  {
   "cell_type": "code",
   "execution_count": 13,
   "metadata": {},
   "outputs": [
    {
     "data": {
      "text/plain": [
       "<_MainThread(MainThread, started 7204)>"
      ]
     },
     "execution_count": 13,
     "metadata": {},
     "output_type": "execute_result"
    }
   ],
   "source": [
    "# identificando o nome da thread atual\n",
    "import threading\n",
    "import time\n",
    "threading.currentThread()"
   ]
  },
  {
   "cell_type": "code",
   "execution_count": 12,
   "metadata": {},
   "outputs": [
    {
     "data": {
      "text/plain": [
       "6"
      ]
     },
     "execution_count": 12,
     "metadata": {},
     "output_type": "execute_result"
    }
   ],
   "source": [
    "# indica a quantidade de threads ativas\n",
    "threading.active_count()"
   ]
  },
  {
   "cell_type": "code",
   "execution_count": 14,
   "metadata": {},
   "outputs": [
    {
     "data": {
      "text/plain": [
       "[<_MainThread(MainThread, started 7204)>,\n",
       " <Thread(Thread-6, started daemon 14576)>,\n",
       " <Heartbeat(Thread-7, started daemon 3648)>,\n",
       " <ControlThread(Thread-5, started daemon 10644)>,\n",
       " <HistorySavingThread(IPythonHistorySavingThread, started 7948)>,\n",
       " <ParentPollerWindows(Thread-4, started daemon 14116)>]"
      ]
     },
     "execution_count": 14,
     "metadata": {},
     "output_type": "execute_result"
    }
   ],
   "source": [
    "# mostra uma lista com todos os threads atualmente ativos\n",
    "threading.enumerate( ) "
   ]
  },
  {
   "cell_type": "code",
   "execution_count": 8,
   "metadata": {},
   "outputs": [
    {
     "data": {
      "text/plain": [
       "7204"
      ]
     },
     "execution_count": 8,
     "metadata": {},
     "output_type": "execute_result"
    }
   ],
   "source": [
    "# numero que identifica uma thread\n",
    "threading.get_ident( ) "
   ]
  },
  {
   "cell_type": "markdown",
   "metadata": {},
   "source": [
    "#### Inicializando threads com classes"
   ]
  },
  {
   "cell_type": "code",
   "execution_count": 10,
   "metadata": {},
   "outputs": [
    {
     "name": "stdout",
     "output_type": "stream",
     "text": [
      "Thread-19\n",
      "Thread-20\n",
      "Thread-21\n",
      "00\n",
      "1\n",
      "2\n",
      "\n",
      "1\n",
      "2\n",
      "3\n",
      "4\n",
      "5\n",
      "6\n",
      "3\n",
      "4\n",
      "57\n",
      "8\n",
      "9\n",
      "10\n",
      "\n",
      "6\n",
      "7\n",
      "8\n",
      "9\n",
      "10\n",
      "0\n",
      "1\n",
      "2\n",
      "3\n",
      "4\n",
      "5\n",
      "6\n",
      "7\n",
      "8\n",
      "9\n",
      "10\n"
     ]
    }
   ],
   "source": [
    "# inicializando um thread em classe\n",
    "from threading import Thread\n",
    "import time\n",
    "\n",
    "class MinhaThread:\n",
    "    def mostraNúmeros(self):\n",
    "        i = 0\n",
    "        print(threading.current_thread().getName())\n",
    "        time.sleep(1)\n",
    "        while(i<=10):\n",
    "            print(i)\n",
    "            i+=1\n",
    "obj = MinhaThread()\n",
    "t1 = Thread(target=obj.mostraNúmeros)\n",
    "t1.start()\n",
    "\n",
    "t2 = Thread(target=obj.mostraNúmeros)\n",
    "t2.start()\n",
    "\n",
    "t3 = Thread(target=obj.mostraNúmeros)\n",
    "t3.start()"
   ]
  },
  {
   "attachments": {
    "multithreading.png": {
     "image/png": "[encoded data removed]"
    }
   },
   "cell_type": "markdown",
   "metadata": {},
   "source": [
    "#### Aplicando o conceito de threads\n",
    "\n",
    "Vamos considerar o diagrama abaixo, no qual um processo contém dois threads ativos:\n",
    "![multithreading.png](attachment:multithreading.png)\n",
    "\n",
    "* O código abaixo ilustra a utilização de threads em um programa que imprime o quadrado e o cubo de um determinado número\n",
    "* As entradas são definidas por um mesmo valor inteiro, armazenado na variável num"
   ]
  },
  {
   "cell_type": "code",
   "execution_count": 11,
   "metadata": {},
   "outputs": [
    {
     "name": "stdout",
     "output_type": "stream",
     "text": [
      "Cube: 1000\n",
      "Square: 100\n",
      "Done!\n"
     ]
    }
   ],
   "source": [
    "# programa para ilustrar o conceito de thread\n",
    "# calculando o quadrao e o cubo de um número\n",
    "import time\n",
    "import threading \n",
    "\n",
    "def print_cube(num):\n",
    "    \"\"\"\n",
    "    function para imprimir o cubo de um determinado num\n",
    "    \"\"\"\n",
    "    time.sleep(5)\n",
    "    print(\"Cube: {}\".format(num * num * num))\n",
    "    \n",
    " \n",
    "def print_square(num):\n",
    "    \"\"\"\n",
    "    função para imprimir o quadrado de um determinado num\n",
    "    \"\"\"\n",
    "    time.sleep(10)\n",
    "    print(\"Square: {}\".format(num * num))\n",
    "    \n",
    " \n",
    "if __name__ == \"__main__\":\n",
    "    # criando threads\n",
    "    t1 = threading.Thread(target=print_square, args=(10,))\n",
    "    t2 = threading.Thread(target=print_cube, args=(10,))\n",
    " \n",
    "    # iniciando o thread 1\n",
    "    t1.start()\n",
    "    # iniciando o thread 2\n",
    "    t2.start()\n",
    " \n",
    "    # aguarde até o thread 1 seja executado completamente\n",
    "    t1.join()\n",
    "    # aguarde até o thread 2 seja executado completamente\n",
    "    t2.join()\n",
    " \n",
    "    # ambos os threads foram completamente executados\n",
    "    print(\"Done!\")\n"
   ]
  },
  {
   "cell_type": "code",
   "execution_count": null,
   "metadata": {},
   "outputs": [],
   "source": [
    "\n"
   ]
  }
 ],
 "metadata": {
  "kernelspec": {
   "display_name": "Python 3 (ipykernel)",
   "language": "python",
   "name": "python3"
  },
  "language_info": {
   "codemirror_mode": {
    "name": "ipython",
    "version": 3
   },
   "file_extension": ".py",
   "mimetype": "text/x-python",
   "name": "python",
   "nbconvert_exporter": "python",
   "pygments_lexer": "ipython3",
   "version": "3.9.7"
  }
 },
 "nbformat": 4,
 "nbformat_minor": 4
}
